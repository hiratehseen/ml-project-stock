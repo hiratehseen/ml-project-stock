{
 "cells": [
  {
   "cell_type": "code",
   "execution_count": 1,
   "metadata": {},
   "outputs": [
    {
     "data": {
      "text/html": [
       "<div>\n",
       "<style scoped>\n",
       "    .dataframe tbody tr th:only-of-type {\n",
       "        vertical-align: middle;\n",
       "    }\n",
       "\n",
       "    .dataframe tbody tr th {\n",
       "        vertical-align: top;\n",
       "    }\n",
       "\n",
       "    .dataframe thead th {\n",
       "        text-align: right;\n",
       "    }\n",
       "</style>\n",
       "<table border=\"1\" class=\"dataframe\">\n",
       "  <thead>\n",
       "    <tr style=\"text-align: right;\">\n",
       "      <th></th>\n",
       "      <th>Row ID</th>\n",
       "      <th>Order ID</th>\n",
       "      <th>Order Date</th>\n",
       "      <th>Ship Date</th>\n",
       "      <th>Ship Mode</th>\n",
       "      <th>Customer ID</th>\n",
       "      <th>Customer Name</th>\n",
       "      <th>Segment</th>\n",
       "      <th>Country</th>\n",
       "      <th>City</th>\n",
       "      <th>...</th>\n",
       "      <th>Postal Code</th>\n",
       "      <th>Region</th>\n",
       "      <th>Product ID</th>\n",
       "      <th>Category</th>\n",
       "      <th>Sub-Category</th>\n",
       "      <th>Product Name</th>\n",
       "      <th>Sales</th>\n",
       "      <th>Quantity</th>\n",
       "      <th>Discount</th>\n",
       "      <th>Profit</th>\n",
       "    </tr>\n",
       "  </thead>\n",
       "  <tbody>\n",
       "    <tr>\n",
       "      <th>0</th>\n",
       "      <td>1</td>\n",
       "      <td>CA-2016-152156</td>\n",
       "      <td>11/8/2016</td>\n",
       "      <td>11/11/2016</td>\n",
       "      <td>Second Class</td>\n",
       "      <td>CG-12520</td>\n",
       "      <td>Claire Gute</td>\n",
       "      <td>Consumer</td>\n",
       "      <td>United States</td>\n",
       "      <td>Henderson</td>\n",
       "      <td>...</td>\n",
       "      <td>42420</td>\n",
       "      <td>South</td>\n",
       "      <td>FUR-BO-10001798</td>\n",
       "      <td>Furniture</td>\n",
       "      <td>Bookcases</td>\n",
       "      <td>Bush Somerset Collection Bookcase</td>\n",
       "      <td>261.9600</td>\n",
       "      <td>2</td>\n",
       "      <td>0.00</td>\n",
       "      <td>41.9136</td>\n",
       "    </tr>\n",
       "    <tr>\n",
       "      <th>1</th>\n",
       "      <td>2</td>\n",
       "      <td>CA-2016-152156</td>\n",
       "      <td>11/8/2016</td>\n",
       "      <td>11/11/2016</td>\n",
       "      <td>Second Class</td>\n",
       "      <td>CG-12520</td>\n",
       "      <td>Claire Gute</td>\n",
       "      <td>Consumer</td>\n",
       "      <td>United States</td>\n",
       "      <td>Henderson</td>\n",
       "      <td>...</td>\n",
       "      <td>42420</td>\n",
       "      <td>South</td>\n",
       "      <td>FUR-CH-10000454</td>\n",
       "      <td>Furniture</td>\n",
       "      <td>Chairs</td>\n",
       "      <td>Hon Deluxe Fabric Upholstered Stacking Chairs,...</td>\n",
       "      <td>731.9400</td>\n",
       "      <td>3</td>\n",
       "      <td>0.00</td>\n",
       "      <td>219.5820</td>\n",
       "    </tr>\n",
       "    <tr>\n",
       "      <th>2</th>\n",
       "      <td>3</td>\n",
       "      <td>CA-2016-138688</td>\n",
       "      <td>6/12/2016</td>\n",
       "      <td>6/16/2016</td>\n",
       "      <td>Second Class</td>\n",
       "      <td>DV-13045</td>\n",
       "      <td>Darrin Van Huff</td>\n",
       "      <td>Corporate</td>\n",
       "      <td>United States</td>\n",
       "      <td>Los Angeles</td>\n",
       "      <td>...</td>\n",
       "      <td>90036</td>\n",
       "      <td>West</td>\n",
       "      <td>OFF-LA-10000240</td>\n",
       "      <td>Office Supplies</td>\n",
       "      <td>Labels</td>\n",
       "      <td>Self-Adhesive Address Labels for Typewriters b...</td>\n",
       "      <td>14.6200</td>\n",
       "      <td>2</td>\n",
       "      <td>0.00</td>\n",
       "      <td>6.8714</td>\n",
       "    </tr>\n",
       "    <tr>\n",
       "      <th>3</th>\n",
       "      <td>4</td>\n",
       "      <td>US-2015-108966</td>\n",
       "      <td>10/11/2015</td>\n",
       "      <td>10/18/2015</td>\n",
       "      <td>Standard Class</td>\n",
       "      <td>SO-20335</td>\n",
       "      <td>Sean O'Donnell</td>\n",
       "      <td>Consumer</td>\n",
       "      <td>United States</td>\n",
       "      <td>Fort Lauderdale</td>\n",
       "      <td>...</td>\n",
       "      <td>33311</td>\n",
       "      <td>South</td>\n",
       "      <td>FUR-TA-10000577</td>\n",
       "      <td>Furniture</td>\n",
       "      <td>Tables</td>\n",
       "      <td>Bretford CR4500 Series Slim Rectangular Table</td>\n",
       "      <td>957.5775</td>\n",
       "      <td>5</td>\n",
       "      <td>0.45</td>\n",
       "      <td>-383.0310</td>\n",
       "    </tr>\n",
       "    <tr>\n",
       "      <th>4</th>\n",
       "      <td>5</td>\n",
       "      <td>US-2015-108966</td>\n",
       "      <td>10/11/2015</td>\n",
       "      <td>10/18/2015</td>\n",
       "      <td>Standard Class</td>\n",
       "      <td>SO-20335</td>\n",
       "      <td>Sean O'Donnell</td>\n",
       "      <td>Consumer</td>\n",
       "      <td>United States</td>\n",
       "      <td>Fort Lauderdale</td>\n",
       "      <td>...</td>\n",
       "      <td>33311</td>\n",
       "      <td>South</td>\n",
       "      <td>OFF-ST-10000760</td>\n",
       "      <td>Office Supplies</td>\n",
       "      <td>Storage</td>\n",
       "      <td>Eldon Fold 'N Roll Cart System</td>\n",
       "      <td>22.3680</td>\n",
       "      <td>2</td>\n",
       "      <td>0.20</td>\n",
       "      <td>2.5164</td>\n",
       "    </tr>\n",
       "  </tbody>\n",
       "</table>\n",
       "<p>5 rows × 21 columns</p>\n",
       "</div>"
      ],
      "text/plain": [
       "   Row ID        Order ID  Order Date   Ship Date       Ship Mode Customer ID  \\\n",
       "0       1  CA-2016-152156   11/8/2016  11/11/2016    Second Class    CG-12520   \n",
       "1       2  CA-2016-152156   11/8/2016  11/11/2016    Second Class    CG-12520   \n",
       "2       3  CA-2016-138688   6/12/2016   6/16/2016    Second Class    DV-13045   \n",
       "3       4  US-2015-108966  10/11/2015  10/18/2015  Standard Class    SO-20335   \n",
       "4       5  US-2015-108966  10/11/2015  10/18/2015  Standard Class    SO-20335   \n",
       "\n",
       "     Customer Name    Segment        Country             City  ...  \\\n",
       "0      Claire Gute   Consumer  United States        Henderson  ...   \n",
       "1      Claire Gute   Consumer  United States        Henderson  ...   \n",
       "2  Darrin Van Huff  Corporate  United States      Los Angeles  ...   \n",
       "3   Sean O'Donnell   Consumer  United States  Fort Lauderdale  ...   \n",
       "4   Sean O'Donnell   Consumer  United States  Fort Lauderdale  ...   \n",
       "\n",
       "  Postal Code  Region       Product ID         Category Sub-Category  \\\n",
       "0       42420   South  FUR-BO-10001798        Furniture    Bookcases   \n",
       "1       42420   South  FUR-CH-10000454        Furniture       Chairs   \n",
       "2       90036    West  OFF-LA-10000240  Office Supplies       Labels   \n",
       "3       33311   South  FUR-TA-10000577        Furniture       Tables   \n",
       "4       33311   South  OFF-ST-10000760  Office Supplies      Storage   \n",
       "\n",
       "                                        Product Name     Sales  Quantity  \\\n",
       "0                  Bush Somerset Collection Bookcase  261.9600         2   \n",
       "1  Hon Deluxe Fabric Upholstered Stacking Chairs,...  731.9400         3   \n",
       "2  Self-Adhesive Address Labels for Typewriters b...   14.6200         2   \n",
       "3      Bretford CR4500 Series Slim Rectangular Table  957.5775         5   \n",
       "4                     Eldon Fold 'N Roll Cart System   22.3680         2   \n",
       "\n",
       "   Discount    Profit  \n",
       "0      0.00   41.9136  \n",
       "1      0.00  219.5820  \n",
       "2      0.00    6.8714  \n",
       "3      0.45 -383.0310  \n",
       "4      0.20    2.5164  \n",
       "\n",
       "[5 rows x 21 columns]"
      ]
     },
     "execution_count": 1,
     "metadata": {},
     "output_type": "execute_result"
    }
   ],
   "source": [
    "# import libraries\n",
    "import pandas as pd\n",
    "import plotly.express as px\n",
    "import plotly.graph_objects as go\n",
    "import plotly.io as pio\n",
    "import plotly.colors as colors\n",
    "\n",
    "# set default template for plots\n",
    "pio.templates.default = \"plotly_white\"\n",
    "\n",
    "# read data and encode characters\n",
    "data = pd.read_csv(\"Sample - Superstore.csv\", encoding='(ISO-8859-1')\n",
    "data.head()"
   ]
  },
  {
   "cell_type": "code",
   "execution_count": 2,
   "metadata": {},
   "outputs": [
    {
     "data": {
      "text/html": [
       "<div>\n",
       "<style scoped>\n",
       "    .dataframe tbody tr th:only-of-type {\n",
       "        vertical-align: middle;\n",
       "    }\n",
       "\n",
       "    .dataframe tbody tr th {\n",
       "        vertical-align: top;\n",
       "    }\n",
       "\n",
       "    .dataframe thead th {\n",
       "        text-align: right;\n",
       "    }\n",
       "</style>\n",
       "<table border=\"1\" class=\"dataframe\">\n",
       "  <thead>\n",
       "    <tr style=\"text-align: right;\">\n",
       "      <th></th>\n",
       "      <th>Row ID</th>\n",
       "      <th>Postal Code</th>\n",
       "      <th>Sales</th>\n",
       "      <th>Quantity</th>\n",
       "      <th>Discount</th>\n",
       "      <th>Profit</th>\n",
       "    </tr>\n",
       "  </thead>\n",
       "  <tbody>\n",
       "    <tr>\n",
       "      <th>count</th>\n",
       "      <td>9994.000000</td>\n",
       "      <td>9994.000000</td>\n",
       "      <td>9994.000000</td>\n",
       "      <td>9994.000000</td>\n",
       "      <td>9994.000000</td>\n",
       "      <td>9994.000000</td>\n",
       "    </tr>\n",
       "    <tr>\n",
       "      <th>mean</th>\n",
       "      <td>4997.500000</td>\n",
       "      <td>55190.379428</td>\n",
       "      <td>229.858001</td>\n",
       "      <td>3.789574</td>\n",
       "      <td>0.156203</td>\n",
       "      <td>28.656896</td>\n",
       "    </tr>\n",
       "    <tr>\n",
       "      <th>std</th>\n",
       "      <td>2885.163629</td>\n",
       "      <td>32063.693350</td>\n",
       "      <td>623.245101</td>\n",
       "      <td>2.225110</td>\n",
       "      <td>0.206452</td>\n",
       "      <td>234.260108</td>\n",
       "    </tr>\n",
       "    <tr>\n",
       "      <th>min</th>\n",
       "      <td>1.000000</td>\n",
       "      <td>1040.000000</td>\n",
       "      <td>0.444000</td>\n",
       "      <td>1.000000</td>\n",
       "      <td>0.000000</td>\n",
       "      <td>-6599.978000</td>\n",
       "    </tr>\n",
       "    <tr>\n",
       "      <th>25%</th>\n",
       "      <td>2499.250000</td>\n",
       "      <td>23223.000000</td>\n",
       "      <td>17.280000</td>\n",
       "      <td>2.000000</td>\n",
       "      <td>0.000000</td>\n",
       "      <td>1.728750</td>\n",
       "    </tr>\n",
       "    <tr>\n",
       "      <th>50%</th>\n",
       "      <td>4997.500000</td>\n",
       "      <td>56430.500000</td>\n",
       "      <td>54.490000</td>\n",
       "      <td>3.000000</td>\n",
       "      <td>0.200000</td>\n",
       "      <td>8.666500</td>\n",
       "    </tr>\n",
       "    <tr>\n",
       "      <th>75%</th>\n",
       "      <td>7495.750000</td>\n",
       "      <td>90008.000000</td>\n",
       "      <td>209.940000</td>\n",
       "      <td>5.000000</td>\n",
       "      <td>0.200000</td>\n",
       "      <td>29.364000</td>\n",
       "    </tr>\n",
       "    <tr>\n",
       "      <th>max</th>\n",
       "      <td>9994.000000</td>\n",
       "      <td>99301.000000</td>\n",
       "      <td>22638.480000</td>\n",
       "      <td>14.000000</td>\n",
       "      <td>0.800000</td>\n",
       "      <td>8399.976000</td>\n",
       "    </tr>\n",
       "  </tbody>\n",
       "</table>\n",
       "</div>"
      ],
      "text/plain": [
       "            Row ID   Postal Code         Sales     Quantity     Discount  \\\n",
       "count  9994.000000   9994.000000   9994.000000  9994.000000  9994.000000   \n",
       "mean   4997.500000  55190.379428    229.858001     3.789574     0.156203   \n",
       "std    2885.163629  32063.693350    623.245101     2.225110     0.206452   \n",
       "min       1.000000   1040.000000      0.444000     1.000000     0.000000   \n",
       "25%    2499.250000  23223.000000     17.280000     2.000000     0.000000   \n",
       "50%    4997.500000  56430.500000     54.490000     3.000000     0.200000   \n",
       "75%    7495.750000  90008.000000    209.940000     5.000000     0.200000   \n",
       "max    9994.000000  99301.000000  22638.480000    14.000000     0.800000   \n",
       "\n",
       "            Profit  \n",
       "count  9994.000000  \n",
       "mean     28.656896  \n",
       "std     234.260108  \n",
       "min   -6599.978000  \n",
       "25%       1.728750  \n",
       "50%       8.666500  \n",
       "75%      29.364000  \n",
       "max    8399.976000  "
      ]
     },
     "execution_count": 2,
     "metadata": {},
     "output_type": "execute_result"
    }
   ],
   "source": [
    "# statistical measures for each numeric column\n",
    "data.describe()"
   ]
  },
  {
   "cell_type": "code",
   "execution_count": 3,
   "metadata": {},
   "outputs": [],
   "source": [
    "# convert values to date and time format\n",
    "data['Order Date'] = pd.to_datetime(data['Order Date'])\n",
    "data['Ship Date'] = pd.to_datetime(data['Ship Date']) \n",
    "\n",
    "# add new columns for month, year and day of week according to order date\n",
    "data['Order Month'] = data['Order Date'].dt.month \n",
    "data['Order Year'] = data['Order Date'].dt.year\n",
    "data['Order Day of Week'] = data['Order Date'].dt.dayofweek"
   ]
  },
  {
   "cell_type": "code",
   "execution_count": 6,
   "metadata": {},
   "outputs": [
    {
     "data": {
      "application/vnd.plotly.v1+json": {
       "config": {
        "plotlyServerURL": "https://plot.ly"
       },
       "data": [
        {
         "name": "Instagram reach",
         "type": "box",
         "y": [
          2,
          3,
          2,
          5,
          2,
          7,
          4,
          6,
          3,
          5,
          9,
          4,
          3,
          3,
          5,
          3,
          6,
          2,
          2,
          3,
          4,
          7,
          7,
          2,
          3,
          2,
          3,
          7,
          2,
          3,
          2,
          6,
          6,
          2,
          3,
          7,
          5,
          9,
          3,
          3,
          4,
          4,
          2,
          2,
          2,
          2,
          4,
          3,
          2,
          6,
          6,
          2,
          1,
          7,
          5,
          6,
          5,
          5,
          2,
          2,
          4,
          1,
          2,
          6,
          3,
          4,
          5,
          8,
          4,
          2,
          1,
          3,
          8,
          2,
          1,
          3,
          3,
          3,
          5,
          1,
          3,
          5,
          1,
          7,
          3,
          2,
          1,
          2,
          7,
          3,
          2,
          1,
          2,
          3,
          2,
          1,
          7,
          3,
          6,
          7,
          3,
          3,
          4,
          6,
          3,
          3,
          8,
          1,
          1,
          5,
          2,
          2,
          6,
          14,
          2,
          3,
          6,
          3,
          1,
          3,
          4,
          6,
          9,
          7,
          3,
          6,
          2,
          7,
          2,
          3,
          5,
          2,
          9,
          3,
          1,
          4,
          2,
          3,
          6,
          14,
          2,
          3,
          3,
          3,
          3,
          7,
          4,
          11,
          3,
          8,
          5,
          5,
          2,
          7,
          4,
          6,
          3,
          2,
          2,
          7,
          1,
          2,
          5,
          2,
          3,
          8,
          3,
          9,
          6,
          5,
          3,
          3,
          2,
          7,
          2,
          4,
          4,
          7,
          5,
          1,
          2,
          7,
          4,
          5,
          2,
          2,
          8,
          3,
          3,
          4,
          6,
          8,
          3,
          5,
          7,
          2,
          3,
          3,
          2,
          3,
          3,
          2,
          1,
          2,
          7,
          4,
          4,
          2,
          4,
          9,
          1,
          2,
          2,
          5,
          3,
          9,
          2,
          6,
          3,
          2,
          6,
          4,
          4,
          4,
          2,
          1,
          5,
          1,
          2,
          8,
          7,
          2,
          3,
          2,
          3,
          3,
          2,
          5,
          5,
          3,
          2,
          5,
          3,
          2,
          7,
          2,
          6,
          5,
          4,
          2,
          1,
          13,
          6,
          4,
          9,
          2,
          5,
          6,
          3,
          3,
          5,
          2,
          3,
          7,
          4,
          2,
          3,
          6,
          1,
          3,
          4,
          7,
          3,
          3,
          2,
          1,
          2,
          4,
          6,
          3,
          5,
          7,
          5,
          5,
          5,
          6,
          7,
          2,
          5,
          7,
          8,
          2,
          3,
          8,
          3,
          3,
          5,
          3,
          5,
          8,
          3,
          4,
          1,
          3,
          2,
          3,
          3,
          6,
          1,
          4,
          2,
          1,
          3,
          3,
          2,
          3,
          4,
          1,
          2,
          6,
          4,
          1,
          2,
          6,
          1,
          1,
          3,
          2,
          4,
          10,
          6,
          2,
          2,
          3,
          1,
          2,
          4,
          2,
          3,
          4,
          4,
          10,
          13,
          12,
          4,
          3,
          3,
          2,
          2,
          1,
          2,
          1,
          4,
          4,
          6,
          2,
          4,
          5,
          5,
          8,
          2,
          2,
          3,
          2,
          8,
          4,
          4,
          2,
          7,
          4,
          5,
          3,
          5,
          8,
          1,
          10,
          4,
          7,
          3,
          3,
          4,
          7,
          3,
          2,
          3,
          3,
          4,
          1,
          1,
          4,
          2,
          2,
          3,
          3,
          3,
          2,
          2,
          4,
          3,
          4,
          4,
          2,
          2,
          6,
          3,
          5,
          3,
          5,
          7,
          1,
          9,
          1,
          13,
          2,
          7,
          4,
          8,
          5,
          1,
          4,
          1,
          6,
          4,
          3,
          4,
          2,
          8,
          1,
          6,
          2,
          7,
          5,
          2,
          5,
          2,
          5,
          3,
          7,
          8,
          3,
          1,
          3,
          3,
          4,
          3,
          7,
          1,
          3,
          3,
          6,
          3,
          3,
          4,
          2,
          2,
          4,
          2,
          3,
          2,
          4,
          9,
          3,
          5,
          6,
          5,
          2,
          2,
          7,
          2,
          3,
          1,
          3,
          2,
          4,
          6,
          7,
          5,
          6,
          3,
          5,
          5,
          3,
          2,
          2,
          2,
          5,
          5,
          6,
          1,
          2,
          2,
          5,
          3,
          2,
          3,
          2,
          8,
          4,
          2,
          9,
          2,
          2,
          2,
          3,
          1,
          5,
          1,
          3,
          3,
          5,
          3,
          2,
          3,
          3,
          2,
          5,
          3,
          2,
          3,
          1,
          2,
          9,
          2,
          3,
          2,
          5,
          3,
          3,
          3,
          1,
          6,
          1,
          3,
          5,
          5,
          2,
          7,
          4,
          3,
          4,
          6,
          8,
          9,
          2,
          1,
          4,
          6,
          2,
          9,
          3,
          5,
          2,
          1,
          3,
          2,
          4,
          2,
          4,
          5,
          3,
          7,
          5,
          3,
          2,
          1,
          3,
          8,
          7,
          3,
          3,
          7,
          4,
          7,
          3,
          3,
          14,
          4,
          2,
          2,
          1,
          4,
          3,
          2,
          3,
          7,
          4,
          1,
          3,
          2,
          4,
          3,
          2,
          2,
          3,
          2,
          3,
          5,
          8,
          2,
          3,
          4,
          2,
          1,
          3,
          3,
          4,
          3,
          2,
          9,
          2,
          3,
          4,
          2,
          9,
          10,
          2,
          2,
          2,
          9,
          1,
          3,
          5,
          2,
          5,
          4,
          9,
          7,
          2,
          5,
          3,
          3,
          5,
          4,
          3,
          3,
          3,
          3,
          3,
          5,
          4,
          3,
          2,
          7,
          4,
          1,
          2,
          5,
          2,
          4,
          3,
          4,
          10,
          2,
          8,
          2,
          2,
          2,
          2,
          2,
          7,
          14,
          5,
          3,
          5,
          3,
          3,
          3,
          3,
          5,
          3,
          1,
          8,
          5,
          3,
          5,
          3,
          3,
          3,
          3,
          3,
          3,
          2,
          4,
          4,
          2,
          3,
          2,
          3,
          2,
          1,
          1,
          3,
          1,
          5,
          8,
          4,
          7,
          4,
          1,
          2,
          3,
          3,
          3,
          3,
          2,
          5,
          1,
          4,
          5,
          8,
          1,
          4,
          6,
          2,
          3,
          5,
          2,
          3,
          3,
          6,
          3,
          3,
          3,
          5,
          7,
          2,
          1,
          8,
          2,
          3,
          3,
          2,
          3,
          3,
          6,
          4,
          1,
          5,
          2,
          3,
          3,
          2,
          5,
          1,
          1,
          4,
          10,
          4,
          1,
          3,
          11,
          7,
          1,
          3,
          4,
          4,
          2,
          4,
          3,
          4,
          9,
          3,
          3,
          2,
          3,
          6,
          3,
          6,
          2,
          2,
          2,
          3,
          5,
          1,
          2,
          7,
          7,
          3,
          3,
          4,
          1,
          5,
          2,
          1,
          2,
          3,
          2,
          2,
          4,
          1,
          8,
          3,
          5,
          2,
          4,
          7,
          7,
          2,
          7,
          5,
          1,
          2,
          9,
          2,
          2,
          3,
          4,
          2,
          3,
          4,
          5,
          4,
          2,
          2,
          7,
          8,
          1,
          8,
          3,
          5,
          3,
          4,
          3,
          2,
          4,
          3,
          7,
          4,
          2,
          2,
          3,
          2,
          1,
          2,
          2,
          1,
          4,
          2,
          3,
          3,
          4,
          4,
          4,
          4,
          2,
          2,
          7,
          3,
          4,
          7,
          2,
          6,
          6,
          2,
          3,
          2,
          10,
          2,
          1,
          2,
          2,
          2,
          6,
          2,
          2,
          1,
          1,
          4,
          6,
          5,
          3,
          3,
          2,
          7,
          5,
          3,
          1,
          3,
          4,
          3,
          5,
          2,
          4,
          5,
          2,
          3,
          12,
          7,
          6,
          5,
          3,
          1,
          4,
          8,
          7,
          3,
          2,
          7,
          8,
          2,
          5,
          4,
          3,
          3,
          2,
          2,
          4,
          7,
          3,
          4,
          7,
          2,
          6,
          1,
          9,
          2,
          4,
          3,
          3,
          1,
          2,
          3,
          1,
          5,
          2,
          3,
          5,
          4,
          2,
          3,
          3,
          3,
          3,
          8,
          6,
          3,
          2,
          1,
          2,
          4,
          2,
          2,
          4,
          5,
          3,
          5,
          3,
          7,
          6,
          12,
          3,
          6,
          4,
          2,
          2,
          5,
          1,
          2,
          3,
          2,
          2,
          2,
          2,
          2,
          2,
          3,
          2,
          4,
          3,
          3,
          6,
          3,
          2,
          3,
          7,
          3,
          2,
          2,
          2,
          3,
          6,
          1,
          2,
          5,
          2,
          4,
          3,
          2,
          5,
          3,
          5,
          2,
          3,
          5,
          7,
          3,
          1,
          3,
          5,
          7,
          2,
          7,
          7,
          3,
          3,
          3,
          3,
          3,
          5,
          2,
          4,
          3,
          1,
          13,
          1,
          5,
          2,
          3,
          5,
          5,
          3,
          3,
          8,
          2,
          2,
          3,
          3,
          2,
          5,
          3,
          3,
          9,
          5,
          3,
          2,
          3,
          2,
          3,
          7,
          3,
          4,
          2,
          3,
          5,
          9,
          14,
          5,
          3,
          12,
          1,
          2,
          2,
          9,
          2,
          2,
          3,
          4,
          4,
          2,
          3,
          2,
          3,
          7,
          3,
          3,
          1,
          5,
          4,
          1,
          4,
          7,
          3,
          2,
          5,
          7,
          2,
          7,
          2,
          3,
          1,
          4,
          9,
          8,
          1,
          2,
          7,
          1,
          3,
          1,
          2,
          2,
          9,
          2,
          5,
          2,
          7,
          7,
          5,
          4,
          3,
          1,
          3,
          3,
          3,
          3,
          6,
          2,
          5,
          12,
          3,
          5,
          2,
          2,
          2,
          1,
          2,
          2,
          5,
          5,
          2,
          2,
          7,
          7,
          4,
          3,
          3,
          3,
          1,
          6,
          4,
          1,
          5,
          3,
          4,
          3,
          3,
          8,
          2,
          2,
          7,
          2,
          2,
          4,
          1,
          2,
          1,
          2,
          2,
          2,
          1,
          2,
          6,
          2,
          7,
          2,
          7,
          3,
          2,
          1,
          3,
          2,
          3,
          1,
          3,
          5,
          4,
          9,
          2,
          3,
          3,
          4,
          2,
          5,
          4,
          6,
          3,
          4,
          2,
          3,
          3,
          7,
          2,
          1,
          5,
          7,
          6,
          4,
          2,
          4,
          8,
          3,
          4,
          4,
          3,
          4,
          2,
          1,
          9,
          4,
          4,
          3,
          3,
          3,
          2,
          3,
          5,
          1,
          3,
          7,
          7,
          2,
          4,
          2,
          2,
          1,
          1,
          3,
          2,
          3,
          7,
          9,
          8,
          3,
          1,
          1,
          4,
          3,
          2,
          2,
          1,
          2,
          2,
          2,
          2,
          3,
          5,
          2,
          3,
          1,
          1,
          2,
          4,
          3,
          4,
          9,
          6,
          12,
          3,
          6,
          9,
          13,
          2,
          4,
          2,
          3,
          1,
          2,
          3,
          3,
          8,
          3,
          4,
          3,
          2,
          5,
          3,
          1,
          6,
          3,
          2,
          4,
          3,
          8,
          2,
          5,
          3,
          1,
          3,
          3,
          4,
          3,
          3,
          1,
          3,
          7,
          5,
          3,
          2,
          4,
          3,
          4,
          5,
          3,
          5,
          1,
          13,
          2,
          2,
          5,
          2,
          6,
          3,
          2,
          1,
          3,
          7,
          7,
          3,
          2,
          3,
          2,
          1,
          4,
          2,
          6,
          8,
          5,
          1,
          2,
          6,
          3,
          2,
          5,
          4,
          3,
          6,
          6,
          1,
          4,
          3,
          1,
          2,
          3,
          2,
          8,
          4,
          3,
          2,
          3,
          8,
          2,
          5,
          6,
          3,
          5,
          2,
          7,
          6,
          10,
          6,
          3,
          2,
          5,
          3,
          1,
          3,
          11,
          3,
          1,
          2,
          7,
          4,
          4,
          14,
          2,
          6,
          2,
          4,
          5,
          7,
          3,
          3,
          2,
          4,
          5,
          3,
          8,
          5,
          5,
          5,
          1,
          3,
          1,
          9,
          5,
          3,
          2,
          2,
          3,
          3,
          3,
          3,
          7,
          3,
          5,
          3,
          4,
          2,
          4,
          1,
          2,
          3,
          2,
          5,
          1,
          3,
          2,
          2,
          2,
          3,
          2,
          2,
          4,
          7,
          3,
          3,
          7,
          3,
          4,
          4,
          2,
          2,
          9,
          6,
          5,
          4,
          2,
          5,
          5,
          14,
          8,
          6,
          1,
          14,
          5,
          6,
          2,
          3,
          5,
          5,
          4,
          2,
          2,
          4,
          9,
          4,
          7,
          2,
          3,
          3,
          1,
          7,
          3,
          5,
          8,
          3,
          3,
          9,
          4,
          2,
          2,
          2,
          2,
          6,
          2,
          4,
          3,
          4,
          3,
          2,
          2,
          2,
          3,
          4,
          6,
          3,
          7,
          7,
          4,
          4,
          7,
          3,
          2,
          1,
          3,
          2,
          7,
          3,
          3,
          2,
          4,
          1,
          6,
          2,
          3,
          7,
          1,
          5,
          5,
          3,
          9,
          3,
          2,
          2,
          4,
          6,
          3,
          4,
          3,
          2,
          8,
          9,
          3,
          5,
          4,
          1,
          4,
          2,
          3,
          7,
          5,
          6,
          5,
          8,
          6,
          6,
          2,
          2,
          7,
          2,
          3,
          1,
          3,
          6,
          2,
          3,
          3,
          1,
          2,
          3,
          7,
          5,
          6,
          3,
          4,
          7,
          4,
          2,
          2,
          1,
          6,
          2,
          7,
          5,
          3,
          4,
          1,
          5,
          2,
          9,
          6,
          1,
          5,
          3,
          5,
          3,
          3,
          4,
          3,
          3,
          5,
          3,
          1,
          2,
          3,
          5,
          2,
          1,
          3,
          2,
          9,
          2,
          2,
          3,
          2,
          5,
          3,
          3,
          4,
          4,
          7,
          5,
          4,
          3,
          3,
          2,
          13,
          4,
          1,
          4,
          2,
          2,
          3,
          6,
          5,
          3,
          5,
          1,
          4,
          3,
          2,
          2,
          2,
          7,
          3,
          1,
          4,
          3,
          2,
          1,
          2,
          8,
          2,
          2,
          5,
          3,
          5,
          6,
          5,
          6,
          3,
          2,
          2,
          2,
          2,
          3,
          5,
          4,
          3,
          2,
          2,
          3,
          2,
          3,
          7,
          2,
          2,
          2,
          6,
          1,
          2,
          2,
          6,
          4,
          2,
          2,
          3,
          7,
          3,
          3,
          2,
          5,
          3,
          5,
          3,
          3,
          2,
          3,
          3,
          4,
          3,
          2,
          4,
          2,
          2,
          3,
          3,
          3,
          1,
          3,
          2,
          4,
          1,
          3,
          2,
          2,
          2,
          2,
          2,
          6,
          5,
          5,
          5,
          2,
          4,
          3,
          2,
          2,
          7,
          6,
          2,
          9,
          2,
          5,
          3,
          2,
          6,
          2,
          2,
          1,
          5,
          14,
          6,
          7,
          2,
          2,
          5,
          5,
          4,
          8,
          4,
          2,
          4,
          3,
          3,
          2,
          4,
          5,
          4,
          3,
          8,
          2,
          3,
          4,
          2,
          5,
          3,
          3,
          2,
          5,
          8,
          4,
          2,
          2,
          7,
          2,
          8,
          3,
          2,
          3,
          2,
          2,
          9,
          2,
          2,
          11,
          6,
          6,
          2,
          3,
          4,
          6,
          3,
          2,
          1,
          9,
          2,
          4,
          5,
          4,
          7,
          2,
          6,
          2,
          9,
          2,
          1,
          9,
          5,
          3,
          1,
          2,
          3,
          4,
          6,
          8,
          3,
          3,
          2,
          5,
          1,
          8,
          4,
          2,
          3,
          8,
          3,
          6,
          5,
          4,
          3,
          1,
          1,
          7,
          2,
          7,
          7,
          7,
          7,
          7,
          3,
          7,
          5,
          2,
          3,
          2,
          2,
          2,
          2,
          2,
          6,
          4,
          3,
          1,
          10,
          4,
          1,
          3,
          6,
          2,
          8,
          1,
          3,
          3,
          7,
          5,
          7,
          3,
          4,
          1,
          2,
          1,
          4,
          2,
          3,
          6,
          2,
          3,
          2,
          1,
          5,
          5,
          7,
          2,
          5,
          3,
          5,
          4,
          2,
          1,
          2,
          4,
          4,
          5,
          3,
          3,
          5,
          6,
          2,
          1,
          5,
          2,
          1,
          1,
          2,
          1,
          3,
          4,
          3,
          9,
          3,
          7,
          4,
          7,
          2,
          3,
          2,
          8,
          4,
          3,
          2,
          1,
          1,
          1,
          3,
          2,
          2,
          2,
          4,
          3,
          6,
          2,
          1,
          2,
          2,
          8,
          2,
          6,
          4,
          2,
          3,
          7,
          3,
          5,
          2,
          3,
          3,
          5,
          2,
          5,
          2,
          2,
          9,
          3,
          3,
          2,
          3,
          2,
          1,
          1,
          3,
          1,
          3,
          5,
          5,
          8,
          3,
          2,
          7,
          4,
          3,
          4,
          2,
          9,
          4,
          2,
          2,
          2,
          1,
          1,
          8,
          3,
          6,
          5,
          3,
          2,
          3,
          4,
          3,
          3,
          5,
          6,
          3,
          5,
          3,
          2,
          3,
          5,
          3,
          4,
          3,
          7,
          4,
          2,
          3,
          3,
          5,
          6,
          2,
          4,
          4,
          2,
          4,
          6,
          3,
          4,
          4,
          3,
          7,
          3,
          3,
          4,
          6,
          2,
          3,
          5,
          4,
          4,
          1,
          5,
          5,
          7,
          3,
          5,
          3,
          7,
          7,
          2,
          3,
          2,
          4,
          2,
          3,
          1,
          2,
          4,
          2,
          2,
          4,
          6,
          9,
          3,
          3,
          4,
          5,
          2,
          2,
          4,
          3,
          5,
          4,
          3,
          2,
          1,
          2,
          3,
          3,
          2,
          3,
          7,
          2,
          5,
          6,
          7,
          3,
          2,
          3,
          1,
          7,
          3,
          4,
          8,
          5,
          6,
          3,
          5,
          7,
          1,
          2,
          3,
          5,
          2,
          13,
          3,
          4,
          3,
          9,
          3,
          4,
          3,
          1,
          5,
          2,
          3,
          7,
          3,
          5,
          7,
          5,
          7,
          2,
          2,
          6,
          2,
          4,
          5,
          5,
          3,
          2,
          2,
          3,
          3,
          5,
          1,
          5,
          8,
          4,
          3,
          3,
          7,
          3,
          4,
          4,
          4,
          2,
          3,
          1,
          1,
          3,
          3,
          5,
          4,
          3,
          4,
          2,
          1,
          1,
          7,
          1,
          5,
          3,
          3,
          2,
          9,
          5,
          7,
          3,
          3,
          4,
          4,
          9,
          7,
          3,
          3,
          7,
          4,
          5,
          4,
          3,
          9,
          2,
          3,
          6,
          2,
          7,
          3,
          4,
          6,
          1,
          5,
          3,
          7,
          3,
          2,
          3,
          6,
          3,
          3,
          4,
          3,
          1,
          1,
          3,
          3,
          2,
          5,
          1,
          7,
          3,
          3,
          3,
          2,
          3,
          3,
          4,
          2,
          9,
          5,
          8,
          7,
          3,
          4,
          5,
          5,
          8,
          2,
          2,
          6,
          2,
          9,
          3,
          3,
          3,
          4,
          3,
          5,
          2,
          3,
          3,
          1,
          6,
          7,
          2,
          3,
          1,
          3,
          7,
          4,
          4,
          7,
          10,
          6,
          1,
          1,
          13,
          2,
          4,
          2,
          4,
          1,
          4,
          2,
          8,
          1,
          3,
          1,
          2,
          1,
          1,
          2,
          2,
          5,
          5,
          4,
          7,
          2,
          8,
          5,
          2,
          1,
          7,
          3,
          2,
          2,
          2,
          1,
          3,
          2,
          5,
          5,
          6,
          3,
          3,
          3,
          2,
          3,
          2,
          7,
          2,
          1,
          3,
          1,
          3,
          2,
          1,
          2,
          2,
          2,
          1,
          1,
          5,
          6,
          7,
          2,
          1,
          3,
          5,
          1,
          4,
          2,
          8,
          2,
          7,
          2,
          7,
          3,
          2,
          5,
          5,
          2,
          3,
          6,
          2,
          1,
          3,
          4,
          5,
          1,
          7,
          4,
          3,
          4,
          4,
          4,
          3,
          2,
          3,
          5,
          1,
          4,
          5,
          1,
          3,
          2,
          2,
          5,
          3,
          7,
          3,
          4,
          7,
          3,
          4,
          5,
          12,
          3,
          1,
          2,
          3,
          4,
          2,
          5,
          5,
          1,
          6,
          3,
          7,
          4,
          4,
          2,
          7,
          5,
          3,
          3,
          9,
          5,
          2,
          5,
          6,
          2,
          2,
          3,
          6,
          7,
          5,
          1,
          3,
          7,
          4,
          3,
          7,
          4,
          5,
          2,
          2,
          4,
          1,
          4,
          6,
          2,
          4,
          8,
          1,
          9,
          2,
          3,
          4,
          2,
          5,
          2,
          2,
          7,
          4,
          9,
          4,
          4,
          2,
          2,
          2,
          1,
          7,
          9,
          4,
          2,
          2,
          2,
          5,
          2,
          6,
          7,
          5,
          6,
          5,
          7,
          9,
          7,
          10,
          5,
          3,
          8,
          2,
          5,
          2,
          3,
          5,
          2,
          5,
          3,
          10,
          2,
          1,
          3,
          2,
          7,
          1,
          2,
          13,
          4,
          4,
          7,
          8,
          2,
          7,
          4,
          2,
          3,
          9,
          2,
          4,
          2,
          5,
          2,
          4,
          5,
          6,
          2,
          2,
          5,
          3,
          5,
          5,
          6,
          3,
          3,
          8,
          8,
          1,
          6,
          3,
          2,
          3,
          3,
          5,
          2,
          1,
          1,
          1,
          4,
          5,
          1,
          8,
          4,
          4,
          2,
          5,
          7,
          4,
          3,
          3,
          1,
          2,
          6,
          4,
          5,
          5,
          2,
          2,
          3,
          3,
          4,
          4,
          6,
          7,
          5,
          5,
          8,
          3,
          2,
          1,
          3,
          2,
          4,
          4,
          2,
          4,
          5,
          8,
          4,
          3,
          6,
          4,
          6,
          5,
          4,
          2,
          2,
          9,
          3,
          7,
          6,
          3,
          2,
          1,
          4,
          9,
          2,
          3,
          6,
          2,
          2,
          5,
          4,
          7,
          4,
          6,
          4,
          2,
          4,
          1,
          6,
          3,
          7,
          3,
          3,
          4,
          4,
          1,
          1,
          5,
          8,
          2,
          6,
          2,
          4,
          7,
          2,
          8,
          2,
          7,
          5,
          2,
          4,
          2,
          1,
          2,
          4,
          5,
          9,
          8,
          2,
          4,
          2,
          7,
          5,
          3,
          5,
          2,
          3,
          3,
          8,
          3,
          2,
          13,
          3,
          2,
          2,
          7,
          1,
          1,
          3,
          2,
          3,
          2,
          8,
          2,
          3,
          3,
          2,
          3,
          2,
          7,
          3,
          3,
          1,
          4,
          1,
          1,
          3,
          1,
          5,
          2,
          3,
          3,
          2,
          3,
          6,
          2,
          13,
          3,
          4,
          3,
          5,
          4,
          4,
          8,
          5,
          1,
          4,
          7,
          10,
          3,
          2,
          2,
          1,
          2,
          5,
          2,
          4,
          3,
          3,
          4,
          1,
          6,
          1,
          8,
          3,
          3,
          2,
          6,
          3,
          5,
          3,
          3,
          3,
          3,
          2,
          2,
          5,
          3,
          4,
          11,
          2,
          2,
          1,
          3,
          2,
          3,
          1,
          1,
          4,
          3,
          6,
          2,
          5,
          3,
          5,
          1,
          7,
          2,
          5,
          5,
          4,
          3,
          1,
          9,
          3,
          2,
          5,
          5,
          4,
          3,
          3,
          3,
          5,
          1,
          2,
          4,
          6,
          4,
          3,
          2,
          3,
          3,
          3,
          6,
          2,
          3,
          4,
          7,
          3,
          2,
          4,
          9,
          3,
          5,
          2,
          2,
          3,
          2,
          3,
          3,
          5,
          5,
          5,
          2,
          5,
          4,
          1,
          7,
          3,
          4,
          1,
          2,
          1,
          4,
          3,
          7,
          3,
          2,
          4,
          2,
          5,
          2,
          6,
          3,
          1,
          3,
          4,
          3,
          3,
          11,
          2,
          2,
          3,
          5,
          5,
          2,
          3,
          4,
          4,
          5,
          1,
          5,
          3,
          5,
          2,
          1,
          8,
          2,
          7,
          3,
          5,
          3,
          3,
          2,
          3,
          7,
          2,
          8,
          3,
          4,
          10,
          2,
          2,
          4,
          4,
          2,
          5,
          7,
          5,
          2,
          3,
          1,
          14,
          4,
          7,
          3,
          4,
          2,
          5,
          5,
          1,
          3,
          3,
          6,
          2,
          2,
          2,
          5,
          2,
          9,
          6,
          3,
          4,
          3,
          5,
          1,
          2,
          6,
          5,
          3,
          3,
          2,
          2,
          8,
          2,
          2,
          2,
          6,
          5,
          2,
          5,
          3,
          7,
          2,
          1,
          3,
          5,
          2,
          1,
          4,
          7,
          2,
          3,
          8,
          3,
          3,
          6,
          3,
          6,
          1,
          4,
          1,
          4,
          3,
          7,
          4,
          2,
          4,
          3,
          9,
          7,
          4,
          3,
          7,
          3,
          4,
          5,
          3,
          2,
          3,
          3,
          1,
          8,
          3,
          2,
          7,
          2,
          2,
          3,
          6,
          3,
          5,
          4,
          2,
          5,
          3,
          2,
          5,
          5,
          2,
          3,
          2,
          5,
          11,
          3,
          5,
          4,
          2,
          2,
          4,
          7,
          5,
          7,
          3,
          2,
          2,
          5,
          3,
          3,
          4,
          5,
          4,
          3,
          3,
          2,
          4,
          1,
          5,
          2,
          7,
          2,
          3,
          1,
          1,
          1,
          3,
          3,
          4,
          4,
          2,
          2,
          1,
          1,
          3,
          1,
          7,
          7,
          5,
          3,
          1,
          7,
          3,
          9,
          1,
          7,
          3,
          14,
          5,
          4,
          5,
          2,
          2,
          2,
          2,
          1,
          3,
          1,
          4,
          4,
          3,
          8,
          2,
          2,
          5,
          2,
          6,
          4,
          3,
          6,
          8,
          2,
          4,
          5,
          2,
          4,
          7,
          2,
          6,
          4,
          2,
          4,
          4,
          3,
          1,
          4,
          2,
          9,
          1,
          4,
          5,
          7,
          3,
          4,
          4,
          5,
          4,
          1,
          4,
          3,
          2,
          2,
          5,
          4,
          1,
          3,
          5,
          3,
          3,
          5,
          5,
          5,
          2,
          6,
          4,
          2,
          8,
          3,
          7,
          3,
          3,
          3,
          5,
          2,
          11,
          3,
          3,
          2,
          5,
          4,
          4,
          1,
          4,
          4,
          6,
          7,
          2,
          5,
          2,
          3,
          5,
          2,
          2,
          8,
          5,
          5,
          1,
          7,
          2,
          4,
          2,
          4,
          2,
          2,
          2,
          5,
          2,
          10,
          2,
          2,
          3,
          8,
          3,
          3,
          8,
          8,
          5,
          7,
          6,
          4,
          7,
          3,
          5,
          2,
          2,
          3,
          5,
          2,
          8,
          2,
          3,
          2,
          3,
          1,
          4,
          2,
          2,
          2,
          5,
          7,
          7,
          5,
          3,
          4,
          2,
          8,
          2,
          4,
          4,
          3,
          3,
          6,
          1,
          7,
          6,
          4,
          6,
          3,
          3,
          1,
          8,
          1,
          3,
          5,
          6,
          6,
          5,
          4,
          5,
          2,
          3,
          2,
          5,
          2,
          2,
          4,
          2,
          4,
          2,
          2,
          5,
          4,
          2,
          3,
          5,
          3,
          1,
          2,
          2,
          3,
          3,
          2,
          5,
          6,
          7,
          4,
          3,
          5,
          5,
          3,
          6,
          2,
          2,
          7,
          2,
          3,
          2,
          2,
          5,
          3,
          5,
          2,
          5,
          3,
          9,
          2,
          3,
          5,
          8,
          13,
          6,
          2,
          5,
          3,
          7,
          2,
          2,
          2,
          3,
          2,
          5,
          2,
          3,
          9,
          3,
          3,
          3,
          7,
          1,
          4,
          3,
          1,
          7,
          3,
          6,
          3,
          3,
          3,
          4,
          7,
          3,
          4,
          8,
          1,
          2,
          8,
          5,
          8,
          5,
          9,
          3,
          7,
          11,
          1,
          2,
          6,
          3,
          3,
          2,
          5,
          4,
          1,
          2,
          2,
          2,
          6,
          2,
          3,
          1,
          1,
          5,
          3,
          1,
          2,
          1,
          1,
          3,
          3,
          5,
          7,
          3,
          5,
          13,
          5,
          3,
          3,
          5,
          3,
          2,
          2,
          7,
          3,
          3,
          2,
          1,
          3,
          2,
          3,
          2,
          2,
          4,
          2,
          7,
          3,
          4,
          2,
          3,
          2,
          1,
          3,
          3,
          8,
          5,
          6,
          3,
          6,
          7,
          1,
          2,
          7,
          5,
          2,
          1,
          3,
          7,
          2,
          3,
          3,
          5,
          5,
          1,
          2,
          3,
          2,
          8,
          11,
          7,
          4,
          3,
          1,
          1,
          6,
          3,
          3,
          3,
          2,
          3,
          3,
          2,
          6,
          5,
          7,
          5,
          2,
          2,
          3,
          5,
          9,
          3,
          7,
          3,
          5,
          3,
          3,
          5,
          1,
          3,
          5,
          8,
          2,
          3,
          3,
          3,
          1,
          4,
          4,
          4,
          3,
          9,
          3,
          5,
          3,
          1,
          3,
          9,
          4,
          5,
          5,
          5,
          4,
          3,
          3,
          2,
          2,
          1,
          2,
          1,
          9,
          2,
          2,
          4,
          3,
          3,
          2,
          3,
          2,
          2,
          3,
          2,
          4,
          5,
          6,
          2,
          3,
          5,
          4,
          2,
          9,
          6,
          3,
          9,
          1,
          3,
          7,
          5,
          4,
          3,
          2,
          6,
          3,
          2,
          4,
          2,
          1,
          6,
          4,
          1,
          4,
          1,
          6,
          3,
          3,
          7,
          4,
          2,
          2,
          2,
          8,
          4,
          2,
          9,
          2,
          4,
          2,
          2,
          1,
          2,
          5,
          2,
          2,
          2,
          8,
          7,
          4,
          2,
          4,
          10,
          4,
          2,
          6,
          3,
          2,
          9,
          3,
          6,
          2,
          3,
          2,
          2,
          6,
          1,
          14,
          3,
          7,
          2,
          5,
          2,
          2,
          2,
          5,
          1,
          2,
          2,
          4,
          3,
          2,
          3,
          3,
          2,
          2,
          2,
          4,
          7,
          1,
          1,
          2,
          2,
          9,
          6,
          3,
          2,
          2,
          2,
          1,
          2,
          5,
          5,
          9,
          2,
          7,
          6,
          2,
          5,
          4,
          3,
          4,
          1,
          2,
          2,
          6,
          5,
          3,
          2,
          4,
          5,
          4,
          2,
          6,
          5,
          3,
          3,
          9,
          2,
          3,
          4,
          2,
          4,
          4,
          3,
          2,
          2,
          7,
          9,
          3,
          3,
          3,
          9,
          2,
          4,
          7,
          2,
          7,
          3,
          8,
          6,
          3,
          3,
          8,
          4,
          3,
          5,
          5,
          4,
          4,
          5,
          2,
          3,
          3,
          3,
          5,
          7,
          3,
          2,
          1,
          8,
          8,
          7,
          2,
          1,
          8,
          3,
          6,
          8,
          1,
          2,
          6,
          7,
          2,
          4,
          4,
          4,
          5,
          2,
          4,
          2,
          2,
          3,
          4,
          2,
          6,
          4,
          1,
          1,
          2,
          10,
          3,
          1,
          1,
          1,
          5,
          8,
          1,
          2,
          2,
          2,
          1,
          2,
          3,
          2,
          1,
          12,
          1,
          3,
          3,
          5,
          1,
          3,
          6,
          3,
          1,
          9,
          2,
          5,
          5,
          2,
          4,
          3,
          3,
          3,
          3,
          2,
          2,
          2,
          2,
          6,
          4,
          5,
          2,
          1,
          5,
          3,
          8,
          5,
          2,
          12,
          2,
          1,
          1,
          7,
          3,
          7,
          2,
          8,
          4,
          7,
          2,
          3,
          4,
          7,
          1,
          7,
          7,
          2,
          2,
          1,
          5,
          1,
          4,
          2,
          6,
          6,
          5,
          4,
          3,
          9,
          2,
          1,
          3,
          4,
          3,
          5,
          3,
          10,
          2,
          7,
          4,
          3,
          5,
          10,
          5,
          2,
          3,
          1,
          6,
          2,
          3,
          2,
          4,
          3,
          2,
          3,
          3,
          4,
          9,
          6,
          7,
          3,
          2,
          6,
          5,
          2,
          1,
          5,
          4,
          7,
          6,
          3,
          2,
          5,
          4,
          1,
          2,
          6,
          3,
          3,
          5,
          3,
          2,
          3,
          7,
          3,
          5,
          1,
          3,
          2,
          5,
          5,
          2,
          5,
          5,
          4,
          2,
          8,
          5,
          3,
          2,
          2,
          2,
          3,
          2,
          7,
          1,
          7,
          4,
          1,
          3,
          2,
          2,
          1,
          2,
          1,
          4,
          9,
          3,
          3,
          5,
          3,
          2,
          4,
          2,
          5,
          3,
          3,
          2,
          5,
          7,
          5,
          7,
          2,
          2,
          2,
          5,
          2,
          3,
          3,
          2,
          1,
          5,
          9,
          2,
          6,
          2,
          3,
          3,
          3,
          2,
          7,
          6,
          3,
          2,
          2,
          3,
          3,
          4,
          2,
          2,
          7,
          1,
          3,
          5,
          6,
          3,
          6,
          3,
          1,
          3,
          4,
          3,
          3,
          5,
          1,
          1,
          3,
          2,
          4,
          1,
          5,
          2,
          3,
          5,
          1,
          3,
          2,
          6,
          5,
          2,
          2,
          3,
          7,
          3,
          3,
          2,
          6,
          6,
          2,
          9,
          10,
          5,
          1,
          2,
          2,
          3,
          2,
          5,
          3,
          2,
          3,
          2,
          3,
          9,
          3,
          3,
          2,
          2,
          2,
          6,
          5,
          3,
          4,
          5,
          7,
          2,
          8,
          1,
          5,
          3,
          5,
          3,
          7,
          3,
          1,
          3,
          3,
          4,
          5,
          2,
          6,
          9,
          1,
          7,
          2,
          4,
          3,
          3,
          7,
          2,
          3,
          5,
          4,
          4,
          2,
          2,
          6,
          4,
          3,
          4,
          3,
          2,
          3,
          2,
          2,
          6,
          8,
          7,
          5,
          5,
          3,
          3,
          2,
          2,
          2,
          2,
          14,
          7,
          4,
          4,
          4,
          5,
          2,
          1,
          5,
          3,
          3,
          2,
          5,
          2,
          2,
          4,
          3,
          4,
          4,
          3,
          6,
          5,
          2,
          3,
          2,
          5,
          5,
          1,
          7,
          3,
          2,
          5,
          5,
          2,
          3,
          3,
          2,
          5,
          2,
          1,
          5,
          7,
          3,
          1,
          1,
          2,
          2,
          2,
          6,
          2,
          2,
          2,
          1,
          4,
          3,
          3,
          2,
          3,
          6,
          5,
          3,
          3,
          3,
          3,
          4,
          7,
          8,
          10,
          9,
          4,
          2,
          5,
          8,
          7,
          4,
          3,
          2,
          2,
          3,
          3,
          4,
          5,
          1,
          3,
          4,
          5,
          5,
          2,
          3,
          3,
          3,
          6,
          3,
          7,
          5,
          1,
          6,
          5,
          11,
          5,
          3,
          3,
          3,
          1,
          4,
          6,
          2,
          11,
          2,
          4,
          4,
          3,
          3,
          5,
          5,
          2,
          9,
          3,
          3,
          3,
          5,
          5,
          4,
          4,
          7,
          2,
          8,
          3,
          4,
          6,
          5,
          4,
          3,
          6,
          2,
          5,
          4,
          6,
          3,
          3,
          9,
          6,
          5,
          3,
          2,
          3,
          10,
          3,
          2,
          3,
          2,
          11,
          4,
          6,
          1,
          5,
          7,
          3,
          3,
          3,
          1,
          9,
          1,
          5,
          3,
          12,
          9,
          9,
          4,
          2,
          2,
          6,
          4,
          4,
          2,
          4,
          3,
          3,
          9,
          1,
          3,
          3,
          3,
          2,
          3,
          3,
          9,
          2,
          3,
          3,
          2,
          7,
          4,
          3,
          5,
          5,
          5,
          2,
          1,
          1,
          8,
          2,
          5,
          2,
          2,
          2,
          3,
          2,
          1,
          3,
          1,
          3,
          3,
          5,
          2,
          3,
          7,
          8,
          4,
          6,
          3,
          2,
          3,
          3,
          6,
          6,
          3,
          4,
          5,
          3,
          3,
          9,
          3,
          5,
          7,
          7,
          6,
          3,
          5,
          3,
          9,
          7,
          3,
          1,
          3,
          3,
          1,
          1,
          4,
          5,
          3,
          3,
          4,
          3,
          2,
          6,
          3,
          3,
          3,
          2,
          4,
          3,
          7,
          9,
          3,
          4,
          2,
          6,
          3,
          7,
          2,
          2,
          2,
          2,
          5,
          3,
          5,
          9,
          5,
          4,
          3,
          3,
          1,
          6,
          7,
          1,
          2,
          1,
          3,
          5,
          2,
          3,
          2,
          5,
          3,
          4,
          4,
          1,
          2,
          6,
          7,
          5,
          2,
          2,
          2,
          3,
          5,
          1,
          2,
          3,
          2,
          2,
          3,
          4,
          3,
          8,
          2,
          2,
          6,
          5,
          2,
          3,
          2,
          3,
          4,
          1,
          1,
          9,
          9,
          3,
          6,
          1,
          3,
          9,
          4,
          7,
          1,
          2,
          4,
          3,
          3,
          3,
          3,
          1,
          5,
          5,
          6,
          4,
          7,
          7,
          2,
          2,
          3,
          4,
          3,
          2,
          2,
          2,
          5,
          4,
          1,
          3,
          8,
          3,
          7,
          3,
          5,
          4,
          11,
          4,
          9,
          1,
          1,
          2,
          2,
          7,
          2,
          5,
          2,
          2,
          1,
          3,
          2,
          2,
          1,
          1,
          5,
          3,
          2,
          9,
          1,
          3,
          5,
          3,
          4,
          13,
          2,
          6,
          2,
          5,
          1,
          7,
          4,
          5,
          3,
          2,
          7,
          4,
          3,
          3,
          4,
          2,
          2,
          3,
          3,
          2,
          6,
          3,
          1,
          2,
          3,
          2,
          3,
          3,
          3,
          5,
          9,
          3,
          5,
          1,
          5,
          6,
          2,
          1,
          2,
          3,
          3,
          1,
          2,
          3,
          6,
          6,
          2,
          4,
          2,
          3,
          2,
          8,
          2,
          2,
          4,
          2,
          8,
          7,
          4,
          2,
          1,
          2,
          2,
          3,
          3,
          4,
          4,
          3,
          10,
          4,
          6,
          5,
          2,
          5,
          2,
          5,
          6,
          5,
          3,
          5,
          2,
          2,
          3,
          3,
          5,
          4,
          2,
          5,
          4,
          3,
          7,
          2,
          3,
          3,
          2,
          5,
          1,
          3,
          2,
          2,
          2,
          5,
          3,
          5,
          2,
          3,
          3,
          3,
          2,
          3,
          1,
          2,
          6,
          3,
          3,
          3,
          1,
          2,
          5,
          8,
          3,
          4,
          5,
          3,
          2,
          3,
          5,
          6,
          2,
          3,
          6,
          3,
          4,
          3,
          5,
          1,
          3,
          1,
          7,
          3,
          2,
          4,
          1,
          5,
          5,
          5,
          5,
          6,
          4,
          5,
          2,
          1,
          3,
          5,
          2,
          5,
          4,
          2,
          2,
          5,
          2,
          1,
          2,
          2,
          4,
          3,
          2,
          1,
          9,
          2,
          2,
          2,
          3,
          1,
          3,
          2,
          3,
          4,
          2,
          3,
          2,
          5,
          7,
          2,
          12,
          3,
          2,
          3,
          3,
          5,
          9,
          3,
          3,
          2,
          2,
          7,
          6,
          9,
          6,
          4,
          2,
          2,
          5,
          5,
          6,
          7,
          2,
          3,
          3,
          1,
          1,
          3,
          2,
          2,
          6,
          1,
          1,
          4,
          5,
          7,
          4,
          8,
          3,
          4,
          3,
          7,
          6,
          2,
          5,
          4,
          4,
          2,
          2,
          3,
          3,
          2,
          2,
          3,
          3,
          3,
          4,
          2,
          7,
          7,
          2,
          9,
          2,
          7,
          2,
          3,
          1,
          4,
          2,
          3,
          3,
          3,
          3,
          4,
          4,
          1,
          2,
          3,
          3,
          3,
          5,
          4,
          6,
          3,
          6,
          4,
          6,
          3,
          3,
          2,
          2,
          7,
          4,
          5,
          2,
          1,
          3,
          11,
          6,
          3,
          8,
          2,
          7,
          5,
          6,
          3,
          3,
          7,
          2,
          2,
          3,
          2,
          3,
          3,
          8,
          3,
          5,
          1,
          9,
          4,
          1,
          4,
          2,
          7,
          1,
          3,
          2,
          7,
          8,
          4,
          3,
          5,
          3,
          9,
          3,
          2,
          3,
          6,
          3,
          5,
          3,
          4,
          2,
          3,
          5,
          2,
          5,
          3,
          2,
          5,
          3,
          6,
          1,
          3,
          4,
          3,
          2,
          8,
          1,
          4,
          4,
          2,
          2,
          2,
          3,
          3,
          9,
          5,
          5,
          4,
          2,
          5,
          1,
          2,
          2,
          2,
          2,
          7,
          3,
          6,
          3,
          1,
          9,
          2,
          4,
          2,
          10,
          7,
          5,
          4,
          4,
          1,
          3,
          2,
          4,
          1,
          12,
          2,
          2,
          9,
          9,
          4,
          4,
          2,
          7,
          9,
          5,
          2,
          3,
          3,
          5,
          2,
          4,
          3,
          2,
          9,
          3,
          2,
          2,
          2,
          1,
          2,
          7,
          2,
          4,
          5,
          3,
          2,
          3,
          1,
          7,
          2,
          2,
          2,
          2,
          3,
          7,
          7,
          2,
          3,
          1,
          3,
          2,
          3,
          4,
          3,
          7,
          3,
          6,
          3,
          3,
          3,
          3,
          2,
          2,
          2,
          2,
          1,
          2,
          3,
          3,
          2,
          4,
          2,
          3,
          3,
          3,
          5,
          3,
          3,
          2,
          4,
          2,
          3,
          2,
          7,
          4,
          2,
          2,
          2,
          2,
          3,
          4,
          1,
          5,
          3,
          4,
          3,
          3,
          8,
          1,
          5,
          2,
          4,
          3,
          3,
          7,
          1,
          4,
          3,
          7,
          5,
          5,
          4,
          3,
          4,
          9,
          5,
          5,
          3,
          3,
          4,
          1,
          3,
          3,
          6,
          3,
          5,
          2,
          2,
          8,
          1,
          9,
          2,
          10,
          3,
          3,
          4,
          2,
          3,
          4,
          3,
          3,
          3,
          2,
          2,
          4,
          2,
          8,
          6,
          6,
          7,
          3,
          3,
          4,
          2,
          3,
          3,
          6,
          3,
          2,
          3,
          5,
          2,
          4,
          2,
          6,
          4,
          2,
          3,
          5,
          4,
          2,
          3,
          5,
          11,
          1,
          2,
          5,
          8,
          6,
          3,
          3,
          3,
          3,
          4,
          9,
          7,
          2,
          6,
          1,
          3,
          3,
          6,
          11,
          3,
          3,
          2,
          7,
          2,
          5,
          3,
          1,
          5,
          2,
          3,
          3,
          2,
          4,
          9,
          4,
          5,
          2,
          5,
          3,
          6,
          3,
          6,
          3,
          2,
          2,
          2,
          1,
          2,
          4,
          2,
          2,
          8,
          4,
          1,
          6,
          3,
          3,
          4,
          5,
          8,
          2,
          3,
          7,
          2,
          5,
          2,
          2,
          3,
          7,
          3,
          3,
          2,
          2,
          2,
          2,
          6,
          2,
          2,
          1,
          3,
          3,
          5,
          3,
          2,
          1,
          2,
          3,
          3,
          7,
          5,
          3,
          5,
          9,
          4,
          2,
          1,
          2,
          2,
          2,
          4,
          7,
          3,
          3,
          2,
          1,
          2,
          7,
          3,
          2,
          2,
          9,
          1,
          1,
          1,
          3,
          3,
          4,
          4,
          3,
          2,
          2,
          1,
          2,
          2,
          2,
          2,
          2,
          9,
          5,
          2,
          6,
          3,
          2,
          4,
          2,
          3,
          5,
          5,
          3,
          6,
          2,
          3,
          4,
          5,
          8,
          8,
          5,
          4,
          1,
          4,
          1,
          5,
          1,
          5,
          4,
          2,
          3,
          5,
          2,
          3,
          1,
          6,
          3,
          7,
          3,
          7,
          6,
          7,
          4,
          3,
          3,
          2,
          3,
          2,
          3,
          4,
          2,
          3,
          2,
          3,
          3,
          3,
          1,
          8,
          3,
          1,
          5,
          3,
          2,
          5,
          4,
          2,
          7,
          3,
          4,
          9,
          5,
          4,
          3,
          5,
          7,
          2,
          2,
          2,
          4,
          5,
          3,
          9,
          5,
          6,
          9,
          2,
          9,
          2,
          3,
          3,
          2,
          3,
          7,
          5,
          1,
          3,
          3,
          6,
          2,
          4,
          2,
          5,
          5,
          2,
          3,
          3,
          1,
          4,
          4,
          3,
          4,
          2,
          7,
          1,
          3,
          2,
          1,
          3,
          3,
          4,
          5,
          4,
          3,
          2,
          2,
          3,
          2,
          1,
          3,
          6,
          3,
          4,
          4,
          9,
          5,
          6,
          6,
          4,
          9,
          3,
          3,
          1,
          1,
          3,
          7,
          9,
          5,
          2,
          3,
          2,
          9,
          7,
          4,
          2,
          1,
          3,
          9,
          8,
          3,
          7,
          4,
          5,
          2,
          4,
          3,
          5,
          2,
          6,
          8,
          1,
          2,
          4,
          4,
          4,
          3,
          3,
          2,
          5,
          1,
          3,
          4,
          3,
          2,
          3,
          2,
          2,
          2,
          8,
          2,
          3,
          2,
          3,
          3,
          3,
          3,
          3,
          5,
          3,
          3,
          1,
          2,
          3,
          2,
          3,
          2,
          2,
          2,
          7,
          3,
          3,
          7,
          6,
          8,
          4,
          7,
          6,
          2,
          2,
          5,
          7,
          4,
          3,
          3,
          5,
          3,
          1,
          3,
          7,
          7,
          3,
          2,
          2,
          1,
          2,
          5,
          1,
          3,
          3,
          3,
          3,
          5,
          5,
          2,
          3,
          5,
          7,
          3,
          7,
          5,
          7,
          3,
          5,
          6,
          2,
          2,
          2,
          5,
          1,
          7,
          6,
          1,
          3,
          3,
          3,
          2,
          3,
          2,
          2,
          3,
          1,
          2,
          3,
          2,
          8,
          3,
          4,
          5,
          4,
          3,
          2,
          2,
          2,
          2,
          6,
          5,
          3,
          3,
          2,
          1,
          4,
          3,
          2,
          3,
          1,
          4,
          4,
          5,
          4,
          7,
          4,
          3,
          4,
          5,
          6,
          4,
          1,
          2,
          2,
          3,
          3,
          3,
          9,
          8,
          3,
          4,
          2,
          5,
          6,
          1,
          1,
          8,
          2,
          1,
          8,
          2,
          3,
          10,
          6,
          6,
          2,
          2,
          5,
          3,
          2,
          3,
          5,
          6,
          4,
          2,
          2,
          4,
          9,
          2,
          1,
          4,
          3,
          7,
          4,
          2,
          2,
          5,
          6,
          2,
          3,
          2,
          2,
          1,
          5,
          4,
          4,
          3,
          1,
          4,
          7,
          5,
          6,
          2,
          5,
          1,
          5,
          1,
          4,
          3,
          2,
          3,
          5,
          9,
          4,
          2,
          8,
          6,
          2,
          5,
          1,
          2,
          2,
          8,
          5,
          6,
          2,
          4,
          1,
          3,
          4,
          1,
          3,
          2,
          3,
          3,
          7,
          2,
          6,
          3,
          7,
          4,
          3,
          6,
          5,
          8,
          2,
          3,
          14,
          9,
          3,
          3,
          2,
          3,
          6,
          2,
          7,
          6,
          7,
          5,
          12,
          3,
          5,
          2,
          2,
          4,
          1,
          5,
          1,
          3,
          4,
          1,
          3,
          1,
          7,
          3,
          5,
          6,
          4,
          2,
          2,
          7,
          2,
          3,
          2,
          3,
          5,
          2,
          5,
          6,
          5,
          3,
          2,
          2,
          1,
          4,
          4,
          5,
          3,
          2,
          5,
          3,
          2,
          1,
          2,
          1,
          13,
          3,
          1,
          6,
          5,
          3,
          5,
          2,
          2,
          5,
          6,
          1,
          2,
          5,
          2,
          6,
          8,
          1,
          3,
          10,
          4,
          5,
          5,
          3,
          3,
          3,
          3,
          5,
          5,
          2,
          7,
          2,
          3,
          5,
          3,
          3,
          1,
          1,
          2,
          4,
          2,
          4,
          3,
          4,
          3,
          3,
          3,
          3,
          2,
          2,
          4,
          4,
          4,
          2,
          2,
          3,
          2,
          6,
          2,
          1,
          3,
          3,
          4,
          2,
          4,
          5,
          2,
          2,
          4,
          3,
          3,
          2,
          3,
          4,
          10,
          2,
          3,
          5,
          4,
          6,
          4,
          12,
          2,
          1,
          2,
          5,
          3,
          4,
          6,
          3,
          3,
          3,
          3,
          3,
          2,
          3,
          2,
          2,
          3,
          6,
          6,
          2,
          5,
          2,
          4,
          3,
          7,
          1,
          6,
          3,
          7,
          1,
          2,
          2,
          2,
          1,
          5,
          3,
          1,
          5,
          4,
          4,
          2,
          5,
          1,
          2,
          3,
          1,
          3,
          4,
          3,
          1,
          2,
          6,
          3,
          2,
          5,
          9,
          1,
          5,
          2,
          4,
          3,
          3,
          5,
          2,
          3,
          2,
          2,
          1,
          7,
          2,
          3,
          2,
          3,
          3,
          2,
          5,
          3,
          1,
          5,
          6,
          2,
          1,
          5,
          2,
          2,
          3,
          2,
          9,
          2,
          5,
          5,
          6,
          2,
          4,
          5,
          1,
          2,
          11,
          4,
          2,
          2,
          9,
          6,
          3,
          9,
          3,
          6,
          2,
          7,
          5,
          5,
          3,
          3,
          6,
          3,
          9,
          4,
          4,
          3,
          5,
          5,
          14,
          3,
          5,
          5,
          2,
          5,
          1,
          1,
          4,
          4,
          2,
          3,
          5,
          4,
          3,
          2,
          9,
          2,
          7,
          1,
          2,
          2,
          14,
          3,
          4,
          3,
          2,
          2,
          2,
          6,
          4,
          3,
          7,
          2,
          1,
          1,
          3,
          7,
          5,
          3,
          5,
          6,
          7,
          3,
          9,
          5,
          1,
          5,
          3,
          2,
          9,
          1,
          1,
          6,
          3,
          5,
          1,
          1,
          1,
          3,
          3,
          3,
          3,
          2,
          7,
          3,
          1,
          3,
          5,
          5,
          3,
          7,
          3,
          5,
          5,
          3,
          4,
          2,
          3,
          9,
          7,
          3,
          3,
          2,
          4,
          4,
          9,
          3,
          2,
          3,
          2,
          2,
          3,
          2,
          1,
          2,
          4,
          3,
          7,
          7,
          2,
          3,
          3,
          5,
          3,
          3,
          5,
          4,
          2,
          4,
          5,
          3,
          3,
          4,
          1,
          3,
          4,
          10,
          6,
          3,
          6,
          6,
          1,
          4,
          3,
          4,
          1,
          2,
          7,
          1,
          3,
          1,
          3,
          1,
          3,
          1,
          4,
          4,
          6,
          6,
          7,
          7,
          5,
          3,
          7,
          1,
          2,
          1,
          2,
          9,
          4,
          3,
          2,
          2,
          4,
          2,
          2,
          3,
          4,
          3,
          3,
          2,
          2,
          4,
          4,
          2,
          3,
          3,
          1,
          4,
          3,
          4,
          9,
          4,
          2,
          1,
          5,
          4,
          3,
          4,
          1,
          2,
          2,
          2,
          1,
          4,
          3,
          5,
          5,
          3,
          5,
          4,
          5,
          5,
          2,
          4,
          5,
          4,
          7,
          5,
          2,
          3,
          2,
          3,
          1,
          3,
          3,
          2,
          7,
          3,
          1,
          5,
          2,
          2,
          2,
          2,
          3,
          2,
          3,
          2,
          5,
          1,
          6,
          4,
          7,
          3,
          1,
          7,
          3,
          3,
          7,
          3,
          6,
          4,
          2,
          9,
          9,
          2,
          3,
          3,
          3,
          1,
          2,
          2,
          1,
          2,
          3,
          1,
          3,
          3,
          5,
          4,
          4,
          1,
          9,
          3,
          3,
          4,
          5,
          4,
          1,
          2,
          3,
          3,
          3,
          3,
          3,
          5,
          7,
          2,
          4,
          6,
          5,
          3,
          2,
          2,
          4,
          2,
          7,
          10,
          8,
          1,
          4,
          3,
          3,
          2,
          3,
          3,
          2,
          5,
          3,
          3,
          1,
          4,
          12,
          2,
          4,
          1,
          5,
          4,
          4,
          5,
          4,
          3,
          2,
          6,
          4,
          5,
          2,
          4,
          5,
          5,
          4,
          3,
          4,
          9,
          2,
          4,
          3,
          6,
          3,
          2,
          1,
          2,
          4,
          3,
          1,
          2,
          5,
          2,
          2,
          10,
          5,
          2,
          2,
          2,
          2,
          6,
          6,
          2,
          4,
          6,
          1,
          5,
          7,
          7,
          3,
          5,
          2,
          5,
          4,
          3,
          3,
          4,
          4,
          3,
          2,
          1,
          4,
          2,
          3,
          3,
          3,
          3,
          6,
          3,
          3,
          5,
          8,
          2,
          7,
          3,
          1,
          5,
          2,
          2,
          3,
          2,
          8,
          2,
          5,
          5,
          2,
          3,
          1,
          4,
          5,
          3,
          2,
          4,
          3,
          6,
          4,
          3,
          3,
          3,
          2,
          3,
          7,
          3,
          3,
          9,
          5,
          7,
          5,
          5,
          3,
          4,
          7,
          1,
          8,
          2,
          5,
          2,
          4,
          3,
          5,
          3,
          3,
          6,
          8,
          8,
          1,
          1,
          3,
          2,
          2,
          2,
          3,
          2,
          6,
          2,
          3,
          3,
          9,
          5,
          6,
          9,
          2,
          1,
          6,
          3,
          1,
          2,
          3,
          2,
          9,
          2,
          4,
          2,
          1,
          3,
          2,
          11,
          2,
          5,
          3,
          3,
          2,
          4,
          2,
          5,
          2,
          3,
          7,
          2,
          6,
          9,
          2,
          6,
          4,
          3,
          3,
          3,
          8,
          2,
          2,
          4,
          5,
          2,
          1,
          6,
          4,
          3,
          2,
          14,
          5,
          2,
          4,
          3,
          6,
          6,
          2,
          3,
          5,
          4,
          2,
          6,
          3,
          4,
          4,
          2,
          2,
          6,
          5,
          10,
          4,
          2,
          3,
          1,
          3,
          3,
          12,
          4,
          3,
          4,
          3,
          5,
          3,
          3,
          2,
          3,
          2,
          2,
          3,
          2,
          5,
          2,
          2,
          4,
          7,
          2,
          4,
          2,
          5,
          3,
          2,
          8,
          5,
          10,
          3,
          6,
          6,
          4,
          9,
          3,
          5,
          5,
          5,
          2,
          3,
          7,
          3,
          2,
          4,
          3,
          5,
          8,
          2,
          7,
          4,
          1,
          2,
          9,
          7,
          3,
          3,
          2,
          1,
          3,
          8,
          3,
          6,
          2,
          7,
          9,
          4,
          7,
          3,
          1,
          4,
          3,
          4,
          3,
          4,
          2,
          3,
          11,
          5,
          5,
          3,
          4,
          3,
          2,
          1,
          8,
          2,
          3,
          6,
          3,
          2,
          1,
          3,
          2,
          1,
          1,
          9,
          3,
          8,
          4,
          1,
          2,
          3,
          4,
          3,
          4,
          7,
          3,
          5,
          2,
          9,
          2,
          5,
          1,
          9,
          5,
          7,
          3,
          3,
          5,
          7,
          2,
          2,
          3,
          2,
          2,
          3,
          5,
          5,
          2,
          3,
          3,
          6,
          4,
          8,
          2,
          3,
          3,
          1,
          6,
          5,
          4,
          3,
          3,
          3,
          2,
          5,
          3,
          1,
          7,
          1,
          3,
          3,
          8,
          1,
          3,
          3,
          1,
          4,
          2,
          3,
          2,
          5,
          6,
          2,
          3,
          2,
          3,
          5,
          4,
          1,
          3,
          5,
          4,
          2,
          3,
          3,
          5,
          4,
          5,
          4,
          5,
          4,
          2,
          4,
          4,
          3,
          2,
          2,
          3,
          5,
          1,
          3,
          2,
          5,
          2,
          1,
          1,
          2,
          5,
          5,
          4,
          1,
          6,
          2,
          7,
          5,
          1,
          8,
          1,
          1,
          2,
          5,
          5,
          2,
          4,
          3,
          3,
          2,
          5,
          2,
          2,
          1,
          5,
          8,
          5,
          4,
          4,
          2,
          8,
          1,
          2,
          2,
          5,
          2,
          2,
          2,
          6,
          4,
          1,
          2,
          2,
          5,
          8,
          6,
          2,
          1,
          3,
          3,
          2,
          7,
          5,
          5,
          3,
          1,
          2,
          3,
          6,
          5,
          1,
          4,
          2,
          2,
          3,
          3,
          3,
          7,
          8,
          3,
          4,
          1,
          2,
          3,
          2,
          6,
          7,
          3,
          5,
          5,
          4,
          5,
          3,
          4,
          5,
          5,
          3,
          2,
          5,
          3,
          6,
          5,
          1,
          1,
          2,
          2,
          1,
          3,
          2,
          2,
          7,
          1,
          7,
          2,
          5,
          5,
          3,
          2,
          5,
          2,
          6,
          7,
          5,
          5,
          6,
          2,
          7,
          10,
          3,
          4,
          3,
          2,
          1,
          3,
          5,
          7,
          2,
          2,
          2,
          6,
          4,
          4,
          3,
          14,
          5,
          4,
          2,
          5,
          4,
          2,
          3,
          2,
          3,
          9,
          14,
          6,
          6,
          7,
          3,
          3,
          3,
          4,
          4,
          5,
          3,
          3,
          6,
          4,
          7,
          2,
          3,
          5,
          10,
          2,
          1,
          4,
          3,
          7,
          2,
          1,
          5,
          5,
          4,
          4,
          3,
          3,
          5,
          1,
          5,
          3,
          10,
          3,
          3,
          1,
          5,
          6,
          2,
          3,
          1,
          5,
          2,
          1,
          6,
          3,
          6,
          4,
          2,
          5,
          4,
          3,
          1,
          1,
          1,
          9,
          5,
          1,
          5,
          3,
          2,
          3,
          4,
          4,
          5,
          2,
          3,
          3,
          3,
          2,
          4,
          8,
          8,
          3,
          6,
          7,
          1,
          3,
          3,
          3,
          6,
          4,
          5,
          6,
          3,
          3,
          2,
          3,
          3,
          5,
          2,
          7,
          5,
          1,
          1,
          2,
          3,
          3,
          8,
          6,
          3,
          3,
          7,
          4,
          6,
          3,
          6,
          3,
          2,
          3,
          5,
          3,
          2,
          6,
          4,
          5,
          6,
          5,
          3,
          6,
          8,
          1,
          4,
          4,
          2,
          14,
          5,
          3,
          5,
          1,
          1,
          11,
          4,
          5,
          3,
          6,
          8,
          6,
          2,
          9,
          4,
          7,
          4,
          3,
          2,
          7,
          2,
          5,
          2,
          4,
          5,
          3,
          1,
          2,
          5,
          2,
          9,
          2,
          2,
          7,
          5,
          7,
          5,
          5,
          2,
          2,
          5,
          2,
          2,
          7,
          4,
          6,
          2,
          5,
          3,
          7,
          1,
          4,
          3,
          2,
          6,
          1,
          2,
          5,
          4,
          4,
          5,
          4,
          6,
          11,
          3,
          3,
          3,
          3,
          1,
          2,
          2,
          3,
          4,
          4,
          2,
          3,
          3,
          7,
          3,
          4,
          3,
          8,
          3,
          6,
          3,
          3,
          6,
          6,
          4,
          4,
          3,
          5,
          2,
          3,
          6,
          3,
          3,
          4,
          5,
          6,
          3,
          4,
          4,
          4,
          2,
          2,
          3,
          3,
          9,
          4,
          3,
          2,
          3,
          3,
          6,
          6,
          5,
          5,
          1,
          3,
          2,
          2,
          2,
          2,
          2,
          4,
          5,
          4,
          6,
          2,
          1,
          3,
          2,
          5,
          2,
          3,
          3,
          2,
          5,
          7,
          5,
          5,
          3,
          2,
          1,
          6,
          4,
          3,
          9,
          3,
          2,
          2,
          8,
          4,
          3,
          1,
          5,
          4,
          3,
          7,
          4,
          5,
          1,
          3,
          2,
          3,
          2,
          2,
          1,
          5,
          1,
          2,
          3,
          2,
          2,
          2,
          2,
          1,
          3,
          3,
          2,
          1,
          2,
          4,
          8,
          2,
          3,
          5,
          3,
          5,
          3,
          2,
          2,
          5,
          9,
          2,
          2,
          5,
          2,
          7,
          2,
          3,
          4,
          3,
          1,
          2,
          5,
          1,
          4,
          5,
          5,
          3,
          3,
          3,
          5,
          4,
          2,
          4,
          1,
          2,
          4,
          6,
          7,
          4,
          3,
          4,
          2,
          3,
          3,
          2,
          5,
          11,
          8,
          3,
          2,
          2,
          5,
          3,
          2,
          9,
          2,
          9,
          3,
          1,
          5,
          3,
          2,
          3,
          6,
          1,
          5,
          5,
          9,
          3,
          5,
          8,
          4,
          2,
          3,
          3,
          8,
          7,
          3,
          4,
          4,
          2,
          2,
          5,
          3,
          7,
          6,
          7,
          5,
          4,
          2,
          5,
          1,
          2,
          2,
          2,
          3,
          2,
          3,
          4,
          2,
          1,
          6,
          4,
          5,
          3,
          2,
          7,
          1,
          5,
          2,
          7,
          12,
          3,
          4,
          3,
          7,
          1,
          1,
          2,
          2,
          2,
          3,
          2,
          2,
          4,
          2,
          5,
          4,
          3,
          5,
          4,
          5,
          2,
          2,
          3,
          7,
          3,
          2,
          3,
          4,
          5,
          2,
          5,
          1,
          1,
          3,
          2,
          3,
          5,
          3,
          5,
          2,
          2,
          9,
          3,
          5,
          2,
          2,
          2,
          4,
          2,
          2,
          4,
          2,
          9,
          5,
          4,
          3,
          5,
          1,
          4,
          4,
          2,
          5,
          5,
          2,
          3,
          5,
          3,
          7,
          5,
          4,
          4,
          4,
          2,
          3,
          2,
          4,
          7,
          2,
          1,
          2,
          2,
          2,
          3,
          1,
          5,
          2,
          1,
          3,
          3,
          2,
          3,
          3,
          7,
          3,
          1,
          3,
          9,
          6,
          9,
          6,
          4,
          2,
          5,
          3,
          2,
          3,
          3,
          3,
          3,
          3,
          2,
          2,
          3,
          2,
          3,
          2,
          5,
          4,
          2,
          2,
          1,
          4,
          3,
          2,
          5,
          2,
          1,
          4,
          5,
          3,
          9,
          7,
          3,
          2,
          2,
          3,
          3,
          2,
          3,
          7,
          6,
          2,
          9,
          1,
          2,
          2,
          1,
          5,
          4,
          2,
          5,
          7,
          9,
          4,
          3,
          3,
          5,
          2,
          9,
          5,
          2,
          3,
          4,
          1,
          3,
          3,
          2,
          5,
          6,
          6,
          2,
          5,
          9,
          6,
          3,
          2,
          3,
          2,
          6,
          3,
          9,
          2,
          2,
          4,
          2,
          2,
          5,
          2,
          6,
          2,
          2,
          1,
          3,
          2,
          1,
          7,
          2,
          3,
          3,
          3,
          3,
          5,
          4,
          4,
          7,
          3,
          4,
          2,
          2,
          3,
          5,
          2,
          4,
          3,
          4,
          5,
          5,
          5,
          1,
          3,
          1,
          3,
          3,
          3,
          2,
          2,
          2,
          7,
          6,
          5,
          1,
          4,
          1,
          2,
          4,
          3,
          5,
          8,
          3,
          2,
          4,
          3,
          10,
          3,
          2,
          3,
          5,
          5,
          3,
          8,
          3,
          2,
          3,
          3,
          3,
          2,
          5,
          9,
          2,
          3,
          4,
          2,
          4,
          3,
          3,
          4,
          8,
          6,
          4,
          2,
          5,
          2,
          2,
          2,
          1,
          7,
          5,
          3,
          2,
          2,
          11,
          2,
          4,
          2,
          3,
          12,
          3,
          3,
          5,
          4,
          3,
          2,
          4,
          2,
          3,
          3,
          3,
          3,
          7,
          4,
          5,
          5,
          6,
          3,
          2,
          2,
          4,
          8,
          2,
          2,
          3,
          3,
          7,
          7,
          7,
          6,
          2,
          9,
          7,
          5,
          3,
          5,
          8,
          2,
          3,
          4,
          3,
          3,
          5,
          4,
          2,
          6,
          5,
          7,
          1,
          7,
          5,
          4,
          7,
          2,
          3,
          4,
          2,
          8,
          2,
          4,
          2,
          3,
          5,
          7,
          10,
          2,
          3,
          7,
          2,
          5,
          3,
          5,
          2,
          4,
          1,
          3,
          3,
          9,
          2,
          9,
          2,
          7,
          1,
          2,
          6,
          5,
          4,
          2,
          6,
          3,
          5,
          2,
          2,
          3,
          4,
          2,
          3,
          3,
          5,
          2,
          2,
          8,
          1,
          3,
          1,
          3,
          7,
          5,
          5,
          3,
          2,
          2,
          3,
          5,
          1,
          2,
          4,
          7,
          6,
          1,
          7,
          2,
          3,
          2,
          2,
          1,
          3,
          2,
          2,
          13,
          3,
          6,
          6,
          4,
          1,
          1,
          3,
          6,
          5,
          7,
          8,
          5,
          5,
          8,
          1,
          2,
          6,
          3,
          3,
          3,
          3,
          3,
          8,
          2,
          2,
          7,
          3,
          2,
          2,
          11,
          3,
          7,
          1,
          3,
          4,
          6,
          3,
          3,
          5,
          5,
          2,
          3,
          2,
          3,
          6,
          14,
          3,
          2,
          5,
          3,
          5,
          3,
          5,
          2,
          3,
          6,
          9,
          4,
          1,
          7,
          4,
          5,
          3,
          2,
          3,
          5,
          8,
          1,
          2,
          1,
          2,
          1,
          2,
          5,
          3,
          5,
          1,
          5,
          5,
          2,
          3,
          4,
          3,
          2,
          2,
          3,
          2,
          2,
          4,
          3,
          3,
          5,
          3,
          6,
          5,
          5,
          5,
          5,
          2,
          3,
          2,
          3,
          1,
          2,
          1,
          5,
          5,
          3,
          5,
          5,
          6,
          2,
          4,
          2,
          2,
          1,
          7,
          9,
          4,
          2,
          9,
          2,
          8,
          2,
          8,
          4,
          3,
          2,
          4,
          2,
          5,
          4,
          9,
          2,
          2,
          2,
          4,
          4,
          1,
          1,
          4,
          7,
          1,
          5,
          5,
          9,
          4,
          2,
          6,
          6,
          3,
          5,
          2,
          2,
          3,
          4,
          4,
          3,
          3,
          3,
          2,
          1,
          2,
          4,
          2,
          2,
          2,
          9,
          5,
          5,
          7,
          5,
          2,
          5,
          4,
          5,
          1,
          2,
          2,
          2,
          6,
          2,
          7,
          5,
          6,
          3,
          6,
          3,
          3,
          3,
          4,
          2,
          5,
          3,
          2,
          2,
          1,
          8,
          8,
          2,
          6,
          6,
          5,
          6,
          7,
          5,
          1,
          3,
          3,
          6,
          3,
          4,
          7,
          5,
          6,
          3,
          3,
          3,
          6,
          1,
          4,
          2,
          4,
          1,
          3,
          4,
          9,
          4,
          3,
          5,
          4,
          1,
          2,
          4,
          2,
          1,
          3,
          8,
          3,
          3,
          2,
          7,
          5,
          3,
          4,
          3,
          3,
          7,
          9,
          2,
          3,
          3,
          7,
          4,
          3,
          2,
          3,
          5,
          5,
          6,
          10,
          2,
          3,
          2,
          9,
          2,
          4,
          7,
          3,
          2,
          1,
          2,
          3,
          9,
          2,
          5,
          1,
          5,
          5,
          4,
          3,
          1,
          5,
          9,
          6,
          2,
          5,
          5,
          7,
          7,
          8,
          1,
          1,
          1,
          3,
          3,
          7,
          2,
          6,
          6,
          4,
          4,
          5,
          3,
          2,
          2,
          4,
          9,
          3,
          3,
          2,
          4,
          4,
          4,
          2,
          4,
          4,
          5,
          3,
          7,
          5,
          5,
          4,
          1,
          9,
          3,
          6,
          3,
          2,
          1,
          3,
          5,
          4,
          3,
          3,
          4,
          3,
          4,
          2,
          6,
          1,
          3,
          9,
          1,
          9,
          1,
          8,
          3,
          3,
          2,
          6,
          4,
          7,
          5,
          4,
          2,
          1,
          3,
          6,
          2,
          2,
          3,
          4,
          3,
          3,
          2,
          3,
          3,
          5,
          3,
          2,
          3,
          6,
          3,
          5,
          2,
          4,
          3,
          2,
          2,
          3,
          1,
          1,
          2,
          3,
          3,
          4,
          3,
          4,
          4,
          2,
          4,
          3,
          3,
          4,
          9,
          5,
          2,
          1,
          2,
          4,
          2,
          3,
          3,
          2,
          6,
          3,
          2,
          2,
          3,
          2,
          2,
          2,
          7,
          5,
          4,
          3,
          3,
          2,
          2,
          1,
          9,
          3,
          5,
          5,
          3,
          5,
          2,
          2,
          2,
          5,
          3,
          3,
          1,
          3,
          3,
          3,
          4,
          4,
          3,
          2,
          10,
          2,
          2,
          1,
          3,
          3,
          8,
          3,
          5,
          2,
          5,
          2,
          4,
          5,
          3,
          1,
          3,
          3,
          2,
          4,
          4,
          1,
          2,
          2,
          7,
          3,
          2,
          1,
          3,
          3,
          6,
          2,
          2,
          3,
          6,
          3,
          8,
          6,
          9,
          3,
          3,
          5,
          1,
          4,
          3,
          3,
          3,
          3,
          3,
          2,
          5,
          2,
          2,
          4,
          2,
          2,
          3,
          4,
          2,
          3,
          11,
          4,
          5,
          12,
          2,
          3,
          3,
          2,
          2,
          2,
          2,
          4,
          4,
          2,
          5,
          3,
          4,
          4,
          2,
          2,
          3,
          4,
          2,
          6,
          3,
          2,
          2,
          4,
          2,
          4,
          2,
          2,
          6,
          1,
          2,
          4,
          2,
          6,
          6,
          8,
          2,
          7,
          3,
          5,
          1,
          5,
          9,
          2,
          5,
          3,
          3,
          5,
          2,
          8,
          7,
          6,
          5,
          2,
          1,
          5,
          2,
          2,
          1,
          10,
          2,
          3,
          8,
          3,
          2,
          2,
          2,
          5,
          3,
          4,
          1,
          2,
          2,
          2,
          3,
          5,
          3,
          4,
          7,
          3,
          1,
          3,
          6,
          3,
          3,
          5,
          2,
          3,
          2,
          3,
          9,
          3,
          8,
          2,
          10,
          9,
          7,
          2,
          5,
          3,
          5,
          6,
          6,
          3,
          2,
          4,
          4,
          2,
          4,
          5,
          4,
          5,
          3,
          1,
          5,
          8,
          4,
          4,
          8,
          4,
          3,
          1,
          1,
          4,
          3,
          2,
          2,
          3,
          3,
          3,
          3,
          3,
          1,
          2,
          4,
          5,
          5,
          3,
          5,
          5,
          4,
          3,
          1,
          2,
          4,
          2,
          3,
          6,
          6,
          5,
          12,
          7,
          4,
          4,
          6,
          7,
          2,
          3,
          2,
          12,
          4,
          3,
          5,
          6,
          7,
          5,
          8,
          1,
          3,
          6,
          9,
          1,
          10,
          2,
          3,
          5,
          5,
          1,
          2,
          1,
          1,
          4,
          6,
          3,
          5,
          3,
          2,
          9,
          2,
          6,
          3,
          3,
          6,
          6,
          2,
          4,
          1,
          9,
          5,
          3,
          3,
          7,
          5,
          1,
          6,
          3,
          1,
          5,
          2,
          9,
          5,
          3,
          2,
          5,
          2,
          4,
          3,
          2,
          3,
          2,
          3,
          6,
          5,
          5,
          4,
          4,
          5,
          14,
          2,
          3,
          1,
          3,
          8,
          6,
          3,
          5,
          7,
          10,
          5,
          3,
          4,
          2,
          9,
          7,
          2,
          5,
          3,
          4,
          2,
          5,
          5,
          1,
          3,
          3,
          2,
          7,
          7,
          6,
          1,
          6,
          4,
          4,
          6,
          2,
          5,
          4,
          2,
          5,
          3,
          1,
          5,
          4,
          2,
          3,
          11,
          3,
          4,
          2,
          3,
          2,
          3,
          5,
          2,
          2,
          4,
          3,
          3,
          3,
          7,
          7,
          9,
          8,
          10,
          4,
          3,
          3,
          4,
          4,
          6,
          2,
          4,
          7,
          2,
          2,
          2,
          3,
          4,
          2,
          2,
          2,
          5,
          3,
          5,
          2,
          6,
          2,
          6,
          7,
          3,
          3,
          7,
          7,
          2,
          3,
          7,
          1,
          6,
          4,
          4,
          6,
          5,
          2,
          4,
          8,
          5,
          3,
          1,
          3,
          1,
          4,
          9,
          3,
          1,
          6,
          4,
          7,
          3,
          2,
          2,
          4,
          5,
          3,
          5,
          1,
          5,
          2,
          3,
          4,
          2,
          1,
          1,
          6,
          4,
          2,
          5,
          3,
          4,
          1,
          1,
          2,
          3,
          3,
          2,
          3,
          4,
          2,
          6,
          2,
          10,
          1,
          2,
          2,
          3,
          3,
          7,
          5,
          2,
          2,
          4,
          5,
          2,
          1,
          2,
          4,
          2,
          3,
          8,
          3,
          3,
          5,
          2,
          2,
          2,
          2,
          5,
          2,
          1,
          4,
          8,
          3,
          5,
          6,
          9,
          1,
          4,
          3,
          4,
          3,
          7,
          2,
          1,
          4,
          4,
          2,
          8,
          4,
          1,
          7,
          9,
          3,
          2,
          3,
          3,
          3,
          3,
          2,
          2,
          8,
          3,
          6,
          5,
          7,
          6,
          2,
          1,
          3,
          4,
          2,
          9,
          2,
          2,
          3,
          3,
          2,
          5,
          3,
          2,
          4,
          5,
          7,
          2,
          9,
          3,
          3,
          4,
          7,
          3,
          2,
          7,
          3,
          1,
          8,
          1,
          2,
          2,
          2,
          5,
          5,
          3,
          4,
          7,
          3,
          1,
          4,
          1,
          5,
          3,
          4,
          9,
          2,
          4,
          5,
          6,
          5,
          3,
          7,
          5,
          3,
          3,
          5,
          1,
          10,
          5,
          1,
          2,
          4,
          5,
          5,
          2,
          3,
          7,
          2,
          6,
          2,
          2,
          5,
          3,
          2,
          4,
          4,
          2,
          5,
          3,
          2,
          1,
          3,
          1,
          6,
          6,
          1,
          1,
          3,
          7,
          3,
          2,
          4,
          3,
          2,
          3,
          1,
          5,
          2,
          6,
          2,
          2,
          3,
          5,
          3,
          3,
          7,
          5,
          2,
          1,
          5,
          3,
          2,
          4,
          4,
          5,
          2,
          7,
          5,
          4,
          4,
          7,
          4,
          10,
          3,
          3,
          5,
          3,
          1,
          4,
          2,
          3,
          5,
          2,
          5,
          8,
          2,
          2,
          6,
          5,
          2,
          10,
          4,
          2,
          5,
          2,
          11,
          2,
          4,
          2,
          3,
          4,
          2,
          1,
          3,
          4,
          4,
          2,
          3,
          8,
          1,
          5,
          4,
          3,
          5,
          2,
          3,
          3,
          3,
          3,
          5,
          3,
          2,
          3,
          4,
          3,
          3,
          2,
          6,
          4,
          2,
          3,
          1,
          1,
          4,
          2,
          1,
          4,
          2,
          2,
          2,
          3,
          2,
          5,
          10,
          2,
          2,
          3,
          5,
          8,
          7,
          3,
          8,
          3,
          1,
          3,
          3,
          3,
          2,
          6,
          2,
          2,
          3,
          2,
          4,
          9,
          5,
          3,
          11,
          1,
          2,
          2,
          2,
          4,
          3,
          12,
          2,
          6,
          1,
          3,
          3,
          14,
          1,
          7,
          2,
          6,
          3,
          2,
          2,
          2,
          4,
          2,
          7,
          3,
          2,
          3,
          4,
          5,
          3,
          2,
          5,
          2,
          7,
          2,
          1,
          4,
          2,
          3,
          4,
          4,
          3,
          4,
          3,
          8,
          7,
          7,
          9,
          3,
          9,
          3,
          3,
          2,
          5,
          3,
          6,
          3,
          4,
          6,
          7,
          13,
          2,
          3,
          5,
          2,
          3,
          4,
          1,
          2,
          2,
          1,
          3,
          2,
          2,
          5,
          2,
          7,
          5,
          5,
          2,
          2,
          3,
          2,
          3,
          3,
          4,
          2,
          1,
          4,
          3,
          3,
          2,
          1,
          7,
          2,
          3,
          5,
          2,
          2,
          4,
          2,
          2,
          5,
          2,
          3,
          2,
          3,
          2,
          3,
          7,
          4,
          5,
          2,
          4,
          6,
          5,
          3,
          3,
          5,
          2,
          2,
          4,
          5,
          6,
          3,
          2,
          5,
          5,
          7,
          5,
          3,
          5,
          6,
          11,
          1,
          7,
          1,
          3,
          2,
          5,
          3,
          5,
          3,
          2,
          2,
          4,
          2,
          1,
          2,
          1,
          6,
          5,
          4,
          6,
          7,
          5,
          5,
          5,
          4,
          1,
          4,
          3,
          2,
          2,
          3,
          3,
          6,
          1,
          5,
          8,
          5,
          7,
          5,
          3,
          2,
          7,
          6,
          2,
          5,
          2,
          3,
          2,
          2,
          5,
          5,
          3,
          1,
          3,
          4,
          2,
          8,
          8,
          1,
          5,
          2,
          8,
          1,
          2,
          2,
          4,
          3,
          3,
          3,
          3,
          6,
          5,
          1,
          4,
          2,
          8,
          3,
          2,
          9,
          2,
          7,
          6,
          4,
          3,
          3,
          2,
          3,
          7,
          3,
          3,
          3,
          5,
          4,
          3,
          5,
          4,
          2,
          5,
          3,
          1,
          3,
          4,
          3,
          2,
          2,
          2,
          3,
          2,
          4,
          3,
          6,
          3,
          2,
          2,
          8,
          3,
          3,
          1,
          8,
          1,
          2,
          2,
          2,
          3,
          5,
          4,
          3,
          4,
          4,
          3,
          6,
          2,
          2,
          5,
          8,
          3,
          3,
          2,
          6,
          4,
          3,
          2,
          5,
          3,
          4,
          3,
          2,
          9,
          7,
          2,
          5,
          5,
          4,
          2,
          2,
          5,
          5,
          2,
          2,
          2,
          3,
          3,
          3,
          2,
          3,
          5,
          5,
          4,
          3,
          5,
          3,
          2,
          6,
          4,
          2,
          6,
          4,
          2,
          2,
          2,
          2,
          3,
          3,
          5,
          7,
          2,
          2,
          10,
          2,
          2,
          1,
          2,
          4,
          3,
          5,
          3,
          2,
          3,
          3,
          2,
          5,
          3,
          3,
          5,
          2,
          1,
          10,
          2,
          2,
          4,
          5,
          3,
          3,
          6,
          2,
          5,
          1,
          3,
          4,
          4,
          4,
          6,
          3,
          5,
          2,
          2,
          5,
          12,
          4,
          2,
          2,
          5,
          2,
          1,
          4,
          3,
          11,
          3,
          7,
          2,
          3,
          4,
          3,
          8,
          2,
          9,
          3,
          7,
          2,
          9,
          2,
          3,
          3,
          3,
          4,
          3,
          2,
          3,
          4,
          3,
          2,
          1,
          3,
          9,
          7,
          8,
          3,
          3,
          9,
          2,
          2,
          6,
          4,
          4,
          2,
          6,
          2,
          2,
          3,
          3,
          4,
          4,
          3,
          3,
          5,
          4,
          2,
          3,
          5,
          3,
          2,
          3,
          14,
          5,
          2,
          5,
          2,
          3,
          7,
          3,
          3,
          3,
          3,
          3,
          5,
          1,
          6,
          2,
          3,
          7,
          5,
          4,
          2,
          3,
          2,
          5,
          5,
          5,
          4,
          2,
          3,
          5,
          2,
          1,
          7,
          1,
          9,
          2,
          2,
          1,
          7,
          7,
          2,
          1,
          2,
          2,
          1,
          2,
          3,
          4,
          5,
          2,
          3,
          5,
          2,
          2,
          2,
          7,
          5,
          2,
          7,
          5,
          5,
          2,
          2,
          7,
          5,
          3,
          1,
          3,
          6,
          8,
          6,
          1,
          2,
          2,
          1,
          4,
          2,
          7,
          5,
          5,
          2,
          1,
          3,
          3,
          2,
          6,
          13,
          3,
          1,
          3,
          4,
          3,
          3,
          3,
          2,
          4,
          4,
          2,
          2,
          4,
          4,
          4,
          2,
          3,
          13,
          1,
          4,
          3,
          3,
          2,
          5,
          5,
          5,
          3,
          3,
          2,
          2,
          4,
          2,
          2,
          2,
          11,
          7,
          3,
          7,
          4,
          4,
          6,
          13,
          3,
          4,
          2,
          2,
          3,
          3,
          3,
          2,
          2,
          5,
          6,
          3,
          4,
          3,
          4,
          1,
          6,
          3,
          2,
          3,
          5,
          2,
          2,
          5,
          3,
          5,
          8,
          3,
          6,
          2,
          6,
          2,
          7,
          5,
          7,
          2,
          3,
          3,
          2,
          5,
          10,
          2,
          3,
          2,
          7,
          2,
          5,
          2,
          4,
          3,
          5,
          2,
          2,
          3,
          4,
          7,
          5,
          7,
          1,
          9,
          3,
          4,
          2,
          3,
          7,
          3,
          2,
          2,
          3,
          5,
          3,
          1,
          3,
          2,
          5,
          7,
          2,
          4,
          2,
          9,
          5,
          3,
          2,
          6,
          13,
          4,
          5,
          2,
          2,
          7,
          2,
          6,
          2,
          13,
          9,
          3,
          5,
          7,
          3,
          3,
          2,
          4,
          1,
          3,
          14,
          2,
          2,
          1,
          3,
          3,
          3,
          3,
          3,
          2,
          1,
          3,
          3,
          3,
          4,
          2,
          1,
          1,
          5,
          2,
          4,
          6,
          2,
          2,
          7,
          2,
          7,
          4,
          2,
          5,
          6,
          1,
          1,
          1,
          3,
          5,
          8,
          3,
          8,
          3,
          1,
          1,
          3,
          3,
          2,
          3,
          7,
          5,
          1,
          2,
          7,
          3,
          3,
          4,
          4,
          6,
          2,
          4,
          3,
          7,
          4,
          3,
          9,
          6,
          9,
          3,
          4,
          7,
          3,
          1,
          2,
          7,
          3,
          3,
          6,
          1,
          2,
          5,
          3,
          1,
          1,
          7,
          8,
          2,
          5,
          2,
          1,
          3,
          2,
          3,
          3,
          2,
          3,
          3,
          3,
          5,
          3,
          7,
          2,
          1,
          3,
          7,
          6,
          3,
          4,
          3,
          7,
          6,
          2,
          4,
          7,
          2,
          2,
          5,
          4,
          2,
          3,
          1,
          3,
          3,
          6,
          1,
          3,
          3,
          1,
          6,
          3,
          4,
          2,
          4,
          3,
          2,
          1,
          2,
          3,
          3,
          1,
          5,
          2,
          2,
          4,
          6,
          8,
          2,
          4,
          7,
          2,
          3,
          4,
          1,
          2,
          2,
          4,
          3,
          4,
          8,
          2,
          3,
          4,
          2,
          1,
          4,
          2,
          3,
          4,
          4,
          3,
          2,
          5,
          1,
          6,
          3,
          5,
          3,
          7,
          5,
          5,
          1,
          2,
          5,
          8,
          2,
          4,
          3,
          2,
          3,
          3,
          2,
          2,
          5,
          3,
          1,
          7,
          6,
          7,
          3,
          4,
          2,
          2,
          6,
          2,
          3,
          4,
          3,
          5,
          7,
          6,
          2,
          3,
          2,
          2,
          3,
          1,
          2,
          1,
          5,
          4,
          8,
          4,
          1,
          3,
          1,
          5,
          1,
          8,
          5,
          2,
          2,
          6,
          1,
          9,
          6,
          4,
          2,
          2,
          6,
          5,
          2,
          2,
          9,
          1,
          1,
          5,
          1,
          5,
          2,
          2,
          3,
          3,
          2,
          3,
          2,
          6,
          6,
          5,
          3,
          3,
          6,
          5,
          5,
          8,
          5,
          1,
          2,
          2,
          7,
          3,
          4,
          2,
          2,
          4,
          2,
          2,
          5,
          2,
          2,
          4,
          3,
          6,
          5,
          4,
          2,
          9,
          3,
          6,
          3,
          2,
          1,
          3,
          5,
          3,
          1,
          3,
          6,
          2,
          4,
          6,
          2,
          6,
          2,
          2,
          2,
          2,
          1,
          2,
          5,
          2,
          7,
          2,
          3,
          5,
          3,
          5,
          2,
          2,
          6,
          10,
          9,
          3,
          3,
          2,
          7,
          8,
          3,
          9,
          7,
          2,
          6,
          1,
          1,
          3,
          10,
          3,
          3,
          9,
          1,
          7,
          2,
          2,
          5,
          3,
          6,
          9,
          3,
          1,
          5,
          6,
          14,
          3,
          3,
          3,
          4,
          2,
          3,
          3,
          3,
          5,
          5,
          3,
          6,
          2,
          2,
          2,
          2,
          14,
          7,
          2,
          2,
          3,
          2,
          5,
          2,
          7,
          3,
          5,
          2,
          3,
          2,
          2,
          2,
          2,
          3,
          3,
          6,
          4,
          7,
          5,
          2,
          7,
          2,
          5,
          5,
          2,
          3,
          3,
          2,
          2,
          7,
          5,
          2,
          4,
          6,
          2,
          2,
          1,
          5,
          3,
          1,
          2,
          5,
          3,
          1,
          5,
          5,
          6,
          1,
          4,
          1,
          5,
          4,
          4,
          3,
          9,
          5,
          5,
          2,
          2,
          3,
          2,
          3,
          3,
          1,
          8,
          5,
          5,
          3,
          4,
          4,
          3,
          6,
          3,
          4,
          9,
          4,
          2,
          1,
          7,
          2,
          2,
          3,
          3,
          5,
          6,
          2,
          4,
          2,
          3,
          3,
          2,
          3,
          7,
          2,
          3,
          6,
          8,
          3,
          7,
          9,
          2,
          4,
          2,
          13,
          5,
          5,
          6,
          2,
          7,
          2,
          2,
          4,
          3,
          8,
          9,
          2,
          6,
          2,
          2,
          3,
          1,
          4,
          4,
          5,
          9,
          2,
          3,
          3,
          2,
          3,
          3,
          7,
          3,
          3,
          7,
          5,
          2,
          5,
          1,
          4,
          6,
          3,
          1,
          2,
          9,
          3,
          6,
          8,
          2,
          1,
          6,
          9,
          5,
          4,
          4,
          3,
          11,
          6,
          2,
          4,
          5,
          4,
          3,
          4,
          3,
          2,
          1,
          5,
          3,
          3,
          3,
          3,
          2,
          3,
          2,
          2,
          6,
          5,
          2,
          2,
          4,
          5,
          5,
          2,
          2,
          3,
          3,
          13,
          2,
          3,
          7,
          5,
          2,
          2,
          5,
          8,
          13,
          2,
          1,
          1,
          2,
          2,
          6,
          5,
          3,
          5,
          5,
          3,
          4,
          2,
          2,
          2,
          4,
          2,
          2,
          3,
          1,
          2,
          2,
          3,
          2,
          5,
          4,
          5,
          2,
          3,
          2,
          2,
          5,
          2,
          1,
          5,
          6,
          5,
          4,
          2,
          5,
          1,
          8,
          3,
          4,
          9,
          5,
          2,
          3,
          2,
          5,
          1,
          2,
          3,
          5,
          5,
          3,
          1,
          2,
          6,
          2,
          1,
          3,
          3,
          2,
          2,
          4,
          2,
          3,
          7,
          2,
          1,
          1,
          2,
          8,
          4,
          2,
          5,
          4,
          4,
          3,
          5,
          5,
          7,
          4,
          7,
          2,
          3,
          10,
          2,
          3,
          3,
          4,
          3,
          4,
          2,
          3,
          3,
          4,
          7,
          1,
          7,
          4,
          2,
          5,
          2,
          1,
          3,
          8,
          2,
          4,
          4,
          7,
          3,
          5,
          5,
          5,
          2,
          2,
          3,
          2,
          5,
          4,
          2,
          6,
          8,
          5,
          2,
          4,
          2,
          4,
          1,
          4,
          2,
          7,
          3,
          2,
          2,
          3,
          2,
          2,
          1,
          2,
          2,
          4,
          5,
          3,
          7,
          3,
          3,
          13,
          2,
          3,
          2,
          3,
          2,
          1,
          3,
          2,
          7,
          5,
          4,
          5,
          11,
          2,
          3,
          2,
          1,
          3,
          3,
          1,
          3,
          2,
          7,
          3,
          3,
          5,
          3,
          2,
          7,
          3,
          3,
          2,
          5,
          1,
          3,
          1,
          5,
          7,
          3,
          4,
          3,
          1,
          8,
          2,
          4,
          3,
          5,
          2,
          4,
          7,
          3,
          3,
          3,
          3,
          2,
          5,
          4,
          7,
          14,
          9,
          5,
          3,
          1,
          3,
          6,
          8,
          3,
          1,
          2,
          2,
          1,
          3,
          2,
          5,
          4,
          2,
          2,
          1,
          2,
          4,
          2,
          1,
          1,
          7,
          5,
          2,
          7,
          2,
          5,
          2,
          5,
          7,
          2,
          2,
          7,
          4,
          14,
          1,
          5,
          7,
          2,
          10,
          4,
          1,
          1,
          5,
          3,
          2,
          2,
          4,
          2
         ]
        }
       ],
       "layout": {
        "template": {
         "data": {
          "bar": [
           {
            "error_x": {
             "color": "#2a3f5f"
            },
            "error_y": {
             "color": "#2a3f5f"
            },
            "marker": {
             "line": {
              "color": "white",
              "width": 0.5
             },
             "pattern": {
              "fillmode": "overlay",
              "size": 10,
              "solidity": 0.2
             }
            },
            "type": "bar"
           }
          ],
          "barpolar": [
           {
            "marker": {
             "line": {
              "color": "white",
              "width": 0.5
             },
             "pattern": {
              "fillmode": "overlay",
              "size": 10,
              "solidity": 0.2
             }
            },
            "type": "barpolar"
           }
          ],
          "carpet": [
           {
            "aaxis": {
             "endlinecolor": "#2a3f5f",
             "gridcolor": "#C8D4E3",
             "linecolor": "#C8D4E3",
             "minorgridcolor": "#C8D4E3",
             "startlinecolor": "#2a3f5f"
            },
            "baxis": {
             "endlinecolor": "#2a3f5f",
             "gridcolor": "#C8D4E3",
             "linecolor": "#C8D4E3",
             "minorgridcolor": "#C8D4E3",
             "startlinecolor": "#2a3f5f"
            },
            "type": "carpet"
           }
          ],
          "choropleth": [
           {
            "colorbar": {
             "outlinewidth": 0,
             "ticks": ""
            },
            "type": "choropleth"
           }
          ],
          "contour": [
           {
            "colorbar": {
             "outlinewidth": 0,
             "ticks": ""
            },
            "colorscale": [
             [
              0,
              "#0d0887"
             ],
             [
              0.1111111111111111,
              "#46039f"
             ],
             [
              0.2222222222222222,
              "#7201a8"
             ],
             [
              0.3333333333333333,
              "#9c179e"
             ],
             [
              0.4444444444444444,
              "#bd3786"
             ],
             [
              0.5555555555555556,
              "#d8576b"
             ],
             [
              0.6666666666666666,
              "#ed7953"
             ],
             [
              0.7777777777777778,
              "#fb9f3a"
             ],
             [
              0.8888888888888888,
              "#fdca26"
             ],
             [
              1,
              "#f0f921"
             ]
            ],
            "type": "contour"
           }
          ],
          "contourcarpet": [
           {
            "colorbar": {
             "outlinewidth": 0,
             "ticks": ""
            },
            "type": "contourcarpet"
           }
          ],
          "heatmap": [
           {
            "colorbar": {
             "outlinewidth": 0,
             "ticks": ""
            },
            "colorscale": [
             [
              0,
              "#0d0887"
             ],
             [
              0.1111111111111111,
              "#46039f"
             ],
             [
              0.2222222222222222,
              "#7201a8"
             ],
             [
              0.3333333333333333,
              "#9c179e"
             ],
             [
              0.4444444444444444,
              "#bd3786"
             ],
             [
              0.5555555555555556,
              "#d8576b"
             ],
             [
              0.6666666666666666,
              "#ed7953"
             ],
             [
              0.7777777777777778,
              "#fb9f3a"
             ],
             [
              0.8888888888888888,
              "#fdca26"
             ],
             [
              1,
              "#f0f921"
             ]
            ],
            "type": "heatmap"
           }
          ],
          "heatmapgl": [
           {
            "colorbar": {
             "outlinewidth": 0,
             "ticks": ""
            },
            "colorscale": [
             [
              0,
              "#0d0887"
             ],
             [
              0.1111111111111111,
              "#46039f"
             ],
             [
              0.2222222222222222,
              "#7201a8"
             ],
             [
              0.3333333333333333,
              "#9c179e"
             ],
             [
              0.4444444444444444,
              "#bd3786"
             ],
             [
              0.5555555555555556,
              "#d8576b"
             ],
             [
              0.6666666666666666,
              "#ed7953"
             ],
             [
              0.7777777777777778,
              "#fb9f3a"
             ],
             [
              0.8888888888888888,
              "#fdca26"
             ],
             [
              1,
              "#f0f921"
             ]
            ],
            "type": "heatmapgl"
           }
          ],
          "histogram": [
           {
            "marker": {
             "pattern": {
              "fillmode": "overlay",
              "size": 10,
              "solidity": 0.2
             }
            },
            "type": "histogram"
           }
          ],
          "histogram2d": [
           {
            "colorbar": {
             "outlinewidth": 0,
             "ticks": ""
            },
            "colorscale": [
             [
              0,
              "#0d0887"
             ],
             [
              0.1111111111111111,
              "#46039f"
             ],
             [
              0.2222222222222222,
              "#7201a8"
             ],
             [
              0.3333333333333333,
              "#9c179e"
             ],
             [
              0.4444444444444444,
              "#bd3786"
             ],
             [
              0.5555555555555556,
              "#d8576b"
             ],
             [
              0.6666666666666666,
              "#ed7953"
             ],
             [
              0.7777777777777778,
              "#fb9f3a"
             ],
             [
              0.8888888888888888,
              "#fdca26"
             ],
             [
              1,
              "#f0f921"
             ]
            ],
            "type": "histogram2d"
           }
          ],
          "histogram2dcontour": [
           {
            "colorbar": {
             "outlinewidth": 0,
             "ticks": ""
            },
            "colorscale": [
             [
              0,
              "#0d0887"
             ],
             [
              0.1111111111111111,
              "#46039f"
             ],
             [
              0.2222222222222222,
              "#7201a8"
             ],
             [
              0.3333333333333333,
              "#9c179e"
             ],
             [
              0.4444444444444444,
              "#bd3786"
             ],
             [
              0.5555555555555556,
              "#d8576b"
             ],
             [
              0.6666666666666666,
              "#ed7953"
             ],
             [
              0.7777777777777778,
              "#fb9f3a"
             ],
             [
              0.8888888888888888,
              "#fdca26"
             ],
             [
              1,
              "#f0f921"
             ]
            ],
            "type": "histogram2dcontour"
           }
          ],
          "mesh3d": [
           {
            "colorbar": {
             "outlinewidth": 0,
             "ticks": ""
            },
            "type": "mesh3d"
           }
          ],
          "parcoords": [
           {
            "line": {
             "colorbar": {
              "outlinewidth": 0,
              "ticks": ""
             }
            },
            "type": "parcoords"
           }
          ],
          "pie": [
           {
            "automargin": true,
            "type": "pie"
           }
          ],
          "scatter": [
           {
            "fillpattern": {
             "fillmode": "overlay",
             "size": 10,
             "solidity": 0.2
            },
            "type": "scatter"
           }
          ],
          "scatter3d": [
           {
            "line": {
             "colorbar": {
              "outlinewidth": 0,
              "ticks": ""
             }
            },
            "marker": {
             "colorbar": {
              "outlinewidth": 0,
              "ticks": ""
             }
            },
            "type": "scatter3d"
           }
          ],
          "scattercarpet": [
           {
            "marker": {
             "colorbar": {
              "outlinewidth": 0,
              "ticks": ""
             }
            },
            "type": "scattercarpet"
           }
          ],
          "scattergeo": [
           {
            "marker": {
             "colorbar": {
              "outlinewidth": 0,
              "ticks": ""
             }
            },
            "type": "scattergeo"
           }
          ],
          "scattergl": [
           {
            "marker": {
             "colorbar": {
              "outlinewidth": 0,
              "ticks": ""
             }
            },
            "type": "scattergl"
           }
          ],
          "scattermapbox": [
           {
            "marker": {
             "colorbar": {
              "outlinewidth": 0,
              "ticks": ""
             }
            },
            "type": "scattermapbox"
           }
          ],
          "scatterpolar": [
           {
            "marker": {
             "colorbar": {
              "outlinewidth": 0,
              "ticks": ""
             }
            },
            "type": "scatterpolar"
           }
          ],
          "scatterpolargl": [
           {
            "marker": {
             "colorbar": {
              "outlinewidth": 0,
              "ticks": ""
             }
            },
            "type": "scatterpolargl"
           }
          ],
          "scatterternary": [
           {
            "marker": {
             "colorbar": {
              "outlinewidth": 0,
              "ticks": ""
             }
            },
            "type": "scatterternary"
           }
          ],
          "surface": [
           {
            "colorbar": {
             "outlinewidth": 0,
             "ticks": ""
            },
            "colorscale": [
             [
              0,
              "#0d0887"
             ],
             [
              0.1111111111111111,
              "#46039f"
             ],
             [
              0.2222222222222222,
              "#7201a8"
             ],
             [
              0.3333333333333333,
              "#9c179e"
             ],
             [
              0.4444444444444444,
              "#bd3786"
             ],
             [
              0.5555555555555556,
              "#d8576b"
             ],
             [
              0.6666666666666666,
              "#ed7953"
             ],
             [
              0.7777777777777778,
              "#fb9f3a"
             ],
             [
              0.8888888888888888,
              "#fdca26"
             ],
             [
              1,
              "#f0f921"
             ]
            ],
            "type": "surface"
           }
          ],
          "table": [
           {
            "cells": {
             "fill": {
              "color": "#EBF0F8"
             },
             "line": {
              "color": "white"
             }
            },
            "header": {
             "fill": {
              "color": "#C8D4E3"
             },
             "line": {
              "color": "white"
             }
            },
            "type": "table"
           }
          ]
         },
         "layout": {
          "annotationdefaults": {
           "arrowcolor": "#2a3f5f",
           "arrowhead": 0,
           "arrowwidth": 1
          },
          "autotypenumbers": "strict",
          "coloraxis": {
           "colorbar": {
            "outlinewidth": 0,
            "ticks": ""
           }
          },
          "colorscale": {
           "diverging": [
            [
             0,
             "#8e0152"
            ],
            [
             0.1,
             "#c51b7d"
            ],
            [
             0.2,
             "#de77ae"
            ],
            [
             0.3,
             "#f1b6da"
            ],
            [
             0.4,
             "#fde0ef"
            ],
            [
             0.5,
             "#f7f7f7"
            ],
            [
             0.6,
             "#e6f5d0"
            ],
            [
             0.7,
             "#b8e186"
            ],
            [
             0.8,
             "#7fbc41"
            ],
            [
             0.9,
             "#4d9221"
            ],
            [
             1,
             "#276419"
            ]
           ],
           "sequential": [
            [
             0,
             "#0d0887"
            ],
            [
             0.1111111111111111,
             "#46039f"
            ],
            [
             0.2222222222222222,
             "#7201a8"
            ],
            [
             0.3333333333333333,
             "#9c179e"
            ],
            [
             0.4444444444444444,
             "#bd3786"
            ],
            [
             0.5555555555555556,
             "#d8576b"
            ],
            [
             0.6666666666666666,
             "#ed7953"
            ],
            [
             0.7777777777777778,
             "#fb9f3a"
            ],
            [
             0.8888888888888888,
             "#fdca26"
            ],
            [
             1,
             "#f0f921"
            ]
           ],
           "sequentialminus": [
            [
             0,
             "#0d0887"
            ],
            [
             0.1111111111111111,
             "#46039f"
            ],
            [
             0.2222222222222222,
             "#7201a8"
            ],
            [
             0.3333333333333333,
             "#9c179e"
            ],
            [
             0.4444444444444444,
             "#bd3786"
            ],
            [
             0.5555555555555556,
             "#d8576b"
            ],
            [
             0.6666666666666666,
             "#ed7953"
            ],
            [
             0.7777777777777778,
             "#fb9f3a"
            ],
            [
             0.8888888888888888,
             "#fdca26"
            ],
            [
             1,
             "#f0f921"
            ]
           ]
          },
          "colorway": [
           "#636efa",
           "#EF553B",
           "#00cc96",
           "#ab63fa",
           "#FFA15A",
           "#19d3f3",
           "#FF6692",
           "#B6E880",
           "#FF97FF",
           "#FECB52"
          ],
          "font": {
           "color": "#2a3f5f"
          },
          "geo": {
           "bgcolor": "white",
           "lakecolor": "white",
           "landcolor": "white",
           "showlakes": true,
           "showland": true,
           "subunitcolor": "#C8D4E3"
          },
          "hoverlabel": {
           "align": "left"
          },
          "hovermode": "closest",
          "mapbox": {
           "style": "light"
          },
          "paper_bgcolor": "white",
          "plot_bgcolor": "white",
          "polar": {
           "angularaxis": {
            "gridcolor": "#EBF0F8",
            "linecolor": "#EBF0F8",
            "ticks": ""
           },
           "bgcolor": "white",
           "radialaxis": {
            "gridcolor": "#EBF0F8",
            "linecolor": "#EBF0F8",
            "ticks": ""
           }
          },
          "scene": {
           "xaxis": {
            "backgroundcolor": "white",
            "gridcolor": "#DFE8F3",
            "gridwidth": 2,
            "linecolor": "#EBF0F8",
            "showbackground": true,
            "ticks": "",
            "zerolinecolor": "#EBF0F8"
           },
           "yaxis": {
            "backgroundcolor": "white",
            "gridcolor": "#DFE8F3",
            "gridwidth": 2,
            "linecolor": "#EBF0F8",
            "showbackground": true,
            "ticks": "",
            "zerolinecolor": "#EBF0F8"
           },
           "zaxis": {
            "backgroundcolor": "white",
            "gridcolor": "#DFE8F3",
            "gridwidth": 2,
            "linecolor": "#EBF0F8",
            "showbackground": true,
            "ticks": "",
            "zerolinecolor": "#EBF0F8"
           }
          },
          "shapedefaults": {
           "line": {
            "color": "#2a3f5f"
           }
          },
          "ternary": {
           "aaxis": {
            "gridcolor": "#DFE8F3",
            "linecolor": "#A2B1C6",
            "ticks": ""
           },
           "baxis": {
            "gridcolor": "#DFE8F3",
            "linecolor": "#A2B1C6",
            "ticks": ""
           },
           "bgcolor": "white",
           "caxis": {
            "gridcolor": "#DFE8F3",
            "linecolor": "#A2B1C6",
            "ticks": ""
           }
          },
          "title": {
           "x": 0.05
          },
          "xaxis": {
           "automargin": true,
           "gridcolor": "#EBF0F8",
           "linecolor": "#EBF0F8",
           "ticks": "",
           "title": {
            "standoff": 15
           },
           "zerolinecolor": "#EBF0F8",
           "zerolinewidth": 2
          },
          "yaxis": {
           "automargin": true,
           "gridcolor": "#EBF0F8",
           "linecolor": "#EBF0F8",
           "ticks": "",
           "title": {
            "standoff": 15
           },
           "zerolinecolor": "#EBF0F8",
           "zerolinewidth": 2
          }
         }
        },
        "title": {
         "text": "Instagram Reach Box Plot"
        },
        "yaxis": {
         "title": {
          "text": "Instagram Reach"
         }
        }
       }
      }
     },
     "metadata": {},
     "output_type": "display_data"
    }
   ],
   "source": [
    "fig = go.Figure()\n",
    "fig.add_trace(go.Box(y=data['Quantity'], \n",
    "                     name='Instagram reach'))\n",
    "fig.update_layout(title='Instagram Reach Box Plot', \n",
    "                  yaxis_title='Instagram Reach')\n",
    "fig.show()"
   ]
  },
  {
   "attachments": {},
   "cell_type": "markdown",
   "metadata": {},
   "source": [
    "## Sales Visulaization "
   ]
  },
  {
   "cell_type": "code",
   "execution_count": 4,
   "metadata": {},
   "outputs": [
    {
     "data": {
      "application/vnd.plotly.v1+json": {
       "config": {
        "plotlyServerURL": "https://plot.ly"
       },
       "data": [
        {
         "hovertemplate": "Order Month=%{x}<br>Sales=%{y}<extra></extra>",
         "legendgroup": "",
         "line": {
          "color": "#636efa",
          "dash": "solid"
         },
         "marker": {
          "symbol": "circle"
         },
         "mode": "lines",
         "name": "",
         "orientation": "v",
         "showlegend": false,
         "type": "scatter",
         "x": [
          1,
          2,
          3,
          4,
          5,
          6,
          7,
          8,
          9,
          10,
          11,
          12
         ],
         "xaxis": "x",
         "y": [
          94924.8356,
          59751.2514,
          205005.4888,
          137762.1286,
          155028.8117,
          152718.6793,
          147238.097,
          159044.063,
          307649.9457,
          200322.9847,
          352461.071,
          325293.5035
         ],
         "yaxis": "y"
        }
       ],
       "layout": {
        "legend": {
         "tracegroupgap": 0
        },
        "template": {
         "data": {
          "bar": [
           {
            "error_x": {
             "color": "#2a3f5f"
            },
            "error_y": {
             "color": "#2a3f5f"
            },
            "marker": {
             "line": {
              "color": "white",
              "width": 0.5
             },
             "pattern": {
              "fillmode": "overlay",
              "size": 10,
              "solidity": 0.2
             }
            },
            "type": "bar"
           }
          ],
          "barpolar": [
           {
            "marker": {
             "line": {
              "color": "white",
              "width": 0.5
             },
             "pattern": {
              "fillmode": "overlay",
              "size": 10,
              "solidity": 0.2
             }
            },
            "type": "barpolar"
           }
          ],
          "carpet": [
           {
            "aaxis": {
             "endlinecolor": "#2a3f5f",
             "gridcolor": "#C8D4E3",
             "linecolor": "#C8D4E3",
             "minorgridcolor": "#C8D4E3",
             "startlinecolor": "#2a3f5f"
            },
            "baxis": {
             "endlinecolor": "#2a3f5f",
             "gridcolor": "#C8D4E3",
             "linecolor": "#C8D4E3",
             "minorgridcolor": "#C8D4E3",
             "startlinecolor": "#2a3f5f"
            },
            "type": "carpet"
           }
          ],
          "choropleth": [
           {
            "colorbar": {
             "outlinewidth": 0,
             "ticks": ""
            },
            "type": "choropleth"
           }
          ],
          "contour": [
           {
            "colorbar": {
             "outlinewidth": 0,
             "ticks": ""
            },
            "colorscale": [
             [
              0,
              "#0d0887"
             ],
             [
              0.1111111111111111,
              "#46039f"
             ],
             [
              0.2222222222222222,
              "#7201a8"
             ],
             [
              0.3333333333333333,
              "#9c179e"
             ],
             [
              0.4444444444444444,
              "#bd3786"
             ],
             [
              0.5555555555555556,
              "#d8576b"
             ],
             [
              0.6666666666666666,
              "#ed7953"
             ],
             [
              0.7777777777777778,
              "#fb9f3a"
             ],
             [
              0.8888888888888888,
              "#fdca26"
             ],
             [
              1,
              "#f0f921"
             ]
            ],
            "type": "contour"
           }
          ],
          "contourcarpet": [
           {
            "colorbar": {
             "outlinewidth": 0,
             "ticks": ""
            },
            "type": "contourcarpet"
           }
          ],
          "heatmap": [
           {
            "colorbar": {
             "outlinewidth": 0,
             "ticks": ""
            },
            "colorscale": [
             [
              0,
              "#0d0887"
             ],
             [
              0.1111111111111111,
              "#46039f"
             ],
             [
              0.2222222222222222,
              "#7201a8"
             ],
             [
              0.3333333333333333,
              "#9c179e"
             ],
             [
              0.4444444444444444,
              "#bd3786"
             ],
             [
              0.5555555555555556,
              "#d8576b"
             ],
             [
              0.6666666666666666,
              "#ed7953"
             ],
             [
              0.7777777777777778,
              "#fb9f3a"
             ],
             [
              0.8888888888888888,
              "#fdca26"
             ],
             [
              1,
              "#f0f921"
             ]
            ],
            "type": "heatmap"
           }
          ],
          "heatmapgl": [
           {
            "colorbar": {
             "outlinewidth": 0,
             "ticks": ""
            },
            "colorscale": [
             [
              0,
              "#0d0887"
             ],
             [
              0.1111111111111111,
              "#46039f"
             ],
             [
              0.2222222222222222,
              "#7201a8"
             ],
             [
              0.3333333333333333,
              "#9c179e"
             ],
             [
              0.4444444444444444,
              "#bd3786"
             ],
             [
              0.5555555555555556,
              "#d8576b"
             ],
             [
              0.6666666666666666,
              "#ed7953"
             ],
             [
              0.7777777777777778,
              "#fb9f3a"
             ],
             [
              0.8888888888888888,
              "#fdca26"
             ],
             [
              1,
              "#f0f921"
             ]
            ],
            "type": "heatmapgl"
           }
          ],
          "histogram": [
           {
            "marker": {
             "pattern": {
              "fillmode": "overlay",
              "size": 10,
              "solidity": 0.2
             }
            },
            "type": "histogram"
           }
          ],
          "histogram2d": [
           {
            "colorbar": {
             "outlinewidth": 0,
             "ticks": ""
            },
            "colorscale": [
             [
              0,
              "#0d0887"
             ],
             [
              0.1111111111111111,
              "#46039f"
             ],
             [
              0.2222222222222222,
              "#7201a8"
             ],
             [
              0.3333333333333333,
              "#9c179e"
             ],
             [
              0.4444444444444444,
              "#bd3786"
             ],
             [
              0.5555555555555556,
              "#d8576b"
             ],
             [
              0.6666666666666666,
              "#ed7953"
             ],
             [
              0.7777777777777778,
              "#fb9f3a"
             ],
             [
              0.8888888888888888,
              "#fdca26"
             ],
             [
              1,
              "#f0f921"
             ]
            ],
            "type": "histogram2d"
           }
          ],
          "histogram2dcontour": [
           {
            "colorbar": {
             "outlinewidth": 0,
             "ticks": ""
            },
            "colorscale": [
             [
              0,
              "#0d0887"
             ],
             [
              0.1111111111111111,
              "#46039f"
             ],
             [
              0.2222222222222222,
              "#7201a8"
             ],
             [
              0.3333333333333333,
              "#9c179e"
             ],
             [
              0.4444444444444444,
              "#bd3786"
             ],
             [
              0.5555555555555556,
              "#d8576b"
             ],
             [
              0.6666666666666666,
              "#ed7953"
             ],
             [
              0.7777777777777778,
              "#fb9f3a"
             ],
             [
              0.8888888888888888,
              "#fdca26"
             ],
             [
              1,
              "#f0f921"
             ]
            ],
            "type": "histogram2dcontour"
           }
          ],
          "mesh3d": [
           {
            "colorbar": {
             "outlinewidth": 0,
             "ticks": ""
            },
            "type": "mesh3d"
           }
          ],
          "parcoords": [
           {
            "line": {
             "colorbar": {
              "outlinewidth": 0,
              "ticks": ""
             }
            },
            "type": "parcoords"
           }
          ],
          "pie": [
           {
            "automargin": true,
            "type": "pie"
           }
          ],
          "scatter": [
           {
            "fillpattern": {
             "fillmode": "overlay",
             "size": 10,
             "solidity": 0.2
            },
            "type": "scatter"
           }
          ],
          "scatter3d": [
           {
            "line": {
             "colorbar": {
              "outlinewidth": 0,
              "ticks": ""
             }
            },
            "marker": {
             "colorbar": {
              "outlinewidth": 0,
              "ticks": ""
             }
            },
            "type": "scatter3d"
           }
          ],
          "scattercarpet": [
           {
            "marker": {
             "colorbar": {
              "outlinewidth": 0,
              "ticks": ""
             }
            },
            "type": "scattercarpet"
           }
          ],
          "scattergeo": [
           {
            "marker": {
             "colorbar": {
              "outlinewidth": 0,
              "ticks": ""
             }
            },
            "type": "scattergeo"
           }
          ],
          "scattergl": [
           {
            "marker": {
             "colorbar": {
              "outlinewidth": 0,
              "ticks": ""
             }
            },
            "type": "scattergl"
           }
          ],
          "scattermapbox": [
           {
            "marker": {
             "colorbar": {
              "outlinewidth": 0,
              "ticks": ""
             }
            },
            "type": "scattermapbox"
           }
          ],
          "scatterpolar": [
           {
            "marker": {
             "colorbar": {
              "outlinewidth": 0,
              "ticks": ""
             }
            },
            "type": "scatterpolar"
           }
          ],
          "scatterpolargl": [
           {
            "marker": {
             "colorbar": {
              "outlinewidth": 0,
              "ticks": ""
             }
            },
            "type": "scatterpolargl"
           }
          ],
          "scatterternary": [
           {
            "marker": {
             "colorbar": {
              "outlinewidth": 0,
              "ticks": ""
             }
            },
            "type": "scatterternary"
           }
          ],
          "surface": [
           {
            "colorbar": {
             "outlinewidth": 0,
             "ticks": ""
            },
            "colorscale": [
             [
              0,
              "#0d0887"
             ],
             [
              0.1111111111111111,
              "#46039f"
             ],
             [
              0.2222222222222222,
              "#7201a8"
             ],
             [
              0.3333333333333333,
              "#9c179e"
             ],
             [
              0.4444444444444444,
              "#bd3786"
             ],
             [
              0.5555555555555556,
              "#d8576b"
             ],
             [
              0.6666666666666666,
              "#ed7953"
             ],
             [
              0.7777777777777778,
              "#fb9f3a"
             ],
             [
              0.8888888888888888,
              "#fdca26"
             ],
             [
              1,
              "#f0f921"
             ]
            ],
            "type": "surface"
           }
          ],
          "table": [
           {
            "cells": {
             "fill": {
              "color": "#EBF0F8"
             },
             "line": {
              "color": "white"
             }
            },
            "header": {
             "fill": {
              "color": "#C8D4E3"
             },
             "line": {
              "color": "white"
             }
            },
            "type": "table"
           }
          ]
         },
         "layout": {
          "annotationdefaults": {
           "arrowcolor": "#2a3f5f",
           "arrowhead": 0,
           "arrowwidth": 1
          },
          "autotypenumbers": "strict",
          "coloraxis": {
           "colorbar": {
            "outlinewidth": 0,
            "ticks": ""
           }
          },
          "colorscale": {
           "diverging": [
            [
             0,
             "#8e0152"
            ],
            [
             0.1,
             "#c51b7d"
            ],
            [
             0.2,
             "#de77ae"
            ],
            [
             0.3,
             "#f1b6da"
            ],
            [
             0.4,
             "#fde0ef"
            ],
            [
             0.5,
             "#f7f7f7"
            ],
            [
             0.6,
             "#e6f5d0"
            ],
            [
             0.7,
             "#b8e186"
            ],
            [
             0.8,
             "#7fbc41"
            ],
            [
             0.9,
             "#4d9221"
            ],
            [
             1,
             "#276419"
            ]
           ],
           "sequential": [
            [
             0,
             "#0d0887"
            ],
            [
             0.1111111111111111,
             "#46039f"
            ],
            [
             0.2222222222222222,
             "#7201a8"
            ],
            [
             0.3333333333333333,
             "#9c179e"
            ],
            [
             0.4444444444444444,
             "#bd3786"
            ],
            [
             0.5555555555555556,
             "#d8576b"
            ],
            [
             0.6666666666666666,
             "#ed7953"
            ],
            [
             0.7777777777777778,
             "#fb9f3a"
            ],
            [
             0.8888888888888888,
             "#fdca26"
            ],
            [
             1,
             "#f0f921"
            ]
           ],
           "sequentialminus": [
            [
             0,
             "#0d0887"
            ],
            [
             0.1111111111111111,
             "#46039f"
            ],
            [
             0.2222222222222222,
             "#7201a8"
            ],
            [
             0.3333333333333333,
             "#9c179e"
            ],
            [
             0.4444444444444444,
             "#bd3786"
            ],
            [
             0.5555555555555556,
             "#d8576b"
            ],
            [
             0.6666666666666666,
             "#ed7953"
            ],
            [
             0.7777777777777778,
             "#fb9f3a"
            ],
            [
             0.8888888888888888,
             "#fdca26"
            ],
            [
             1,
             "#f0f921"
            ]
           ]
          },
          "colorway": [
           "#636efa",
           "#EF553B",
           "#00cc96",
           "#ab63fa",
           "#FFA15A",
           "#19d3f3",
           "#FF6692",
           "#B6E880",
           "#FF97FF",
           "#FECB52"
          ],
          "font": {
           "color": "#2a3f5f"
          },
          "geo": {
           "bgcolor": "white",
           "lakecolor": "white",
           "landcolor": "white",
           "showlakes": true,
           "showland": true,
           "subunitcolor": "#C8D4E3"
          },
          "hoverlabel": {
           "align": "left"
          },
          "hovermode": "closest",
          "mapbox": {
           "style": "light"
          },
          "paper_bgcolor": "white",
          "plot_bgcolor": "white",
          "polar": {
           "angularaxis": {
            "gridcolor": "#EBF0F8",
            "linecolor": "#EBF0F8",
            "ticks": ""
           },
           "bgcolor": "white",
           "radialaxis": {
            "gridcolor": "#EBF0F8",
            "linecolor": "#EBF0F8",
            "ticks": ""
           }
          },
          "scene": {
           "xaxis": {
            "backgroundcolor": "white",
            "gridcolor": "#DFE8F3",
            "gridwidth": 2,
            "linecolor": "#EBF0F8",
            "showbackground": true,
            "ticks": "",
            "zerolinecolor": "#EBF0F8"
           },
           "yaxis": {
            "backgroundcolor": "white",
            "gridcolor": "#DFE8F3",
            "gridwidth": 2,
            "linecolor": "#EBF0F8",
            "showbackground": true,
            "ticks": "",
            "zerolinecolor": "#EBF0F8"
           },
           "zaxis": {
            "backgroundcolor": "white",
            "gridcolor": "#DFE8F3",
            "gridwidth": 2,
            "linecolor": "#EBF0F8",
            "showbackground": true,
            "ticks": "",
            "zerolinecolor": "#EBF0F8"
           }
          },
          "shapedefaults": {
           "line": {
            "color": "#2a3f5f"
           }
          },
          "ternary": {
           "aaxis": {
            "gridcolor": "#DFE8F3",
            "linecolor": "#A2B1C6",
            "ticks": ""
           },
           "baxis": {
            "gridcolor": "#DFE8F3",
            "linecolor": "#A2B1C6",
            "ticks": ""
           },
           "bgcolor": "white",
           "caxis": {
            "gridcolor": "#DFE8F3",
            "linecolor": "#A2B1C6",
            "ticks": ""
           }
          },
          "title": {
           "x": 0.05
          },
          "xaxis": {
           "automargin": true,
           "gridcolor": "#EBF0F8",
           "linecolor": "#EBF0F8",
           "ticks": "",
           "title": {
            "standoff": 15
           },
           "zerolinecolor": "#EBF0F8",
           "zerolinewidth": 2
          },
          "yaxis": {
           "automargin": true,
           "gridcolor": "#EBF0F8",
           "linecolor": "#EBF0F8",
           "ticks": "",
           "title": {
            "standoff": 15
           },
           "zerolinecolor": "#EBF0F8",
           "zerolinewidth": 2
          }
         }
        },
        "title": {
         "text": "Monthly Sales Analysis"
        },
        "width": 800,
        "xaxis": {
         "anchor": "y",
         "domain": [
          0,
          1
         ],
         "title": {
          "text": "Order Month"
         }
        },
        "yaxis": {
         "anchor": "x",
         "domain": [
          0,
          1
         ],
         "title": {
          "text": "Sales"
         }
        }
       }
      }
     },
     "metadata": {},
     "output_type": "display_data"
    }
   ],
   "source": [
    "# line plot for monthly sales\n",
    "sales_by_month = data.groupby('Order Month')['Sales'].sum().reset_index()\n",
    "fig = px.line(sales_by_month, \n",
    "              x='Order Month', \n",
    "              y='Sales', \n",
    "              title='Monthly Sales Analysis',\n",
    "              width=800)\n",
    "fig.show()"
   ]
  },
  {
   "cell_type": "code",
   "execution_count": 5,
   "metadata": {},
   "outputs": [
    {
     "data": {
      "application/vnd.plotly.v1+json": {
       "config": {
        "plotlyServerURL": "https://plot.ly"
       },
       "data": [
        {
         "domain": {
          "x": [
           0,
           1
          ],
          "y": [
           0,
           1
          ]
         },
         "hole": 0.5,
         "hovertemplate": "Category=%{label}<br>Sales=%{value}<extra></extra>",
         "labels": [
          "Furniture",
          "Office Supplies",
          "Technology"
         ],
         "legendgroup": "",
         "name": "",
         "showlegend": true,
         "textinfo": "percent+label",
         "textposition": "inside",
         "type": "pie",
         "values": [
          741999.7953,
          719047.032,
          836154.033
         ]
        }
       ],
       "layout": {
        "legend": {
         "tracegroupgap": 0
        },
        "margin": {
         "t": 60
        },
        "piecolorway": [
         "rgb(102, 197, 204)",
         "rgb(246, 207, 113)",
         "rgb(248, 156, 116)",
         "rgb(220, 176, 242)",
         "rgb(135, 197, 95)",
         "rgb(158, 185, 243)",
         "rgb(254, 136, 177)",
         "rgb(201, 219, 116)",
         "rgb(139, 224, 164)",
         "rgb(180, 151, 231)",
         "rgb(179, 179, 179)"
        ],
        "template": {
         "data": {
          "bar": [
           {
            "error_x": {
             "color": "#2a3f5f"
            },
            "error_y": {
             "color": "#2a3f5f"
            },
            "marker": {
             "line": {
              "color": "white",
              "width": 0.5
             },
             "pattern": {
              "fillmode": "overlay",
              "size": 10,
              "solidity": 0.2
             }
            },
            "type": "bar"
           }
          ],
          "barpolar": [
           {
            "marker": {
             "line": {
              "color": "white",
              "width": 0.5
             },
             "pattern": {
              "fillmode": "overlay",
              "size": 10,
              "solidity": 0.2
             }
            },
            "type": "barpolar"
           }
          ],
          "carpet": [
           {
            "aaxis": {
             "endlinecolor": "#2a3f5f",
             "gridcolor": "#C8D4E3",
             "linecolor": "#C8D4E3",
             "minorgridcolor": "#C8D4E3",
             "startlinecolor": "#2a3f5f"
            },
            "baxis": {
             "endlinecolor": "#2a3f5f",
             "gridcolor": "#C8D4E3",
             "linecolor": "#C8D4E3",
             "minorgridcolor": "#C8D4E3",
             "startlinecolor": "#2a3f5f"
            },
            "type": "carpet"
           }
          ],
          "choropleth": [
           {
            "colorbar": {
             "outlinewidth": 0,
             "ticks": ""
            },
            "type": "choropleth"
           }
          ],
          "contour": [
           {
            "colorbar": {
             "outlinewidth": 0,
             "ticks": ""
            },
            "colorscale": [
             [
              0,
              "#0d0887"
             ],
             [
              0.1111111111111111,
              "#46039f"
             ],
             [
              0.2222222222222222,
              "#7201a8"
             ],
             [
              0.3333333333333333,
              "#9c179e"
             ],
             [
              0.4444444444444444,
              "#bd3786"
             ],
             [
              0.5555555555555556,
              "#d8576b"
             ],
             [
              0.6666666666666666,
              "#ed7953"
             ],
             [
              0.7777777777777778,
              "#fb9f3a"
             ],
             [
              0.8888888888888888,
              "#fdca26"
             ],
             [
              1,
              "#f0f921"
             ]
            ],
            "type": "contour"
           }
          ],
          "contourcarpet": [
           {
            "colorbar": {
             "outlinewidth": 0,
             "ticks": ""
            },
            "type": "contourcarpet"
           }
          ],
          "heatmap": [
           {
            "colorbar": {
             "outlinewidth": 0,
             "ticks": ""
            },
            "colorscale": [
             [
              0,
              "#0d0887"
             ],
             [
              0.1111111111111111,
              "#46039f"
             ],
             [
              0.2222222222222222,
              "#7201a8"
             ],
             [
              0.3333333333333333,
              "#9c179e"
             ],
             [
              0.4444444444444444,
              "#bd3786"
             ],
             [
              0.5555555555555556,
              "#d8576b"
             ],
             [
              0.6666666666666666,
              "#ed7953"
             ],
             [
              0.7777777777777778,
              "#fb9f3a"
             ],
             [
              0.8888888888888888,
              "#fdca26"
             ],
             [
              1,
              "#f0f921"
             ]
            ],
            "type": "heatmap"
           }
          ],
          "heatmapgl": [
           {
            "colorbar": {
             "outlinewidth": 0,
             "ticks": ""
            },
            "colorscale": [
             [
              0,
              "#0d0887"
             ],
             [
              0.1111111111111111,
              "#46039f"
             ],
             [
              0.2222222222222222,
              "#7201a8"
             ],
             [
              0.3333333333333333,
              "#9c179e"
             ],
             [
              0.4444444444444444,
              "#bd3786"
             ],
             [
              0.5555555555555556,
              "#d8576b"
             ],
             [
              0.6666666666666666,
              "#ed7953"
             ],
             [
              0.7777777777777778,
              "#fb9f3a"
             ],
             [
              0.8888888888888888,
              "#fdca26"
             ],
             [
              1,
              "#f0f921"
             ]
            ],
            "type": "heatmapgl"
           }
          ],
          "histogram": [
           {
            "marker": {
             "pattern": {
              "fillmode": "overlay",
              "size": 10,
              "solidity": 0.2
             }
            },
            "type": "histogram"
           }
          ],
          "histogram2d": [
           {
            "colorbar": {
             "outlinewidth": 0,
             "ticks": ""
            },
            "colorscale": [
             [
              0,
              "#0d0887"
             ],
             [
              0.1111111111111111,
              "#46039f"
             ],
             [
              0.2222222222222222,
              "#7201a8"
             ],
             [
              0.3333333333333333,
              "#9c179e"
             ],
             [
              0.4444444444444444,
              "#bd3786"
             ],
             [
              0.5555555555555556,
              "#d8576b"
             ],
             [
              0.6666666666666666,
              "#ed7953"
             ],
             [
              0.7777777777777778,
              "#fb9f3a"
             ],
             [
              0.8888888888888888,
              "#fdca26"
             ],
             [
              1,
              "#f0f921"
             ]
            ],
            "type": "histogram2d"
           }
          ],
          "histogram2dcontour": [
           {
            "colorbar": {
             "outlinewidth": 0,
             "ticks": ""
            },
            "colorscale": [
             [
              0,
              "#0d0887"
             ],
             [
              0.1111111111111111,
              "#46039f"
             ],
             [
              0.2222222222222222,
              "#7201a8"
             ],
             [
              0.3333333333333333,
              "#9c179e"
             ],
             [
              0.4444444444444444,
              "#bd3786"
             ],
             [
              0.5555555555555556,
              "#d8576b"
             ],
             [
              0.6666666666666666,
              "#ed7953"
             ],
             [
              0.7777777777777778,
              "#fb9f3a"
             ],
             [
              0.8888888888888888,
              "#fdca26"
             ],
             [
              1,
              "#f0f921"
             ]
            ],
            "type": "histogram2dcontour"
           }
          ],
          "mesh3d": [
           {
            "colorbar": {
             "outlinewidth": 0,
             "ticks": ""
            },
            "type": "mesh3d"
           }
          ],
          "parcoords": [
           {
            "line": {
             "colorbar": {
              "outlinewidth": 0,
              "ticks": ""
             }
            },
            "type": "parcoords"
           }
          ],
          "pie": [
           {
            "automargin": true,
            "type": "pie"
           }
          ],
          "scatter": [
           {
            "fillpattern": {
             "fillmode": "overlay",
             "size": 10,
             "solidity": 0.2
            },
            "type": "scatter"
           }
          ],
          "scatter3d": [
           {
            "line": {
             "colorbar": {
              "outlinewidth": 0,
              "ticks": ""
             }
            },
            "marker": {
             "colorbar": {
              "outlinewidth": 0,
              "ticks": ""
             }
            },
            "type": "scatter3d"
           }
          ],
          "scattercarpet": [
           {
            "marker": {
             "colorbar": {
              "outlinewidth": 0,
              "ticks": ""
             }
            },
            "type": "scattercarpet"
           }
          ],
          "scattergeo": [
           {
            "marker": {
             "colorbar": {
              "outlinewidth": 0,
              "ticks": ""
             }
            },
            "type": "scattergeo"
           }
          ],
          "scattergl": [
           {
            "marker": {
             "colorbar": {
              "outlinewidth": 0,
              "ticks": ""
             }
            },
            "type": "scattergl"
           }
          ],
          "scattermapbox": [
           {
            "marker": {
             "colorbar": {
              "outlinewidth": 0,
              "ticks": ""
             }
            },
            "type": "scattermapbox"
           }
          ],
          "scatterpolar": [
           {
            "marker": {
             "colorbar": {
              "outlinewidth": 0,
              "ticks": ""
             }
            },
            "type": "scatterpolar"
           }
          ],
          "scatterpolargl": [
           {
            "marker": {
             "colorbar": {
              "outlinewidth": 0,
              "ticks": ""
             }
            },
            "type": "scatterpolargl"
           }
          ],
          "scatterternary": [
           {
            "marker": {
             "colorbar": {
              "outlinewidth": 0,
              "ticks": ""
             }
            },
            "type": "scatterternary"
           }
          ],
          "surface": [
           {
            "colorbar": {
             "outlinewidth": 0,
             "ticks": ""
            },
            "colorscale": [
             [
              0,
              "#0d0887"
             ],
             [
              0.1111111111111111,
              "#46039f"
             ],
             [
              0.2222222222222222,
              "#7201a8"
             ],
             [
              0.3333333333333333,
              "#9c179e"
             ],
             [
              0.4444444444444444,
              "#bd3786"
             ],
             [
              0.5555555555555556,
              "#d8576b"
             ],
             [
              0.6666666666666666,
              "#ed7953"
             ],
             [
              0.7777777777777778,
              "#fb9f3a"
             ],
             [
              0.8888888888888888,
              "#fdca26"
             ],
             [
              1,
              "#f0f921"
             ]
            ],
            "type": "surface"
           }
          ],
          "table": [
           {
            "cells": {
             "fill": {
              "color": "#EBF0F8"
             },
             "line": {
              "color": "white"
             }
            },
            "header": {
             "fill": {
              "color": "#C8D4E3"
             },
             "line": {
              "color": "white"
             }
            },
            "type": "table"
           }
          ]
         },
         "layout": {
          "annotationdefaults": {
           "arrowcolor": "#2a3f5f",
           "arrowhead": 0,
           "arrowwidth": 1
          },
          "autotypenumbers": "strict",
          "coloraxis": {
           "colorbar": {
            "outlinewidth": 0,
            "ticks": ""
           }
          },
          "colorscale": {
           "diverging": [
            [
             0,
             "#8e0152"
            ],
            [
             0.1,
             "#c51b7d"
            ],
            [
             0.2,
             "#de77ae"
            ],
            [
             0.3,
             "#f1b6da"
            ],
            [
             0.4,
             "#fde0ef"
            ],
            [
             0.5,
             "#f7f7f7"
            ],
            [
             0.6,
             "#e6f5d0"
            ],
            [
             0.7,
             "#b8e186"
            ],
            [
             0.8,
             "#7fbc41"
            ],
            [
             0.9,
             "#4d9221"
            ],
            [
             1,
             "#276419"
            ]
           ],
           "sequential": [
            [
             0,
             "#0d0887"
            ],
            [
             0.1111111111111111,
             "#46039f"
            ],
            [
             0.2222222222222222,
             "#7201a8"
            ],
            [
             0.3333333333333333,
             "#9c179e"
            ],
            [
             0.4444444444444444,
             "#bd3786"
            ],
            [
             0.5555555555555556,
             "#d8576b"
            ],
            [
             0.6666666666666666,
             "#ed7953"
            ],
            [
             0.7777777777777778,
             "#fb9f3a"
            ],
            [
             0.8888888888888888,
             "#fdca26"
            ],
            [
             1,
             "#f0f921"
            ]
           ],
           "sequentialminus": [
            [
             0,
             "#0d0887"
            ],
            [
             0.1111111111111111,
             "#46039f"
            ],
            [
             0.2222222222222222,
             "#7201a8"
            ],
            [
             0.3333333333333333,
             "#9c179e"
            ],
            [
             0.4444444444444444,
             "#bd3786"
            ],
            [
             0.5555555555555556,
             "#d8576b"
            ],
            [
             0.6666666666666666,
             "#ed7953"
            ],
            [
             0.7777777777777778,
             "#fb9f3a"
            ],
            [
             0.8888888888888888,
             "#fdca26"
            ],
            [
             1,
             "#f0f921"
            ]
           ]
          },
          "colorway": [
           "#636efa",
           "#EF553B",
           "#00cc96",
           "#ab63fa",
           "#FFA15A",
           "#19d3f3",
           "#FF6692",
           "#B6E880",
           "#FF97FF",
           "#FECB52"
          ],
          "font": {
           "color": "#2a3f5f"
          },
          "geo": {
           "bgcolor": "white",
           "lakecolor": "white",
           "landcolor": "white",
           "showlakes": true,
           "showland": true,
           "subunitcolor": "#C8D4E3"
          },
          "hoverlabel": {
           "align": "left"
          },
          "hovermode": "closest",
          "mapbox": {
           "style": "light"
          },
          "paper_bgcolor": "white",
          "plot_bgcolor": "white",
          "polar": {
           "angularaxis": {
            "gridcolor": "#EBF0F8",
            "linecolor": "#EBF0F8",
            "ticks": ""
           },
           "bgcolor": "white",
           "radialaxis": {
            "gridcolor": "#EBF0F8",
            "linecolor": "#EBF0F8",
            "ticks": ""
           }
          },
          "scene": {
           "xaxis": {
            "backgroundcolor": "white",
            "gridcolor": "#DFE8F3",
            "gridwidth": 2,
            "linecolor": "#EBF0F8",
            "showbackground": true,
            "ticks": "",
            "zerolinecolor": "#EBF0F8"
           },
           "yaxis": {
            "backgroundcolor": "white",
            "gridcolor": "#DFE8F3",
            "gridwidth": 2,
            "linecolor": "#EBF0F8",
            "showbackground": true,
            "ticks": "",
            "zerolinecolor": "#EBF0F8"
           },
           "zaxis": {
            "backgroundcolor": "white",
            "gridcolor": "#DFE8F3",
            "gridwidth": 2,
            "linecolor": "#EBF0F8",
            "showbackground": true,
            "ticks": "",
            "zerolinecolor": "#EBF0F8"
           }
          },
          "shapedefaults": {
           "line": {
            "color": "#2a3f5f"
           }
          },
          "ternary": {
           "aaxis": {
            "gridcolor": "#DFE8F3",
            "linecolor": "#A2B1C6",
            "ticks": ""
           },
           "baxis": {
            "gridcolor": "#DFE8F3",
            "linecolor": "#A2B1C6",
            "ticks": ""
           },
           "bgcolor": "white",
           "caxis": {
            "gridcolor": "#DFE8F3",
            "linecolor": "#A2B1C6",
            "ticks": ""
           }
          },
          "title": {
           "x": 0.05
          },
          "xaxis": {
           "automargin": true,
           "gridcolor": "#EBF0F8",
           "linecolor": "#EBF0F8",
           "ticks": "",
           "title": {
            "standoff": 15
           },
           "zerolinecolor": "#EBF0F8",
           "zerolinewidth": 2
          },
          "yaxis": {
           "automargin": true,
           "gridcolor": "#EBF0F8",
           "linecolor": "#EBF0F8",
           "ticks": "",
           "title": {
            "standoff": 15
           },
           "zerolinecolor": "#EBF0F8",
           "zerolinewidth": 2
          }
         }
        },
        "title": {
         "font": {
          "size": 24
         },
         "text": "Sales Analysis by Category"
        },
        "width": 800
       }
      }
     },
     "metadata": {},
     "output_type": "display_data"
    }
   ],
   "source": [
    "# sales analysis by category \n",
    "sales_by_category = data.groupby('Category')['Sales'].sum().reset_index()\n",
    "fig = px.pie(sales_by_category, \n",
    "             values='Sales', \n",
    "             names='Category', \n",
    "             hole=0.5, \n",
    "             color_discrete_sequence=px.colors.qualitative.Pastel,\n",
    "             width=800)\n",
    "             \n",
    "# set text position inside the pie chart and show percentage and category name\n",
    "fig.update_traces(textposition='inside', textinfo='percent+label')\n",
    "# set title and title font size 24\n",
    "fig.update_layout(title_text='Sales Analysis by Category', title_font=dict(size=24))\n",
    "fig.show()"
   ]
  },
  {
   "cell_type": "code",
   "execution_count": 6,
   "metadata": {},
   "outputs": [
    {
     "data": {
      "application/vnd.plotly.v1+json": {
       "config": {
        "plotlyServerURL": "https://plot.ly"
       },
       "data": [
        {
         "alignmentgroup": "True",
         "hovertemplate": "Sub-Category=%{x}<br>Sales=%{y}<extra></extra>",
         "legendgroup": "",
         "marker": {
          "color": "#636efa",
          "pattern": {
           "shape": ""
          }
         },
         "name": "",
         "offsetgroup": "",
         "orientation": "v",
         "showlegend": false,
         "textposition": "auto",
         "type": "bar",
         "x": [
          "Accessories",
          "Appliances",
          "Art",
          "Binders",
          "Bookcases",
          "Chairs",
          "Copiers",
          "Envelopes",
          "Fasteners",
          "Furnishings",
          "Labels",
          "Machines",
          "Paper",
          "Phones",
          "Storage",
          "Supplies",
          "Tables"
         ],
         "xaxis": "x",
         "y": [
          167380.318,
          107532.16100000001,
          27118.792,
          203412.733,
          114879.9963,
          328449.103,
          149528.03,
          16476.402,
          3024.28,
          91705.164,
          12486.312,
          189238.631,
          78479.206,
          330007.054,
          223843.608,
          46673.538,
          206965.532
         ],
         "yaxis": "y"
        }
       ],
       "layout": {
        "barmode": "relative",
        "legend": {
         "tracegroupgap": 0
        },
        "template": {
         "data": {
          "bar": [
           {
            "error_x": {
             "color": "#2a3f5f"
            },
            "error_y": {
             "color": "#2a3f5f"
            },
            "marker": {
             "line": {
              "color": "white",
              "width": 0.5
             },
             "pattern": {
              "fillmode": "overlay",
              "size": 10,
              "solidity": 0.2
             }
            },
            "type": "bar"
           }
          ],
          "barpolar": [
           {
            "marker": {
             "line": {
              "color": "white",
              "width": 0.5
             },
             "pattern": {
              "fillmode": "overlay",
              "size": 10,
              "solidity": 0.2
             }
            },
            "type": "barpolar"
           }
          ],
          "carpet": [
           {
            "aaxis": {
             "endlinecolor": "#2a3f5f",
             "gridcolor": "#C8D4E3",
             "linecolor": "#C8D4E3",
             "minorgridcolor": "#C8D4E3",
             "startlinecolor": "#2a3f5f"
            },
            "baxis": {
             "endlinecolor": "#2a3f5f",
             "gridcolor": "#C8D4E3",
             "linecolor": "#C8D4E3",
             "minorgridcolor": "#C8D4E3",
             "startlinecolor": "#2a3f5f"
            },
            "type": "carpet"
           }
          ],
          "choropleth": [
           {
            "colorbar": {
             "outlinewidth": 0,
             "ticks": ""
            },
            "type": "choropleth"
           }
          ],
          "contour": [
           {
            "colorbar": {
             "outlinewidth": 0,
             "ticks": ""
            },
            "colorscale": [
             [
              0,
              "#0d0887"
             ],
             [
              0.1111111111111111,
              "#46039f"
             ],
             [
              0.2222222222222222,
              "#7201a8"
             ],
             [
              0.3333333333333333,
              "#9c179e"
             ],
             [
              0.4444444444444444,
              "#bd3786"
             ],
             [
              0.5555555555555556,
              "#d8576b"
             ],
             [
              0.6666666666666666,
              "#ed7953"
             ],
             [
              0.7777777777777778,
              "#fb9f3a"
             ],
             [
              0.8888888888888888,
              "#fdca26"
             ],
             [
              1,
              "#f0f921"
             ]
            ],
            "type": "contour"
           }
          ],
          "contourcarpet": [
           {
            "colorbar": {
             "outlinewidth": 0,
             "ticks": ""
            },
            "type": "contourcarpet"
           }
          ],
          "heatmap": [
           {
            "colorbar": {
             "outlinewidth": 0,
             "ticks": ""
            },
            "colorscale": [
             [
              0,
              "#0d0887"
             ],
             [
              0.1111111111111111,
              "#46039f"
             ],
             [
              0.2222222222222222,
              "#7201a8"
             ],
             [
              0.3333333333333333,
              "#9c179e"
             ],
             [
              0.4444444444444444,
              "#bd3786"
             ],
             [
              0.5555555555555556,
              "#d8576b"
             ],
             [
              0.6666666666666666,
              "#ed7953"
             ],
             [
              0.7777777777777778,
              "#fb9f3a"
             ],
             [
              0.8888888888888888,
              "#fdca26"
             ],
             [
              1,
              "#f0f921"
             ]
            ],
            "type": "heatmap"
           }
          ],
          "heatmapgl": [
           {
            "colorbar": {
             "outlinewidth": 0,
             "ticks": ""
            },
            "colorscale": [
             [
              0,
              "#0d0887"
             ],
             [
              0.1111111111111111,
              "#46039f"
             ],
             [
              0.2222222222222222,
              "#7201a8"
             ],
             [
              0.3333333333333333,
              "#9c179e"
             ],
             [
              0.4444444444444444,
              "#bd3786"
             ],
             [
              0.5555555555555556,
              "#d8576b"
             ],
             [
              0.6666666666666666,
              "#ed7953"
             ],
             [
              0.7777777777777778,
              "#fb9f3a"
             ],
             [
              0.8888888888888888,
              "#fdca26"
             ],
             [
              1,
              "#f0f921"
             ]
            ],
            "type": "heatmapgl"
           }
          ],
          "histogram": [
           {
            "marker": {
             "pattern": {
              "fillmode": "overlay",
              "size": 10,
              "solidity": 0.2
             }
            },
            "type": "histogram"
           }
          ],
          "histogram2d": [
           {
            "colorbar": {
             "outlinewidth": 0,
             "ticks": ""
            },
            "colorscale": [
             [
              0,
              "#0d0887"
             ],
             [
              0.1111111111111111,
              "#46039f"
             ],
             [
              0.2222222222222222,
              "#7201a8"
             ],
             [
              0.3333333333333333,
              "#9c179e"
             ],
             [
              0.4444444444444444,
              "#bd3786"
             ],
             [
              0.5555555555555556,
              "#d8576b"
             ],
             [
              0.6666666666666666,
              "#ed7953"
             ],
             [
              0.7777777777777778,
              "#fb9f3a"
             ],
             [
              0.8888888888888888,
              "#fdca26"
             ],
             [
              1,
              "#f0f921"
             ]
            ],
            "type": "histogram2d"
           }
          ],
          "histogram2dcontour": [
           {
            "colorbar": {
             "outlinewidth": 0,
             "ticks": ""
            },
            "colorscale": [
             [
              0,
              "#0d0887"
             ],
             [
              0.1111111111111111,
              "#46039f"
             ],
             [
              0.2222222222222222,
              "#7201a8"
             ],
             [
              0.3333333333333333,
              "#9c179e"
             ],
             [
              0.4444444444444444,
              "#bd3786"
             ],
             [
              0.5555555555555556,
              "#d8576b"
             ],
             [
              0.6666666666666666,
              "#ed7953"
             ],
             [
              0.7777777777777778,
              "#fb9f3a"
             ],
             [
              0.8888888888888888,
              "#fdca26"
             ],
             [
              1,
              "#f0f921"
             ]
            ],
            "type": "histogram2dcontour"
           }
          ],
          "mesh3d": [
           {
            "colorbar": {
             "outlinewidth": 0,
             "ticks": ""
            },
            "type": "mesh3d"
           }
          ],
          "parcoords": [
           {
            "line": {
             "colorbar": {
              "outlinewidth": 0,
              "ticks": ""
             }
            },
            "type": "parcoords"
           }
          ],
          "pie": [
           {
            "automargin": true,
            "type": "pie"
           }
          ],
          "scatter": [
           {
            "fillpattern": {
             "fillmode": "overlay",
             "size": 10,
             "solidity": 0.2
            },
            "type": "scatter"
           }
          ],
          "scatter3d": [
           {
            "line": {
             "colorbar": {
              "outlinewidth": 0,
              "ticks": ""
             }
            },
            "marker": {
             "colorbar": {
              "outlinewidth": 0,
              "ticks": ""
             }
            },
            "type": "scatter3d"
           }
          ],
          "scattercarpet": [
           {
            "marker": {
             "colorbar": {
              "outlinewidth": 0,
              "ticks": ""
             }
            },
            "type": "scattercarpet"
           }
          ],
          "scattergeo": [
           {
            "marker": {
             "colorbar": {
              "outlinewidth": 0,
              "ticks": ""
             }
            },
            "type": "scattergeo"
           }
          ],
          "scattergl": [
           {
            "marker": {
             "colorbar": {
              "outlinewidth": 0,
              "ticks": ""
             }
            },
            "type": "scattergl"
           }
          ],
          "scattermapbox": [
           {
            "marker": {
             "colorbar": {
              "outlinewidth": 0,
              "ticks": ""
             }
            },
            "type": "scattermapbox"
           }
          ],
          "scatterpolar": [
           {
            "marker": {
             "colorbar": {
              "outlinewidth": 0,
              "ticks": ""
             }
            },
            "type": "scatterpolar"
           }
          ],
          "scatterpolargl": [
           {
            "marker": {
             "colorbar": {
              "outlinewidth": 0,
              "ticks": ""
             }
            },
            "type": "scatterpolargl"
           }
          ],
          "scatterternary": [
           {
            "marker": {
             "colorbar": {
              "outlinewidth": 0,
              "ticks": ""
             }
            },
            "type": "scatterternary"
           }
          ],
          "surface": [
           {
            "colorbar": {
             "outlinewidth": 0,
             "ticks": ""
            },
            "colorscale": [
             [
              0,
              "#0d0887"
             ],
             [
              0.1111111111111111,
              "#46039f"
             ],
             [
              0.2222222222222222,
              "#7201a8"
             ],
             [
              0.3333333333333333,
              "#9c179e"
             ],
             [
              0.4444444444444444,
              "#bd3786"
             ],
             [
              0.5555555555555556,
              "#d8576b"
             ],
             [
              0.6666666666666666,
              "#ed7953"
             ],
             [
              0.7777777777777778,
              "#fb9f3a"
             ],
             [
              0.8888888888888888,
              "#fdca26"
             ],
             [
              1,
              "#f0f921"
             ]
            ],
            "type": "surface"
           }
          ],
          "table": [
           {
            "cells": {
             "fill": {
              "color": "#EBF0F8"
             },
             "line": {
              "color": "white"
             }
            },
            "header": {
             "fill": {
              "color": "#C8D4E3"
             },
             "line": {
              "color": "white"
             }
            },
            "type": "table"
           }
          ]
         },
         "layout": {
          "annotationdefaults": {
           "arrowcolor": "#2a3f5f",
           "arrowhead": 0,
           "arrowwidth": 1
          },
          "autotypenumbers": "strict",
          "coloraxis": {
           "colorbar": {
            "outlinewidth": 0,
            "ticks": ""
           }
          },
          "colorscale": {
           "diverging": [
            [
             0,
             "#8e0152"
            ],
            [
             0.1,
             "#c51b7d"
            ],
            [
             0.2,
             "#de77ae"
            ],
            [
             0.3,
             "#f1b6da"
            ],
            [
             0.4,
             "#fde0ef"
            ],
            [
             0.5,
             "#f7f7f7"
            ],
            [
             0.6,
             "#e6f5d0"
            ],
            [
             0.7,
             "#b8e186"
            ],
            [
             0.8,
             "#7fbc41"
            ],
            [
             0.9,
             "#4d9221"
            ],
            [
             1,
             "#276419"
            ]
           ],
           "sequential": [
            [
             0,
             "#0d0887"
            ],
            [
             0.1111111111111111,
             "#46039f"
            ],
            [
             0.2222222222222222,
             "#7201a8"
            ],
            [
             0.3333333333333333,
             "#9c179e"
            ],
            [
             0.4444444444444444,
             "#bd3786"
            ],
            [
             0.5555555555555556,
             "#d8576b"
            ],
            [
             0.6666666666666666,
             "#ed7953"
            ],
            [
             0.7777777777777778,
             "#fb9f3a"
            ],
            [
             0.8888888888888888,
             "#fdca26"
            ],
            [
             1,
             "#f0f921"
            ]
           ],
           "sequentialminus": [
            [
             0,
             "#0d0887"
            ],
            [
             0.1111111111111111,
             "#46039f"
            ],
            [
             0.2222222222222222,
             "#7201a8"
            ],
            [
             0.3333333333333333,
             "#9c179e"
            ],
            [
             0.4444444444444444,
             "#bd3786"
            ],
            [
             0.5555555555555556,
             "#d8576b"
            ],
            [
             0.6666666666666666,
             "#ed7953"
            ],
            [
             0.7777777777777778,
             "#fb9f3a"
            ],
            [
             0.8888888888888888,
             "#fdca26"
            ],
            [
             1,
             "#f0f921"
            ]
           ]
          },
          "colorway": [
           "#636efa",
           "#EF553B",
           "#00cc96",
           "#ab63fa",
           "#FFA15A",
           "#19d3f3",
           "#FF6692",
           "#B6E880",
           "#FF97FF",
           "#FECB52"
          ],
          "font": {
           "color": "#2a3f5f"
          },
          "geo": {
           "bgcolor": "white",
           "lakecolor": "white",
           "landcolor": "white",
           "showlakes": true,
           "showland": true,
           "subunitcolor": "#C8D4E3"
          },
          "hoverlabel": {
           "align": "left"
          },
          "hovermode": "closest",
          "mapbox": {
           "style": "light"
          },
          "paper_bgcolor": "white",
          "plot_bgcolor": "white",
          "polar": {
           "angularaxis": {
            "gridcolor": "#EBF0F8",
            "linecolor": "#EBF0F8",
            "ticks": ""
           },
           "bgcolor": "white",
           "radialaxis": {
            "gridcolor": "#EBF0F8",
            "linecolor": "#EBF0F8",
            "ticks": ""
           }
          },
          "scene": {
           "xaxis": {
            "backgroundcolor": "white",
            "gridcolor": "#DFE8F3",
            "gridwidth": 2,
            "linecolor": "#EBF0F8",
            "showbackground": true,
            "ticks": "",
            "zerolinecolor": "#EBF0F8"
           },
           "yaxis": {
            "backgroundcolor": "white",
            "gridcolor": "#DFE8F3",
            "gridwidth": 2,
            "linecolor": "#EBF0F8",
            "showbackground": true,
            "ticks": "",
            "zerolinecolor": "#EBF0F8"
           },
           "zaxis": {
            "backgroundcolor": "white",
            "gridcolor": "#DFE8F3",
            "gridwidth": 2,
            "linecolor": "#EBF0F8",
            "showbackground": true,
            "ticks": "",
            "zerolinecolor": "#EBF0F8"
           }
          },
          "shapedefaults": {
           "line": {
            "color": "#2a3f5f"
           }
          },
          "ternary": {
           "aaxis": {
            "gridcolor": "#DFE8F3",
            "linecolor": "#A2B1C6",
            "ticks": ""
           },
           "baxis": {
            "gridcolor": "#DFE8F3",
            "linecolor": "#A2B1C6",
            "ticks": ""
           },
           "bgcolor": "white",
           "caxis": {
            "gridcolor": "#DFE8F3",
            "linecolor": "#A2B1C6",
            "ticks": ""
           }
          },
          "title": {
           "x": 0.05
          },
          "xaxis": {
           "automargin": true,
           "gridcolor": "#EBF0F8",
           "linecolor": "#EBF0F8",
           "ticks": "",
           "title": {
            "standoff": 15
           },
           "zerolinecolor": "#EBF0F8",
           "zerolinewidth": 2
          },
          "yaxis": {
           "automargin": true,
           "gridcolor": "#EBF0F8",
           "linecolor": "#EBF0F8",
           "ticks": "",
           "title": {
            "standoff": 15
           },
           "zerolinecolor": "#EBF0F8",
           "zerolinewidth": 2
          }
         }
        },
        "title": {
         "text": "Sales Analysis by Sub-Category"
        },
        "width": 800,
        "xaxis": {
         "anchor": "y",
         "domain": [
          0,
          1
         ],
         "title": {
          "text": "Sub-Category"
         }
        },
        "yaxis": {
         "anchor": "x",
         "domain": [
          0,
          1
         ],
         "title": {
          "text": "Sales"
         }
        }
       }
      }
     },
     "metadata": {},
     "output_type": "display_data"
    }
   ],
   "source": [
    "# sales analysis by sub-category\n",
    "sales_by_subcategory = data.groupby('Sub-Category')['Sales'].sum().reset_index()\n",
    "fig = px.bar(sales_by_subcategory, \n",
    "             x='Sub-Category', \n",
    "             y='Sales', \n",
    "             title='Sales Analysis by Sub-Category',\n",
    "             width=800,)\n",
    "fig.show()"
   ]
  },
  {
   "cell_type": "code",
   "execution_count": 7,
   "metadata": {},
   "outputs": [
    {
     "data": {
      "application/vnd.plotly.v1+json": {
       "config": {
        "plotlyServerURL": "https://plot.ly"
       },
       "data": [
        {
         "hovertemplate": "Order Month=%{x}<br>Profit=%{y}<extra></extra>",
         "legendgroup": "",
         "line": {
          "color": "#636efa",
          "dash": "solid"
         },
         "marker": {
          "symbol": "circle"
         },
         "mode": "lines",
         "name": "",
         "orientation": "v",
         "showlegend": false,
         "type": "scatter",
         "x": [
          1,
          2,
          3,
          4,
          5,
          6,
          7,
          8,
          9,
          10,
          11,
          12
         ],
         "xaxis": "x",
         "y": [
          9134.4461,
          10294.6107,
          28594.6872,
          11587.4363,
          22411.3078,
          21285.7954,
          13832.6648,
          21776.9384,
          36857.4753,
          31784.0413,
          35468.4265,
          43369.1919
         ],
         "yaxis": "y"
        }
       ],
       "layout": {
        "legend": {
         "tracegroupgap": 0
        },
        "template": {
         "data": {
          "bar": [
           {
            "error_x": {
             "color": "#2a3f5f"
            },
            "error_y": {
             "color": "#2a3f5f"
            },
            "marker": {
             "line": {
              "color": "white",
              "width": 0.5
             },
             "pattern": {
              "fillmode": "overlay",
              "size": 10,
              "solidity": 0.2
             }
            },
            "type": "bar"
           }
          ],
          "barpolar": [
           {
            "marker": {
             "line": {
              "color": "white",
              "width": 0.5
             },
             "pattern": {
              "fillmode": "overlay",
              "size": 10,
              "solidity": 0.2
             }
            },
            "type": "barpolar"
           }
          ],
          "carpet": [
           {
            "aaxis": {
             "endlinecolor": "#2a3f5f",
             "gridcolor": "#C8D4E3",
             "linecolor": "#C8D4E3",
             "minorgridcolor": "#C8D4E3",
             "startlinecolor": "#2a3f5f"
            },
            "baxis": {
             "endlinecolor": "#2a3f5f",
             "gridcolor": "#C8D4E3",
             "linecolor": "#C8D4E3",
             "minorgridcolor": "#C8D4E3",
             "startlinecolor": "#2a3f5f"
            },
            "type": "carpet"
           }
          ],
          "choropleth": [
           {
            "colorbar": {
             "outlinewidth": 0,
             "ticks": ""
            },
            "type": "choropleth"
           }
          ],
          "contour": [
           {
            "colorbar": {
             "outlinewidth": 0,
             "ticks": ""
            },
            "colorscale": [
             [
              0,
              "#0d0887"
             ],
             [
              0.1111111111111111,
              "#46039f"
             ],
             [
              0.2222222222222222,
              "#7201a8"
             ],
             [
              0.3333333333333333,
              "#9c179e"
             ],
             [
              0.4444444444444444,
              "#bd3786"
             ],
             [
              0.5555555555555556,
              "#d8576b"
             ],
             [
              0.6666666666666666,
              "#ed7953"
             ],
             [
              0.7777777777777778,
              "#fb9f3a"
             ],
             [
              0.8888888888888888,
              "#fdca26"
             ],
             [
              1,
              "#f0f921"
             ]
            ],
            "type": "contour"
           }
          ],
          "contourcarpet": [
           {
            "colorbar": {
             "outlinewidth": 0,
             "ticks": ""
            },
            "type": "contourcarpet"
           }
          ],
          "heatmap": [
           {
            "colorbar": {
             "outlinewidth": 0,
             "ticks": ""
            },
            "colorscale": [
             [
              0,
              "#0d0887"
             ],
             [
              0.1111111111111111,
              "#46039f"
             ],
             [
              0.2222222222222222,
              "#7201a8"
             ],
             [
              0.3333333333333333,
              "#9c179e"
             ],
             [
              0.4444444444444444,
              "#bd3786"
             ],
             [
              0.5555555555555556,
              "#d8576b"
             ],
             [
              0.6666666666666666,
              "#ed7953"
             ],
             [
              0.7777777777777778,
              "#fb9f3a"
             ],
             [
              0.8888888888888888,
              "#fdca26"
             ],
             [
              1,
              "#f0f921"
             ]
            ],
            "type": "heatmap"
           }
          ],
          "heatmapgl": [
           {
            "colorbar": {
             "outlinewidth": 0,
             "ticks": ""
            },
            "colorscale": [
             [
              0,
              "#0d0887"
             ],
             [
              0.1111111111111111,
              "#46039f"
             ],
             [
              0.2222222222222222,
              "#7201a8"
             ],
             [
              0.3333333333333333,
              "#9c179e"
             ],
             [
              0.4444444444444444,
              "#bd3786"
             ],
             [
              0.5555555555555556,
              "#d8576b"
             ],
             [
              0.6666666666666666,
              "#ed7953"
             ],
             [
              0.7777777777777778,
              "#fb9f3a"
             ],
             [
              0.8888888888888888,
              "#fdca26"
             ],
             [
              1,
              "#f0f921"
             ]
            ],
            "type": "heatmapgl"
           }
          ],
          "histogram": [
           {
            "marker": {
             "pattern": {
              "fillmode": "overlay",
              "size": 10,
              "solidity": 0.2
             }
            },
            "type": "histogram"
           }
          ],
          "histogram2d": [
           {
            "colorbar": {
             "outlinewidth": 0,
             "ticks": ""
            },
            "colorscale": [
             [
              0,
              "#0d0887"
             ],
             [
              0.1111111111111111,
              "#46039f"
             ],
             [
              0.2222222222222222,
              "#7201a8"
             ],
             [
              0.3333333333333333,
              "#9c179e"
             ],
             [
              0.4444444444444444,
              "#bd3786"
             ],
             [
              0.5555555555555556,
              "#d8576b"
             ],
             [
              0.6666666666666666,
              "#ed7953"
             ],
             [
              0.7777777777777778,
              "#fb9f3a"
             ],
             [
              0.8888888888888888,
              "#fdca26"
             ],
             [
              1,
              "#f0f921"
             ]
            ],
            "type": "histogram2d"
           }
          ],
          "histogram2dcontour": [
           {
            "colorbar": {
             "outlinewidth": 0,
             "ticks": ""
            },
            "colorscale": [
             [
              0,
              "#0d0887"
             ],
             [
              0.1111111111111111,
              "#46039f"
             ],
             [
              0.2222222222222222,
              "#7201a8"
             ],
             [
              0.3333333333333333,
              "#9c179e"
             ],
             [
              0.4444444444444444,
              "#bd3786"
             ],
             [
              0.5555555555555556,
              "#d8576b"
             ],
             [
              0.6666666666666666,
              "#ed7953"
             ],
             [
              0.7777777777777778,
              "#fb9f3a"
             ],
             [
              0.8888888888888888,
              "#fdca26"
             ],
             [
              1,
              "#f0f921"
             ]
            ],
            "type": "histogram2dcontour"
           }
          ],
          "mesh3d": [
           {
            "colorbar": {
             "outlinewidth": 0,
             "ticks": ""
            },
            "type": "mesh3d"
           }
          ],
          "parcoords": [
           {
            "line": {
             "colorbar": {
              "outlinewidth": 0,
              "ticks": ""
             }
            },
            "type": "parcoords"
           }
          ],
          "pie": [
           {
            "automargin": true,
            "type": "pie"
           }
          ],
          "scatter": [
           {
            "fillpattern": {
             "fillmode": "overlay",
             "size": 10,
             "solidity": 0.2
            },
            "type": "scatter"
           }
          ],
          "scatter3d": [
           {
            "line": {
             "colorbar": {
              "outlinewidth": 0,
              "ticks": ""
             }
            },
            "marker": {
             "colorbar": {
              "outlinewidth": 0,
              "ticks": ""
             }
            },
            "type": "scatter3d"
           }
          ],
          "scattercarpet": [
           {
            "marker": {
             "colorbar": {
              "outlinewidth": 0,
              "ticks": ""
             }
            },
            "type": "scattercarpet"
           }
          ],
          "scattergeo": [
           {
            "marker": {
             "colorbar": {
              "outlinewidth": 0,
              "ticks": ""
             }
            },
            "type": "scattergeo"
           }
          ],
          "scattergl": [
           {
            "marker": {
             "colorbar": {
              "outlinewidth": 0,
              "ticks": ""
             }
            },
            "type": "scattergl"
           }
          ],
          "scattermapbox": [
           {
            "marker": {
             "colorbar": {
              "outlinewidth": 0,
              "ticks": ""
             }
            },
            "type": "scattermapbox"
           }
          ],
          "scatterpolar": [
           {
            "marker": {
             "colorbar": {
              "outlinewidth": 0,
              "ticks": ""
             }
            },
            "type": "scatterpolar"
           }
          ],
          "scatterpolargl": [
           {
            "marker": {
             "colorbar": {
              "outlinewidth": 0,
              "ticks": ""
             }
            },
            "type": "scatterpolargl"
           }
          ],
          "scatterternary": [
           {
            "marker": {
             "colorbar": {
              "outlinewidth": 0,
              "ticks": ""
             }
            },
            "type": "scatterternary"
           }
          ],
          "surface": [
           {
            "colorbar": {
             "outlinewidth": 0,
             "ticks": ""
            },
            "colorscale": [
             [
              0,
              "#0d0887"
             ],
             [
              0.1111111111111111,
              "#46039f"
             ],
             [
              0.2222222222222222,
              "#7201a8"
             ],
             [
              0.3333333333333333,
              "#9c179e"
             ],
             [
              0.4444444444444444,
              "#bd3786"
             ],
             [
              0.5555555555555556,
              "#d8576b"
             ],
             [
              0.6666666666666666,
              "#ed7953"
             ],
             [
              0.7777777777777778,
              "#fb9f3a"
             ],
             [
              0.8888888888888888,
              "#fdca26"
             ],
             [
              1,
              "#f0f921"
             ]
            ],
            "type": "surface"
           }
          ],
          "table": [
           {
            "cells": {
             "fill": {
              "color": "#EBF0F8"
             },
             "line": {
              "color": "white"
             }
            },
            "header": {
             "fill": {
              "color": "#C8D4E3"
             },
             "line": {
              "color": "white"
             }
            },
            "type": "table"
           }
          ]
         },
         "layout": {
          "annotationdefaults": {
           "arrowcolor": "#2a3f5f",
           "arrowhead": 0,
           "arrowwidth": 1
          },
          "autotypenumbers": "strict",
          "coloraxis": {
           "colorbar": {
            "outlinewidth": 0,
            "ticks": ""
           }
          },
          "colorscale": {
           "diverging": [
            [
             0,
             "#8e0152"
            ],
            [
             0.1,
             "#c51b7d"
            ],
            [
             0.2,
             "#de77ae"
            ],
            [
             0.3,
             "#f1b6da"
            ],
            [
             0.4,
             "#fde0ef"
            ],
            [
             0.5,
             "#f7f7f7"
            ],
            [
             0.6,
             "#e6f5d0"
            ],
            [
             0.7,
             "#b8e186"
            ],
            [
             0.8,
             "#7fbc41"
            ],
            [
             0.9,
             "#4d9221"
            ],
            [
             1,
             "#276419"
            ]
           ],
           "sequential": [
            [
             0,
             "#0d0887"
            ],
            [
             0.1111111111111111,
             "#46039f"
            ],
            [
             0.2222222222222222,
             "#7201a8"
            ],
            [
             0.3333333333333333,
             "#9c179e"
            ],
            [
             0.4444444444444444,
             "#bd3786"
            ],
            [
             0.5555555555555556,
             "#d8576b"
            ],
            [
             0.6666666666666666,
             "#ed7953"
            ],
            [
             0.7777777777777778,
             "#fb9f3a"
            ],
            [
             0.8888888888888888,
             "#fdca26"
            ],
            [
             1,
             "#f0f921"
            ]
           ],
           "sequentialminus": [
            [
             0,
             "#0d0887"
            ],
            [
             0.1111111111111111,
             "#46039f"
            ],
            [
             0.2222222222222222,
             "#7201a8"
            ],
            [
             0.3333333333333333,
             "#9c179e"
            ],
            [
             0.4444444444444444,
             "#bd3786"
            ],
            [
             0.5555555555555556,
             "#d8576b"
            ],
            [
             0.6666666666666666,
             "#ed7953"
            ],
            [
             0.7777777777777778,
             "#fb9f3a"
            ],
            [
             0.8888888888888888,
             "#fdca26"
            ],
            [
             1,
             "#f0f921"
            ]
           ]
          },
          "colorway": [
           "#636efa",
           "#EF553B",
           "#00cc96",
           "#ab63fa",
           "#FFA15A",
           "#19d3f3",
           "#FF6692",
           "#B6E880",
           "#FF97FF",
           "#FECB52"
          ],
          "font": {
           "color": "#2a3f5f"
          },
          "geo": {
           "bgcolor": "white",
           "lakecolor": "white",
           "landcolor": "white",
           "showlakes": true,
           "showland": true,
           "subunitcolor": "#C8D4E3"
          },
          "hoverlabel": {
           "align": "left"
          },
          "hovermode": "closest",
          "mapbox": {
           "style": "light"
          },
          "paper_bgcolor": "white",
          "plot_bgcolor": "white",
          "polar": {
           "angularaxis": {
            "gridcolor": "#EBF0F8",
            "linecolor": "#EBF0F8",
            "ticks": ""
           },
           "bgcolor": "white",
           "radialaxis": {
            "gridcolor": "#EBF0F8",
            "linecolor": "#EBF0F8",
            "ticks": ""
           }
          },
          "scene": {
           "xaxis": {
            "backgroundcolor": "white",
            "gridcolor": "#DFE8F3",
            "gridwidth": 2,
            "linecolor": "#EBF0F8",
            "showbackground": true,
            "ticks": "",
            "zerolinecolor": "#EBF0F8"
           },
           "yaxis": {
            "backgroundcolor": "white",
            "gridcolor": "#DFE8F3",
            "gridwidth": 2,
            "linecolor": "#EBF0F8",
            "showbackground": true,
            "ticks": "",
            "zerolinecolor": "#EBF0F8"
           },
           "zaxis": {
            "backgroundcolor": "white",
            "gridcolor": "#DFE8F3",
            "gridwidth": 2,
            "linecolor": "#EBF0F8",
            "showbackground": true,
            "ticks": "",
            "zerolinecolor": "#EBF0F8"
           }
          },
          "shapedefaults": {
           "line": {
            "color": "#2a3f5f"
           }
          },
          "ternary": {
           "aaxis": {
            "gridcolor": "#DFE8F3",
            "linecolor": "#A2B1C6",
            "ticks": ""
           },
           "baxis": {
            "gridcolor": "#DFE8F3",
            "linecolor": "#A2B1C6",
            "ticks": ""
           },
           "bgcolor": "white",
           "caxis": {
            "gridcolor": "#DFE8F3",
            "linecolor": "#A2B1C6",
            "ticks": ""
           }
          },
          "title": {
           "x": 0.05
          },
          "xaxis": {
           "automargin": true,
           "gridcolor": "#EBF0F8",
           "linecolor": "#EBF0F8",
           "ticks": "",
           "title": {
            "standoff": 15
           },
           "zerolinecolor": "#EBF0F8",
           "zerolinewidth": 2
          },
          "yaxis": {
           "automargin": true,
           "gridcolor": "#EBF0F8",
           "linecolor": "#EBF0F8",
           "ticks": "",
           "title": {
            "standoff": 15
           },
           "zerolinecolor": "#EBF0F8",
           "zerolinewidth": 2
          }
         }
        },
        "title": {
         "text": "Monthly Profit Analysis"
        },
        "width": 800,
        "xaxis": {
         "anchor": "y",
         "domain": [
          0,
          1
         ],
         "title": {
          "text": "Order Month"
         }
        },
        "yaxis": {
         "anchor": "x",
         "domain": [
          0,
          1
         ],
         "title": {
          "text": "Profit"
         }
        }
       }
      }
     },
     "metadata": {},
     "output_type": "display_data"
    }
   ],
   "source": [
    "# monthly profit analysis\n",
    "profit_by_month = data.groupby('Order Month')['Profit'].sum().reset_index()\n",
    "fig = px.line(profit_by_month, \n",
    "              x='Order Month', \n",
    "              y='Profit', \n",
    "              title='Monthly Profit Analysis',\n",
    "              width=800)\n",
    "fig.show()"
   ]
  },
  {
   "cell_type": "code",
   "execution_count": 8,
   "metadata": {},
   "outputs": [
    {
     "data": {
      "application/vnd.plotly.v1+json": {
       "config": {
        "plotlyServerURL": "https://plot.ly"
       },
       "data": [
        {
         "domain": {
          "x": [
           0,
           1
          ],
          "y": [
           0,
           1
          ]
         },
         "hole": 0.5,
         "hovertemplate": "Category=%{label}<br>Profit=%{value}<extra></extra>",
         "labels": [
          "Furniture",
          "Office Supplies",
          "Technology"
         ],
         "legendgroup": "",
         "name": "",
         "showlegend": true,
         "textinfo": "percent+label",
         "textposition": "inside",
         "type": "pie",
         "values": [
          18451.2728,
          122490.8008,
          145454.9481
         ]
        }
       ],
       "layout": {
        "legend": {
         "tracegroupgap": 0
        },
        "margin": {
         "t": 60
        },
        "piecolorway": [
         "rgb(102, 197, 204)",
         "rgb(246, 207, 113)",
         "rgb(248, 156, 116)",
         "rgb(220, 176, 242)",
         "rgb(135, 197, 95)",
         "rgb(158, 185, 243)",
         "rgb(254, 136, 177)",
         "rgb(201, 219, 116)",
         "rgb(139, 224, 164)",
         "rgb(180, 151, 231)",
         "rgb(179, 179, 179)"
        ],
        "template": {
         "data": {
          "bar": [
           {
            "error_x": {
             "color": "#2a3f5f"
            },
            "error_y": {
             "color": "#2a3f5f"
            },
            "marker": {
             "line": {
              "color": "white",
              "width": 0.5
             },
             "pattern": {
              "fillmode": "overlay",
              "size": 10,
              "solidity": 0.2
             }
            },
            "type": "bar"
           }
          ],
          "barpolar": [
           {
            "marker": {
             "line": {
              "color": "white",
              "width": 0.5
             },
             "pattern": {
              "fillmode": "overlay",
              "size": 10,
              "solidity": 0.2
             }
            },
            "type": "barpolar"
           }
          ],
          "carpet": [
           {
            "aaxis": {
             "endlinecolor": "#2a3f5f",
             "gridcolor": "#C8D4E3",
             "linecolor": "#C8D4E3",
             "minorgridcolor": "#C8D4E3",
             "startlinecolor": "#2a3f5f"
            },
            "baxis": {
             "endlinecolor": "#2a3f5f",
             "gridcolor": "#C8D4E3",
             "linecolor": "#C8D4E3",
             "minorgridcolor": "#C8D4E3",
             "startlinecolor": "#2a3f5f"
            },
            "type": "carpet"
           }
          ],
          "choropleth": [
           {
            "colorbar": {
             "outlinewidth": 0,
             "ticks": ""
            },
            "type": "choropleth"
           }
          ],
          "contour": [
           {
            "colorbar": {
             "outlinewidth": 0,
             "ticks": ""
            },
            "colorscale": [
             [
              0,
              "#0d0887"
             ],
             [
              0.1111111111111111,
              "#46039f"
             ],
             [
              0.2222222222222222,
              "#7201a8"
             ],
             [
              0.3333333333333333,
              "#9c179e"
             ],
             [
              0.4444444444444444,
              "#bd3786"
             ],
             [
              0.5555555555555556,
              "#d8576b"
             ],
             [
              0.6666666666666666,
              "#ed7953"
             ],
             [
              0.7777777777777778,
              "#fb9f3a"
             ],
             [
              0.8888888888888888,
              "#fdca26"
             ],
             [
              1,
              "#f0f921"
             ]
            ],
            "type": "contour"
           }
          ],
          "contourcarpet": [
           {
            "colorbar": {
             "outlinewidth": 0,
             "ticks": ""
            },
            "type": "contourcarpet"
           }
          ],
          "heatmap": [
           {
            "colorbar": {
             "outlinewidth": 0,
             "ticks": ""
            },
            "colorscale": [
             [
              0,
              "#0d0887"
             ],
             [
              0.1111111111111111,
              "#46039f"
             ],
             [
              0.2222222222222222,
              "#7201a8"
             ],
             [
              0.3333333333333333,
              "#9c179e"
             ],
             [
              0.4444444444444444,
              "#bd3786"
             ],
             [
              0.5555555555555556,
              "#d8576b"
             ],
             [
              0.6666666666666666,
              "#ed7953"
             ],
             [
              0.7777777777777778,
              "#fb9f3a"
             ],
             [
              0.8888888888888888,
              "#fdca26"
             ],
             [
              1,
              "#f0f921"
             ]
            ],
            "type": "heatmap"
           }
          ],
          "heatmapgl": [
           {
            "colorbar": {
             "outlinewidth": 0,
             "ticks": ""
            },
            "colorscale": [
             [
              0,
              "#0d0887"
             ],
             [
              0.1111111111111111,
              "#46039f"
             ],
             [
              0.2222222222222222,
              "#7201a8"
             ],
             [
              0.3333333333333333,
              "#9c179e"
             ],
             [
              0.4444444444444444,
              "#bd3786"
             ],
             [
              0.5555555555555556,
              "#d8576b"
             ],
             [
              0.6666666666666666,
              "#ed7953"
             ],
             [
              0.7777777777777778,
              "#fb9f3a"
             ],
             [
              0.8888888888888888,
              "#fdca26"
             ],
             [
              1,
              "#f0f921"
             ]
            ],
            "type": "heatmapgl"
           }
          ],
          "histogram": [
           {
            "marker": {
             "pattern": {
              "fillmode": "overlay",
              "size": 10,
              "solidity": 0.2
             }
            },
            "type": "histogram"
           }
          ],
          "histogram2d": [
           {
            "colorbar": {
             "outlinewidth": 0,
             "ticks": ""
            },
            "colorscale": [
             [
              0,
              "#0d0887"
             ],
             [
              0.1111111111111111,
              "#46039f"
             ],
             [
              0.2222222222222222,
              "#7201a8"
             ],
             [
              0.3333333333333333,
              "#9c179e"
             ],
             [
              0.4444444444444444,
              "#bd3786"
             ],
             [
              0.5555555555555556,
              "#d8576b"
             ],
             [
              0.6666666666666666,
              "#ed7953"
             ],
             [
              0.7777777777777778,
              "#fb9f3a"
             ],
             [
              0.8888888888888888,
              "#fdca26"
             ],
             [
              1,
              "#f0f921"
             ]
            ],
            "type": "histogram2d"
           }
          ],
          "histogram2dcontour": [
           {
            "colorbar": {
             "outlinewidth": 0,
             "ticks": ""
            },
            "colorscale": [
             [
              0,
              "#0d0887"
             ],
             [
              0.1111111111111111,
              "#46039f"
             ],
             [
              0.2222222222222222,
              "#7201a8"
             ],
             [
              0.3333333333333333,
              "#9c179e"
             ],
             [
              0.4444444444444444,
              "#bd3786"
             ],
             [
              0.5555555555555556,
              "#d8576b"
             ],
             [
              0.6666666666666666,
              "#ed7953"
             ],
             [
              0.7777777777777778,
              "#fb9f3a"
             ],
             [
              0.8888888888888888,
              "#fdca26"
             ],
             [
              1,
              "#f0f921"
             ]
            ],
            "type": "histogram2dcontour"
           }
          ],
          "mesh3d": [
           {
            "colorbar": {
             "outlinewidth": 0,
             "ticks": ""
            },
            "type": "mesh3d"
           }
          ],
          "parcoords": [
           {
            "line": {
             "colorbar": {
              "outlinewidth": 0,
              "ticks": ""
             }
            },
            "type": "parcoords"
           }
          ],
          "pie": [
           {
            "automargin": true,
            "type": "pie"
           }
          ],
          "scatter": [
           {
            "fillpattern": {
             "fillmode": "overlay",
             "size": 10,
             "solidity": 0.2
            },
            "type": "scatter"
           }
          ],
          "scatter3d": [
           {
            "line": {
             "colorbar": {
              "outlinewidth": 0,
              "ticks": ""
             }
            },
            "marker": {
             "colorbar": {
              "outlinewidth": 0,
              "ticks": ""
             }
            },
            "type": "scatter3d"
           }
          ],
          "scattercarpet": [
           {
            "marker": {
             "colorbar": {
              "outlinewidth": 0,
              "ticks": ""
             }
            },
            "type": "scattercarpet"
           }
          ],
          "scattergeo": [
           {
            "marker": {
             "colorbar": {
              "outlinewidth": 0,
              "ticks": ""
             }
            },
            "type": "scattergeo"
           }
          ],
          "scattergl": [
           {
            "marker": {
             "colorbar": {
              "outlinewidth": 0,
              "ticks": ""
             }
            },
            "type": "scattergl"
           }
          ],
          "scattermapbox": [
           {
            "marker": {
             "colorbar": {
              "outlinewidth": 0,
              "ticks": ""
             }
            },
            "type": "scattermapbox"
           }
          ],
          "scatterpolar": [
           {
            "marker": {
             "colorbar": {
              "outlinewidth": 0,
              "ticks": ""
             }
            },
            "type": "scatterpolar"
           }
          ],
          "scatterpolargl": [
           {
            "marker": {
             "colorbar": {
              "outlinewidth": 0,
              "ticks": ""
             }
            },
            "type": "scatterpolargl"
           }
          ],
          "scatterternary": [
           {
            "marker": {
             "colorbar": {
              "outlinewidth": 0,
              "ticks": ""
             }
            },
            "type": "scatterternary"
           }
          ],
          "surface": [
           {
            "colorbar": {
             "outlinewidth": 0,
             "ticks": ""
            },
            "colorscale": [
             [
              0,
              "#0d0887"
             ],
             [
              0.1111111111111111,
              "#46039f"
             ],
             [
              0.2222222222222222,
              "#7201a8"
             ],
             [
              0.3333333333333333,
              "#9c179e"
             ],
             [
              0.4444444444444444,
              "#bd3786"
             ],
             [
              0.5555555555555556,
              "#d8576b"
             ],
             [
              0.6666666666666666,
              "#ed7953"
             ],
             [
              0.7777777777777778,
              "#fb9f3a"
             ],
             [
              0.8888888888888888,
              "#fdca26"
             ],
             [
              1,
              "#f0f921"
             ]
            ],
            "type": "surface"
           }
          ],
          "table": [
           {
            "cells": {
             "fill": {
              "color": "#EBF0F8"
             },
             "line": {
              "color": "white"
             }
            },
            "header": {
             "fill": {
              "color": "#C8D4E3"
             },
             "line": {
              "color": "white"
             }
            },
            "type": "table"
           }
          ]
         },
         "layout": {
          "annotationdefaults": {
           "arrowcolor": "#2a3f5f",
           "arrowhead": 0,
           "arrowwidth": 1
          },
          "autotypenumbers": "strict",
          "coloraxis": {
           "colorbar": {
            "outlinewidth": 0,
            "ticks": ""
           }
          },
          "colorscale": {
           "diverging": [
            [
             0,
             "#8e0152"
            ],
            [
             0.1,
             "#c51b7d"
            ],
            [
             0.2,
             "#de77ae"
            ],
            [
             0.3,
             "#f1b6da"
            ],
            [
             0.4,
             "#fde0ef"
            ],
            [
             0.5,
             "#f7f7f7"
            ],
            [
             0.6,
             "#e6f5d0"
            ],
            [
             0.7,
             "#b8e186"
            ],
            [
             0.8,
             "#7fbc41"
            ],
            [
             0.9,
             "#4d9221"
            ],
            [
             1,
             "#276419"
            ]
           ],
           "sequential": [
            [
             0,
             "#0d0887"
            ],
            [
             0.1111111111111111,
             "#46039f"
            ],
            [
             0.2222222222222222,
             "#7201a8"
            ],
            [
             0.3333333333333333,
             "#9c179e"
            ],
            [
             0.4444444444444444,
             "#bd3786"
            ],
            [
             0.5555555555555556,
             "#d8576b"
            ],
            [
             0.6666666666666666,
             "#ed7953"
            ],
            [
             0.7777777777777778,
             "#fb9f3a"
            ],
            [
             0.8888888888888888,
             "#fdca26"
            ],
            [
             1,
             "#f0f921"
            ]
           ],
           "sequentialminus": [
            [
             0,
             "#0d0887"
            ],
            [
             0.1111111111111111,
             "#46039f"
            ],
            [
             0.2222222222222222,
             "#7201a8"
            ],
            [
             0.3333333333333333,
             "#9c179e"
            ],
            [
             0.4444444444444444,
             "#bd3786"
            ],
            [
             0.5555555555555556,
             "#d8576b"
            ],
            [
             0.6666666666666666,
             "#ed7953"
            ],
            [
             0.7777777777777778,
             "#fb9f3a"
            ],
            [
             0.8888888888888888,
             "#fdca26"
            ],
            [
             1,
             "#f0f921"
            ]
           ]
          },
          "colorway": [
           "#636efa",
           "#EF553B",
           "#00cc96",
           "#ab63fa",
           "#FFA15A",
           "#19d3f3",
           "#FF6692",
           "#B6E880",
           "#FF97FF",
           "#FECB52"
          ],
          "font": {
           "color": "#2a3f5f"
          },
          "geo": {
           "bgcolor": "white",
           "lakecolor": "white",
           "landcolor": "white",
           "showlakes": true,
           "showland": true,
           "subunitcolor": "#C8D4E3"
          },
          "hoverlabel": {
           "align": "left"
          },
          "hovermode": "closest",
          "mapbox": {
           "style": "light"
          },
          "paper_bgcolor": "white",
          "plot_bgcolor": "white",
          "polar": {
           "angularaxis": {
            "gridcolor": "#EBF0F8",
            "linecolor": "#EBF0F8",
            "ticks": ""
           },
           "bgcolor": "white",
           "radialaxis": {
            "gridcolor": "#EBF0F8",
            "linecolor": "#EBF0F8",
            "ticks": ""
           }
          },
          "scene": {
           "xaxis": {
            "backgroundcolor": "white",
            "gridcolor": "#DFE8F3",
            "gridwidth": 2,
            "linecolor": "#EBF0F8",
            "showbackground": true,
            "ticks": "",
            "zerolinecolor": "#EBF0F8"
           },
           "yaxis": {
            "backgroundcolor": "white",
            "gridcolor": "#DFE8F3",
            "gridwidth": 2,
            "linecolor": "#EBF0F8",
            "showbackground": true,
            "ticks": "",
            "zerolinecolor": "#EBF0F8"
           },
           "zaxis": {
            "backgroundcolor": "white",
            "gridcolor": "#DFE8F3",
            "gridwidth": 2,
            "linecolor": "#EBF0F8",
            "showbackground": true,
            "ticks": "",
            "zerolinecolor": "#EBF0F8"
           }
          },
          "shapedefaults": {
           "line": {
            "color": "#2a3f5f"
           }
          },
          "ternary": {
           "aaxis": {
            "gridcolor": "#DFE8F3",
            "linecolor": "#A2B1C6",
            "ticks": ""
           },
           "baxis": {
            "gridcolor": "#DFE8F3",
            "linecolor": "#A2B1C6",
            "ticks": ""
           },
           "bgcolor": "white",
           "caxis": {
            "gridcolor": "#DFE8F3",
            "linecolor": "#A2B1C6",
            "ticks": ""
           }
          },
          "title": {
           "x": 0.05
          },
          "xaxis": {
           "automargin": true,
           "gridcolor": "#EBF0F8",
           "linecolor": "#EBF0F8",
           "ticks": "",
           "title": {
            "standoff": 15
           },
           "zerolinecolor": "#EBF0F8",
           "zerolinewidth": 2
          },
          "yaxis": {
           "automargin": true,
           "gridcolor": "#EBF0F8",
           "linecolor": "#EBF0F8",
           "ticks": "",
           "title": {
            "standoff": 15
           },
           "zerolinecolor": "#EBF0F8",
           "zerolinewidth": 2
          }
         }
        },
        "title": {
         "font": {
          "size": 24
         },
         "text": "Profit Analysis by Category"
        },
        "width": 800
       }
      }
     },
     "metadata": {},
     "output_type": "display_data"
    }
   ],
   "source": [
    "# profit analysis by category\n",
    "profit_by_category = data.groupby('Category')['Profit'].sum().reset_index()\n",
    "fig = px.pie(profit_by_category, \n",
    "             values='Profit', \n",
    "             names='Category', \n",
    "             hole=0.5, \n",
    "             color_discrete_sequence=px.colors.qualitative.Pastel,\n",
    "             width=800)\n",
    "\n",
    "fig.update_traces(textposition='inside', textinfo='percent+label')\n",
    "fig.update_layout(title_text='Profit Analysis by Category', title_font=dict(size=24))\n",
    "\n",
    "fig.show()"
   ]
  },
  {
   "cell_type": "code",
   "execution_count": 9,
   "metadata": {},
   "outputs": [
    {
     "data": {
      "application/vnd.plotly.v1+json": {
       "config": {
        "plotlyServerURL": "https://plot.ly"
       },
       "data": [
        {
         "alignmentgroup": "True",
         "hovertemplate": "Sub-Category=%{x}<br>Profit=%{y}<extra></extra>",
         "legendgroup": "",
         "marker": {
          "color": "#636efa",
          "pattern": {
           "shape": ""
          }
         },
         "name": "",
         "offsetgroup": "",
         "orientation": "v",
         "showlegend": false,
         "textposition": "auto",
         "type": "bar",
         "x": [
          "Accessories",
          "Appliances",
          "Art",
          "Binders",
          "Bookcases",
          "Chairs",
          "Copiers",
          "Envelopes",
          "Fasteners",
          "Furnishings",
          "Labels",
          "Machines",
          "Paper",
          "Phones",
          "Storage",
          "Supplies",
          "Tables"
         ],
         "xaxis": "x",
         "y": [
          41936.6357,
          18138.005400000002,
          6527.787,
          30221.7633,
          -3472.556,
          26590.1663,
          55617.8249,
          6964.1767,
          949.5182,
          13059.1436,
          5546.254,
          3384.7569,
          34053.5693,
          44515.7306,
          21278.8264,
          -1189.0995,
          -17725.4811
         ],
         "yaxis": "y"
        }
       ],
       "layout": {
        "barmode": "relative",
        "legend": {
         "tracegroupgap": 0
        },
        "template": {
         "data": {
          "bar": [
           {
            "error_x": {
             "color": "#2a3f5f"
            },
            "error_y": {
             "color": "#2a3f5f"
            },
            "marker": {
             "line": {
              "color": "white",
              "width": 0.5
             },
             "pattern": {
              "fillmode": "overlay",
              "size": 10,
              "solidity": 0.2
             }
            },
            "type": "bar"
           }
          ],
          "barpolar": [
           {
            "marker": {
             "line": {
              "color": "white",
              "width": 0.5
             },
             "pattern": {
              "fillmode": "overlay",
              "size": 10,
              "solidity": 0.2
             }
            },
            "type": "barpolar"
           }
          ],
          "carpet": [
           {
            "aaxis": {
             "endlinecolor": "#2a3f5f",
             "gridcolor": "#C8D4E3",
             "linecolor": "#C8D4E3",
             "minorgridcolor": "#C8D4E3",
             "startlinecolor": "#2a3f5f"
            },
            "baxis": {
             "endlinecolor": "#2a3f5f",
             "gridcolor": "#C8D4E3",
             "linecolor": "#C8D4E3",
             "minorgridcolor": "#C8D4E3",
             "startlinecolor": "#2a3f5f"
            },
            "type": "carpet"
           }
          ],
          "choropleth": [
           {
            "colorbar": {
             "outlinewidth": 0,
             "ticks": ""
            },
            "type": "choropleth"
           }
          ],
          "contour": [
           {
            "colorbar": {
             "outlinewidth": 0,
             "ticks": ""
            },
            "colorscale": [
             [
              0,
              "#0d0887"
             ],
             [
              0.1111111111111111,
              "#46039f"
             ],
             [
              0.2222222222222222,
              "#7201a8"
             ],
             [
              0.3333333333333333,
              "#9c179e"
             ],
             [
              0.4444444444444444,
              "#bd3786"
             ],
             [
              0.5555555555555556,
              "#d8576b"
             ],
             [
              0.6666666666666666,
              "#ed7953"
             ],
             [
              0.7777777777777778,
              "#fb9f3a"
             ],
             [
              0.8888888888888888,
              "#fdca26"
             ],
             [
              1,
              "#f0f921"
             ]
            ],
            "type": "contour"
           }
          ],
          "contourcarpet": [
           {
            "colorbar": {
             "outlinewidth": 0,
             "ticks": ""
            },
            "type": "contourcarpet"
           }
          ],
          "heatmap": [
           {
            "colorbar": {
             "outlinewidth": 0,
             "ticks": ""
            },
            "colorscale": [
             [
              0,
              "#0d0887"
             ],
             [
              0.1111111111111111,
              "#46039f"
             ],
             [
              0.2222222222222222,
              "#7201a8"
             ],
             [
              0.3333333333333333,
              "#9c179e"
             ],
             [
              0.4444444444444444,
              "#bd3786"
             ],
             [
              0.5555555555555556,
              "#d8576b"
             ],
             [
              0.6666666666666666,
              "#ed7953"
             ],
             [
              0.7777777777777778,
              "#fb9f3a"
             ],
             [
              0.8888888888888888,
              "#fdca26"
             ],
             [
              1,
              "#f0f921"
             ]
            ],
            "type": "heatmap"
           }
          ],
          "heatmapgl": [
           {
            "colorbar": {
             "outlinewidth": 0,
             "ticks": ""
            },
            "colorscale": [
             [
              0,
              "#0d0887"
             ],
             [
              0.1111111111111111,
              "#46039f"
             ],
             [
              0.2222222222222222,
              "#7201a8"
             ],
             [
              0.3333333333333333,
              "#9c179e"
             ],
             [
              0.4444444444444444,
              "#bd3786"
             ],
             [
              0.5555555555555556,
              "#d8576b"
             ],
             [
              0.6666666666666666,
              "#ed7953"
             ],
             [
              0.7777777777777778,
              "#fb9f3a"
             ],
             [
              0.8888888888888888,
              "#fdca26"
             ],
             [
              1,
              "#f0f921"
             ]
            ],
            "type": "heatmapgl"
           }
          ],
          "histogram": [
           {
            "marker": {
             "pattern": {
              "fillmode": "overlay",
              "size": 10,
              "solidity": 0.2
             }
            },
            "type": "histogram"
           }
          ],
          "histogram2d": [
           {
            "colorbar": {
             "outlinewidth": 0,
             "ticks": ""
            },
            "colorscale": [
             [
              0,
              "#0d0887"
             ],
             [
              0.1111111111111111,
              "#46039f"
             ],
             [
              0.2222222222222222,
              "#7201a8"
             ],
             [
              0.3333333333333333,
              "#9c179e"
             ],
             [
              0.4444444444444444,
              "#bd3786"
             ],
             [
              0.5555555555555556,
              "#d8576b"
             ],
             [
              0.6666666666666666,
              "#ed7953"
             ],
             [
              0.7777777777777778,
              "#fb9f3a"
             ],
             [
              0.8888888888888888,
              "#fdca26"
             ],
             [
              1,
              "#f0f921"
             ]
            ],
            "type": "histogram2d"
           }
          ],
          "histogram2dcontour": [
           {
            "colorbar": {
             "outlinewidth": 0,
             "ticks": ""
            },
            "colorscale": [
             [
              0,
              "#0d0887"
             ],
             [
              0.1111111111111111,
              "#46039f"
             ],
             [
              0.2222222222222222,
              "#7201a8"
             ],
             [
              0.3333333333333333,
              "#9c179e"
             ],
             [
              0.4444444444444444,
              "#bd3786"
             ],
             [
              0.5555555555555556,
              "#d8576b"
             ],
             [
              0.6666666666666666,
              "#ed7953"
             ],
             [
              0.7777777777777778,
              "#fb9f3a"
             ],
             [
              0.8888888888888888,
              "#fdca26"
             ],
             [
              1,
              "#f0f921"
             ]
            ],
            "type": "histogram2dcontour"
           }
          ],
          "mesh3d": [
           {
            "colorbar": {
             "outlinewidth": 0,
             "ticks": ""
            },
            "type": "mesh3d"
           }
          ],
          "parcoords": [
           {
            "line": {
             "colorbar": {
              "outlinewidth": 0,
              "ticks": ""
             }
            },
            "type": "parcoords"
           }
          ],
          "pie": [
           {
            "automargin": true,
            "type": "pie"
           }
          ],
          "scatter": [
           {
            "fillpattern": {
             "fillmode": "overlay",
             "size": 10,
             "solidity": 0.2
            },
            "type": "scatter"
           }
          ],
          "scatter3d": [
           {
            "line": {
             "colorbar": {
              "outlinewidth": 0,
              "ticks": ""
             }
            },
            "marker": {
             "colorbar": {
              "outlinewidth": 0,
              "ticks": ""
             }
            },
            "type": "scatter3d"
           }
          ],
          "scattercarpet": [
           {
            "marker": {
             "colorbar": {
              "outlinewidth": 0,
              "ticks": ""
             }
            },
            "type": "scattercarpet"
           }
          ],
          "scattergeo": [
           {
            "marker": {
             "colorbar": {
              "outlinewidth": 0,
              "ticks": ""
             }
            },
            "type": "scattergeo"
           }
          ],
          "scattergl": [
           {
            "marker": {
             "colorbar": {
              "outlinewidth": 0,
              "ticks": ""
             }
            },
            "type": "scattergl"
           }
          ],
          "scattermapbox": [
           {
            "marker": {
             "colorbar": {
              "outlinewidth": 0,
              "ticks": ""
             }
            },
            "type": "scattermapbox"
           }
          ],
          "scatterpolar": [
           {
            "marker": {
             "colorbar": {
              "outlinewidth": 0,
              "ticks": ""
             }
            },
            "type": "scatterpolar"
           }
          ],
          "scatterpolargl": [
           {
            "marker": {
             "colorbar": {
              "outlinewidth": 0,
              "ticks": ""
             }
            },
            "type": "scatterpolargl"
           }
          ],
          "scatterternary": [
           {
            "marker": {
             "colorbar": {
              "outlinewidth": 0,
              "ticks": ""
             }
            },
            "type": "scatterternary"
           }
          ],
          "surface": [
           {
            "colorbar": {
             "outlinewidth": 0,
             "ticks": ""
            },
            "colorscale": [
             [
              0,
              "#0d0887"
             ],
             [
              0.1111111111111111,
              "#46039f"
             ],
             [
              0.2222222222222222,
              "#7201a8"
             ],
             [
              0.3333333333333333,
              "#9c179e"
             ],
             [
              0.4444444444444444,
              "#bd3786"
             ],
             [
              0.5555555555555556,
              "#d8576b"
             ],
             [
              0.6666666666666666,
              "#ed7953"
             ],
             [
              0.7777777777777778,
              "#fb9f3a"
             ],
             [
              0.8888888888888888,
              "#fdca26"
             ],
             [
              1,
              "#f0f921"
             ]
            ],
            "type": "surface"
           }
          ],
          "table": [
           {
            "cells": {
             "fill": {
              "color": "#EBF0F8"
             },
             "line": {
              "color": "white"
             }
            },
            "header": {
             "fill": {
              "color": "#C8D4E3"
             },
             "line": {
              "color": "white"
             }
            },
            "type": "table"
           }
          ]
         },
         "layout": {
          "annotationdefaults": {
           "arrowcolor": "#2a3f5f",
           "arrowhead": 0,
           "arrowwidth": 1
          },
          "autotypenumbers": "strict",
          "coloraxis": {
           "colorbar": {
            "outlinewidth": 0,
            "ticks": ""
           }
          },
          "colorscale": {
           "diverging": [
            [
             0,
             "#8e0152"
            ],
            [
             0.1,
             "#c51b7d"
            ],
            [
             0.2,
             "#de77ae"
            ],
            [
             0.3,
             "#f1b6da"
            ],
            [
             0.4,
             "#fde0ef"
            ],
            [
             0.5,
             "#f7f7f7"
            ],
            [
             0.6,
             "#e6f5d0"
            ],
            [
             0.7,
             "#b8e186"
            ],
            [
             0.8,
             "#7fbc41"
            ],
            [
             0.9,
             "#4d9221"
            ],
            [
             1,
             "#276419"
            ]
           ],
           "sequential": [
            [
             0,
             "#0d0887"
            ],
            [
             0.1111111111111111,
             "#46039f"
            ],
            [
             0.2222222222222222,
             "#7201a8"
            ],
            [
             0.3333333333333333,
             "#9c179e"
            ],
            [
             0.4444444444444444,
             "#bd3786"
            ],
            [
             0.5555555555555556,
             "#d8576b"
            ],
            [
             0.6666666666666666,
             "#ed7953"
            ],
            [
             0.7777777777777778,
             "#fb9f3a"
            ],
            [
             0.8888888888888888,
             "#fdca26"
            ],
            [
             1,
             "#f0f921"
            ]
           ],
           "sequentialminus": [
            [
             0,
             "#0d0887"
            ],
            [
             0.1111111111111111,
             "#46039f"
            ],
            [
             0.2222222222222222,
             "#7201a8"
            ],
            [
             0.3333333333333333,
             "#9c179e"
            ],
            [
             0.4444444444444444,
             "#bd3786"
            ],
            [
             0.5555555555555556,
             "#d8576b"
            ],
            [
             0.6666666666666666,
             "#ed7953"
            ],
            [
             0.7777777777777778,
             "#fb9f3a"
            ],
            [
             0.8888888888888888,
             "#fdca26"
            ],
            [
             1,
             "#f0f921"
            ]
           ]
          },
          "colorway": [
           "#636efa",
           "#EF553B",
           "#00cc96",
           "#ab63fa",
           "#FFA15A",
           "#19d3f3",
           "#FF6692",
           "#B6E880",
           "#FF97FF",
           "#FECB52"
          ],
          "font": {
           "color": "#2a3f5f"
          },
          "geo": {
           "bgcolor": "white",
           "lakecolor": "white",
           "landcolor": "white",
           "showlakes": true,
           "showland": true,
           "subunitcolor": "#C8D4E3"
          },
          "hoverlabel": {
           "align": "left"
          },
          "hovermode": "closest",
          "mapbox": {
           "style": "light"
          },
          "paper_bgcolor": "white",
          "plot_bgcolor": "white",
          "polar": {
           "angularaxis": {
            "gridcolor": "#EBF0F8",
            "linecolor": "#EBF0F8",
            "ticks": ""
           },
           "bgcolor": "white",
           "radialaxis": {
            "gridcolor": "#EBF0F8",
            "linecolor": "#EBF0F8",
            "ticks": ""
           }
          },
          "scene": {
           "xaxis": {
            "backgroundcolor": "white",
            "gridcolor": "#DFE8F3",
            "gridwidth": 2,
            "linecolor": "#EBF0F8",
            "showbackground": true,
            "ticks": "",
            "zerolinecolor": "#EBF0F8"
           },
           "yaxis": {
            "backgroundcolor": "white",
            "gridcolor": "#DFE8F3",
            "gridwidth": 2,
            "linecolor": "#EBF0F8",
            "showbackground": true,
            "ticks": "",
            "zerolinecolor": "#EBF0F8"
           },
           "zaxis": {
            "backgroundcolor": "white",
            "gridcolor": "#DFE8F3",
            "gridwidth": 2,
            "linecolor": "#EBF0F8",
            "showbackground": true,
            "ticks": "",
            "zerolinecolor": "#EBF0F8"
           }
          },
          "shapedefaults": {
           "line": {
            "color": "#2a3f5f"
           }
          },
          "ternary": {
           "aaxis": {
            "gridcolor": "#DFE8F3",
            "linecolor": "#A2B1C6",
            "ticks": ""
           },
           "baxis": {
            "gridcolor": "#DFE8F3",
            "linecolor": "#A2B1C6",
            "ticks": ""
           },
           "bgcolor": "white",
           "caxis": {
            "gridcolor": "#DFE8F3",
            "linecolor": "#A2B1C6",
            "ticks": ""
           }
          },
          "title": {
           "x": 0.05
          },
          "xaxis": {
           "automargin": true,
           "gridcolor": "#EBF0F8",
           "linecolor": "#EBF0F8",
           "ticks": "",
           "title": {
            "standoff": 15
           },
           "zerolinecolor": "#EBF0F8",
           "zerolinewidth": 2
          },
          "yaxis": {
           "automargin": true,
           "gridcolor": "#EBF0F8",
           "linecolor": "#EBF0F8",
           "ticks": "",
           "title": {
            "standoff": 15
           },
           "zerolinecolor": "#EBF0F8",
           "zerolinewidth": 2
          }
         }
        },
        "title": {
         "text": "Profit Analysis by Sub-Category"
        },
        "width": 800,
        "xaxis": {
         "anchor": "y",
         "domain": [
          0,
          1
         ],
         "title": {
          "text": "Sub-Category"
         }
        },
        "yaxis": {
         "anchor": "x",
         "domain": [
          0,
          1
         ],
         "title": {
          "text": "Profit"
         }
        }
       }
      }
     },
     "metadata": {},
     "output_type": "display_data"
    }
   ],
   "source": [
    "# profit analysis by sub-category\n",
    "profit_by_subcategory = data.groupby('Sub-Category')['Profit'].sum().reset_index()\n",
    "fig = px.bar(profit_by_subcategory, x='Sub-Category', \n",
    "             y='Profit', \n",
    "             title='Profit Analysis by Sub-Category', \n",
    "             width=800)\n",
    "fig.show()"
   ]
  },
  {
   "cell_type": "code",
   "execution_count": 10,
   "metadata": {},
   "outputs": [
    {
     "data": {
      "text/plain": [
       "array(['Consumer', 'Corporate', 'Home Office'], dtype=object)"
      ]
     },
     "execution_count": 10,
     "metadata": {},
     "output_type": "execute_result"
    }
   ],
   "source": [
    "data['Segment'].unique()"
   ]
  },
  {
   "cell_type": "code",
   "execution_count": 13,
   "metadata": {},
   "outputs": [
    {
     "data": {
      "application/vnd.plotly.v1+json": {
       "config": {
        "plotlyServerURL": "https://plot.ly"
       },
       "data": [
        {
         "marker": {
          "color": "rgb(102, 197, 204)"
         },
         "name": "Sales",
         "type": "bar",
         "x": [
          "Consumer",
          "Corporate",
          "Home Office"
         ],
         "y": [
          1161401.345,
          706146.3668,
          429653.1485
         ]
        },
        {
         "marker": {
          "color": "rgb(246, 207, 113)"
         },
         "name": "Profit",
         "type": "bar",
         "x": [
          "Consumer",
          "Corporate",
          "Home Office"
         ],
         "y": [
          134119.2092,
          91979.134,
          60298.6785
         ]
        }
       ],
       "layout": {
        "template": {
         "data": {
          "bar": [
           {
            "error_x": {
             "color": "#2a3f5f"
            },
            "error_y": {
             "color": "#2a3f5f"
            },
            "marker": {
             "line": {
              "color": "white",
              "width": 0.5
             },
             "pattern": {
              "fillmode": "overlay",
              "size": 10,
              "solidity": 0.2
             }
            },
            "type": "bar"
           }
          ],
          "barpolar": [
           {
            "marker": {
             "line": {
              "color": "white",
              "width": 0.5
             },
             "pattern": {
              "fillmode": "overlay",
              "size": 10,
              "solidity": 0.2
             }
            },
            "type": "barpolar"
           }
          ],
          "carpet": [
           {
            "aaxis": {
             "endlinecolor": "#2a3f5f",
             "gridcolor": "#C8D4E3",
             "linecolor": "#C8D4E3",
             "minorgridcolor": "#C8D4E3",
             "startlinecolor": "#2a3f5f"
            },
            "baxis": {
             "endlinecolor": "#2a3f5f",
             "gridcolor": "#C8D4E3",
             "linecolor": "#C8D4E3",
             "minorgridcolor": "#C8D4E3",
             "startlinecolor": "#2a3f5f"
            },
            "type": "carpet"
           }
          ],
          "choropleth": [
           {
            "colorbar": {
             "outlinewidth": 0,
             "ticks": ""
            },
            "type": "choropleth"
           }
          ],
          "contour": [
           {
            "colorbar": {
             "outlinewidth": 0,
             "ticks": ""
            },
            "colorscale": [
             [
              0,
              "#0d0887"
             ],
             [
              0.1111111111111111,
              "#46039f"
             ],
             [
              0.2222222222222222,
              "#7201a8"
             ],
             [
              0.3333333333333333,
              "#9c179e"
             ],
             [
              0.4444444444444444,
              "#bd3786"
             ],
             [
              0.5555555555555556,
              "#d8576b"
             ],
             [
              0.6666666666666666,
              "#ed7953"
             ],
             [
              0.7777777777777778,
              "#fb9f3a"
             ],
             [
              0.8888888888888888,
              "#fdca26"
             ],
             [
              1,
              "#f0f921"
             ]
            ],
            "type": "contour"
           }
          ],
          "contourcarpet": [
           {
            "colorbar": {
             "outlinewidth": 0,
             "ticks": ""
            },
            "type": "contourcarpet"
           }
          ],
          "heatmap": [
           {
            "colorbar": {
             "outlinewidth": 0,
             "ticks": ""
            },
            "colorscale": [
             [
              0,
              "#0d0887"
             ],
             [
              0.1111111111111111,
              "#46039f"
             ],
             [
              0.2222222222222222,
              "#7201a8"
             ],
             [
              0.3333333333333333,
              "#9c179e"
             ],
             [
              0.4444444444444444,
              "#bd3786"
             ],
             [
              0.5555555555555556,
              "#d8576b"
             ],
             [
              0.6666666666666666,
              "#ed7953"
             ],
             [
              0.7777777777777778,
              "#fb9f3a"
             ],
             [
              0.8888888888888888,
              "#fdca26"
             ],
             [
              1,
              "#f0f921"
             ]
            ],
            "type": "heatmap"
           }
          ],
          "heatmapgl": [
           {
            "colorbar": {
             "outlinewidth": 0,
             "ticks": ""
            },
            "colorscale": [
             [
              0,
              "#0d0887"
             ],
             [
              0.1111111111111111,
              "#46039f"
             ],
             [
              0.2222222222222222,
              "#7201a8"
             ],
             [
              0.3333333333333333,
              "#9c179e"
             ],
             [
              0.4444444444444444,
              "#bd3786"
             ],
             [
              0.5555555555555556,
              "#d8576b"
             ],
             [
              0.6666666666666666,
              "#ed7953"
             ],
             [
              0.7777777777777778,
              "#fb9f3a"
             ],
             [
              0.8888888888888888,
              "#fdca26"
             ],
             [
              1,
              "#f0f921"
             ]
            ],
            "type": "heatmapgl"
           }
          ],
          "histogram": [
           {
            "marker": {
             "pattern": {
              "fillmode": "overlay",
              "size": 10,
              "solidity": 0.2
             }
            },
            "type": "histogram"
           }
          ],
          "histogram2d": [
           {
            "colorbar": {
             "outlinewidth": 0,
             "ticks": ""
            },
            "colorscale": [
             [
              0,
              "#0d0887"
             ],
             [
              0.1111111111111111,
              "#46039f"
             ],
             [
              0.2222222222222222,
              "#7201a8"
             ],
             [
              0.3333333333333333,
              "#9c179e"
             ],
             [
              0.4444444444444444,
              "#bd3786"
             ],
             [
              0.5555555555555556,
              "#d8576b"
             ],
             [
              0.6666666666666666,
              "#ed7953"
             ],
             [
              0.7777777777777778,
              "#fb9f3a"
             ],
             [
              0.8888888888888888,
              "#fdca26"
             ],
             [
              1,
              "#f0f921"
             ]
            ],
            "type": "histogram2d"
           }
          ],
          "histogram2dcontour": [
           {
            "colorbar": {
             "outlinewidth": 0,
             "ticks": ""
            },
            "colorscale": [
             [
              0,
              "#0d0887"
             ],
             [
              0.1111111111111111,
              "#46039f"
             ],
             [
              0.2222222222222222,
              "#7201a8"
             ],
             [
              0.3333333333333333,
              "#9c179e"
             ],
             [
              0.4444444444444444,
              "#bd3786"
             ],
             [
              0.5555555555555556,
              "#d8576b"
             ],
             [
              0.6666666666666666,
              "#ed7953"
             ],
             [
              0.7777777777777778,
              "#fb9f3a"
             ],
             [
              0.8888888888888888,
              "#fdca26"
             ],
             [
              1,
              "#f0f921"
             ]
            ],
            "type": "histogram2dcontour"
           }
          ],
          "mesh3d": [
           {
            "colorbar": {
             "outlinewidth": 0,
             "ticks": ""
            },
            "type": "mesh3d"
           }
          ],
          "parcoords": [
           {
            "line": {
             "colorbar": {
              "outlinewidth": 0,
              "ticks": ""
             }
            },
            "type": "parcoords"
           }
          ],
          "pie": [
           {
            "automargin": true,
            "type": "pie"
           }
          ],
          "scatter": [
           {
            "fillpattern": {
             "fillmode": "overlay",
             "size": 10,
             "solidity": 0.2
            },
            "type": "scatter"
           }
          ],
          "scatter3d": [
           {
            "line": {
             "colorbar": {
              "outlinewidth": 0,
              "ticks": ""
             }
            },
            "marker": {
             "colorbar": {
              "outlinewidth": 0,
              "ticks": ""
             }
            },
            "type": "scatter3d"
           }
          ],
          "scattercarpet": [
           {
            "marker": {
             "colorbar": {
              "outlinewidth": 0,
              "ticks": ""
             }
            },
            "type": "scattercarpet"
           }
          ],
          "scattergeo": [
           {
            "marker": {
             "colorbar": {
              "outlinewidth": 0,
              "ticks": ""
             }
            },
            "type": "scattergeo"
           }
          ],
          "scattergl": [
           {
            "marker": {
             "colorbar": {
              "outlinewidth": 0,
              "ticks": ""
             }
            },
            "type": "scattergl"
           }
          ],
          "scattermapbox": [
           {
            "marker": {
             "colorbar": {
              "outlinewidth": 0,
              "ticks": ""
             }
            },
            "type": "scattermapbox"
           }
          ],
          "scatterpolar": [
           {
            "marker": {
             "colorbar": {
              "outlinewidth": 0,
              "ticks": ""
             }
            },
            "type": "scatterpolar"
           }
          ],
          "scatterpolargl": [
           {
            "marker": {
             "colorbar": {
              "outlinewidth": 0,
              "ticks": ""
             }
            },
            "type": "scatterpolargl"
           }
          ],
          "scatterternary": [
           {
            "marker": {
             "colorbar": {
              "outlinewidth": 0,
              "ticks": ""
             }
            },
            "type": "scatterternary"
           }
          ],
          "surface": [
           {
            "colorbar": {
             "outlinewidth": 0,
             "ticks": ""
            },
            "colorscale": [
             [
              0,
              "#0d0887"
             ],
             [
              0.1111111111111111,
              "#46039f"
             ],
             [
              0.2222222222222222,
              "#7201a8"
             ],
             [
              0.3333333333333333,
              "#9c179e"
             ],
             [
              0.4444444444444444,
              "#bd3786"
             ],
             [
              0.5555555555555556,
              "#d8576b"
             ],
             [
              0.6666666666666666,
              "#ed7953"
             ],
             [
              0.7777777777777778,
              "#fb9f3a"
             ],
             [
              0.8888888888888888,
              "#fdca26"
             ],
             [
              1,
              "#f0f921"
             ]
            ],
            "type": "surface"
           }
          ],
          "table": [
           {
            "cells": {
             "fill": {
              "color": "#EBF0F8"
             },
             "line": {
              "color": "white"
             }
            },
            "header": {
             "fill": {
              "color": "#C8D4E3"
             },
             "line": {
              "color": "white"
             }
            },
            "type": "table"
           }
          ]
         },
         "layout": {
          "annotationdefaults": {
           "arrowcolor": "#2a3f5f",
           "arrowhead": 0,
           "arrowwidth": 1
          },
          "autotypenumbers": "strict",
          "coloraxis": {
           "colorbar": {
            "outlinewidth": 0,
            "ticks": ""
           }
          },
          "colorscale": {
           "diverging": [
            [
             0,
             "#8e0152"
            ],
            [
             0.1,
             "#c51b7d"
            ],
            [
             0.2,
             "#de77ae"
            ],
            [
             0.3,
             "#f1b6da"
            ],
            [
             0.4,
             "#fde0ef"
            ],
            [
             0.5,
             "#f7f7f7"
            ],
            [
             0.6,
             "#e6f5d0"
            ],
            [
             0.7,
             "#b8e186"
            ],
            [
             0.8,
             "#7fbc41"
            ],
            [
             0.9,
             "#4d9221"
            ],
            [
             1,
             "#276419"
            ]
           ],
           "sequential": [
            [
             0,
             "#0d0887"
            ],
            [
             0.1111111111111111,
             "#46039f"
            ],
            [
             0.2222222222222222,
             "#7201a8"
            ],
            [
             0.3333333333333333,
             "#9c179e"
            ],
            [
             0.4444444444444444,
             "#bd3786"
            ],
            [
             0.5555555555555556,
             "#d8576b"
            ],
            [
             0.6666666666666666,
             "#ed7953"
            ],
            [
             0.7777777777777778,
             "#fb9f3a"
            ],
            [
             0.8888888888888888,
             "#fdca26"
            ],
            [
             1,
             "#f0f921"
            ]
           ],
           "sequentialminus": [
            [
             0,
             "#0d0887"
            ],
            [
             0.1111111111111111,
             "#46039f"
            ],
            [
             0.2222222222222222,
             "#7201a8"
            ],
            [
             0.3333333333333333,
             "#9c179e"
            ],
            [
             0.4444444444444444,
             "#bd3786"
            ],
            [
             0.5555555555555556,
             "#d8576b"
            ],
            [
             0.6666666666666666,
             "#ed7953"
            ],
            [
             0.7777777777777778,
             "#fb9f3a"
            ],
            [
             0.8888888888888888,
             "#fdca26"
            ],
            [
             1,
             "#f0f921"
            ]
           ]
          },
          "colorway": [
           "#636efa",
           "#EF553B",
           "#00cc96",
           "#ab63fa",
           "#FFA15A",
           "#19d3f3",
           "#FF6692",
           "#B6E880",
           "#FF97FF",
           "#FECB52"
          ],
          "font": {
           "color": "#2a3f5f"
          },
          "geo": {
           "bgcolor": "white",
           "lakecolor": "white",
           "landcolor": "white",
           "showlakes": true,
           "showland": true,
           "subunitcolor": "#C8D4E3"
          },
          "hoverlabel": {
           "align": "left"
          },
          "hovermode": "closest",
          "mapbox": {
           "style": "light"
          },
          "paper_bgcolor": "white",
          "plot_bgcolor": "white",
          "polar": {
           "angularaxis": {
            "gridcolor": "#EBF0F8",
            "linecolor": "#EBF0F8",
            "ticks": ""
           },
           "bgcolor": "white",
           "radialaxis": {
            "gridcolor": "#EBF0F8",
            "linecolor": "#EBF0F8",
            "ticks": ""
           }
          },
          "scene": {
           "xaxis": {
            "backgroundcolor": "white",
            "gridcolor": "#DFE8F3",
            "gridwidth": 2,
            "linecolor": "#EBF0F8",
            "showbackground": true,
            "ticks": "",
            "zerolinecolor": "#EBF0F8"
           },
           "yaxis": {
            "backgroundcolor": "white",
            "gridcolor": "#DFE8F3",
            "gridwidth": 2,
            "linecolor": "#EBF0F8",
            "showbackground": true,
            "ticks": "",
            "zerolinecolor": "#EBF0F8"
           },
           "zaxis": {
            "backgroundcolor": "white",
            "gridcolor": "#DFE8F3",
            "gridwidth": 2,
            "linecolor": "#EBF0F8",
            "showbackground": true,
            "ticks": "",
            "zerolinecolor": "#EBF0F8"
           }
          },
          "shapedefaults": {
           "line": {
            "color": "#2a3f5f"
           }
          },
          "ternary": {
           "aaxis": {
            "gridcolor": "#DFE8F3",
            "linecolor": "#A2B1C6",
            "ticks": ""
           },
           "baxis": {
            "gridcolor": "#DFE8F3",
            "linecolor": "#A2B1C6",
            "ticks": ""
           },
           "bgcolor": "white",
           "caxis": {
            "gridcolor": "#DFE8F3",
            "linecolor": "#A2B1C6",
            "ticks": ""
           }
          },
          "title": {
           "x": 0.05
          },
          "xaxis": {
           "automargin": true,
           "gridcolor": "#EBF0F8",
           "linecolor": "#EBF0F8",
           "ticks": "",
           "title": {
            "standoff": 15
           },
           "zerolinecolor": "#EBF0F8",
           "zerolinewidth": 2
          },
          "yaxis": {
           "automargin": true,
           "gridcolor": "#EBF0F8",
           "linecolor": "#EBF0F8",
           "ticks": "",
           "title": {
            "standoff": 15
           },
           "zerolinecolor": "#EBF0F8",
           "zerolinewidth": 2
          }
         }
        },
        "title": {
         "text": "Sales and Profit Analysis by Customer Segment"
        },
        "width": 800,
        "xaxis": {
         "title": {
          "text": "Customer Segment"
         }
        },
        "yaxis": {
         "title": {
          "text": "Amount"
         }
        }
       }
      }
     },
     "metadata": {},
     "output_type": "display_data"
    }
   ],
   "source": [
    "# sales and profit analysis by customer segment\n",
    "sales_profit_by_segment = data.groupby('Segment').agg({'Sales': 'sum', 'Profit': 'sum'}).reset_index()\n",
    "# set color palette\n",
    "color_palette = colors.qualitative.Pastel\n",
    "# create figure\n",
    "fig = go.Figure()\n",
    "# add bar plots\n",
    "fig.add_trace(go.Bar(x=sales_profit_by_segment['Segment'], \n",
    "                     y=sales_profit_by_segment['Sales'], \n",
    "                     name='Sales',\n",
    "                     marker_color=color_palette[0]))\n",
    "fig.add_trace(go.Bar(x=sales_profit_by_segment['Segment'], \n",
    "                     y=sales_profit_by_segment['Profit'], \n",
    "                     name='Profit',\n",
    "                     marker_color=color_palette[1]))\n",
    "\n",
    "# set title and axis labels\n",
    "fig.update_layout(title='Sales and Profit Analysis by Customer Segment',\n",
    "                  xaxis_title='Customer Segment', yaxis_title='Amount', width=800)\n",
    "fig.show()"
   ]
  },
  {
   "cell_type": "code",
   "execution_count": 12,
   "metadata": {},
   "outputs": [
    {
     "name": "stdout",
     "output_type": "stream",
     "text": [
      "       Segment  Sales_to_Profit_Ratio\n",
      "0     Consumer               8.659471\n",
      "1    Corporate               7.677245\n",
      "2  Home Office               7.125416\n"
     ]
    }
   ],
   "source": [
    "# calculates the sales-to-profit ratio for each segment \n",
    "sales_profit_by_segment = data.groupby('Segment').agg({'Sales': 'sum', 'Profit': 'sum'}).reset_index()\n",
    "sales_profit_by_segment['Sales_to_Profit_Ratio'] = sales_profit_by_segment['Sales'] / sales_profit_by_segment['Profit']\n",
    "print(sales_profit_by_segment[['Segment', 'Sales_to_Profit_Ratio']])"
   ]
  },
  {
   "cell_type": "code",
   "execution_count": null,
   "metadata": {},
   "outputs": [],
   "source": []
  }
 ],
 "metadata": {
  "kernelspec": {
   "display_name": "Python 3",
   "language": "python",
   "name": "python3"
  },
  "language_info": {
   "codemirror_mode": {
    "name": "ipython",
    "version": 3
   },
   "file_extension": ".py",
   "mimetype": "text/x-python",
   "name": "python",
   "nbconvert_exporter": "python",
   "pygments_lexer": "ipython3",
   "version": "3.10.2"
  },
  "orig_nbformat": 4
 },
 "nbformat": 4,
 "nbformat_minor": 2
}
